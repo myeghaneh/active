{
 "cells": [
  {
   "cell_type": "markdown",
   "metadata": {},
   "source": [
    "## Semantic observational sentences in \"Astronomia nova\" \n",
    " Gerd Graßhoff$^{(1,2)}$, Mohammad Yeghaneh$^{(2)}$\n",
    "\n",
    "1: Max-Planck-Institute for the History of Science, Berlin\n",
    "\n",
    "2: Humboldt University, Berlin\n",
    "\n",
    "Date: Februar 2020"
   ]
  },
  {
   "cell_type": "code",
   "execution_count": 13,
   "metadata": {},
   "outputs": [
    {
     "name": "stdout",
     "output_type": "stream",
     "text": [
      "The autoreload extension is already loaded. To reload it, use:\n",
      "  %reload_ext autoreload\n"
     ]
    }
   ],
   "source": [
    "import pandas as pd\n",
    "import numpy as np\n",
    "%load_ext autoreload\n",
    "%autoreload 2\n",
    "from warnings import filterwarnings\n",
    "filterwarnings('ignore')\n",
    "import random "
   ]
  },
  {
   "cell_type": "code",
   "execution_count": 14,
   "metadata": {},
   "outputs": [],
   "source": [
    "import ipywidgets as widgets\n",
    "from ipywidgets import interact, interact_manual, interactive, HTML\n",
    "import plotly.graph_objs as go"
   ]
  },
  {
   "cell_type": "code",
   "execution_count": 15,
   "metadata": {},
   "outputs": [],
   "source": [
    "options = {\"compact\": True, \"bg\": \"#09a3d5\",\n",
    "           \"color\": \"white\", \"font\": \"Source Sans Pro\",\"collapse_phrases\":False}"
   ]
  },
  {
   "cell_type": "code",
   "execution_count": 16,
   "metadata": {},
   "outputs": [],
   "source": [
    "pd.set_option('display.max_colwidth', -1)\n",
    "pd.set_option('max_colwidth', 1000)"
   ]
  },
  {
   "cell_type": "markdown",
   "metadata": {},
   "source": [
    "## Resources"
   ]
  },
  {
   "cell_type": "markdown",
   "metadata": {},
   "source": [
    "### Import resources *"
   ]
  },
  {
   "cell_type": "code",
   "execution_count": 17,
   "metadata": {},
   "outputs": [],
   "source": [
    "df=pd.read_pickle('../data/dfObsR01V05A02P02.pkl');\n",
    "df=df.sort_index();\n",
    "df=df.reset_index(drop=True)\n",
    "mapping = {\"Obs\":1, \"NObs\":0}\n",
    "df=df.replace({'Label':mapping});"
   ]
  },
  {
   "cell_type": "markdown",
   "metadata": {},
   "source": [
    "# Sentences "
   ]
  },
  {
   "cell_type": "markdown",
   "metadata": {},
   "source": [
    "here we extract the explicit observational sentences using custom Name Entity Recognition that we provided using deep learning. We can see the sentences in the corresponding paragraph. As you see we integrated data with such contributes as follows:\n",
    "\n",
    "- **Chapter**\n",
    "- **ParaIndex**\n",
    "- **SentIndex** \n",
    "- **Paragraph**\n",
    "- **Sentence** \n",
    "- **Entities**\n",
    "- **Label**"
   ]
  },
  {
   "cell_type": "code",
   "execution_count": 18,
   "metadata": {},
   "outputs": [
    {
     "data": {
      "text/html": [
       "<div>\n",
       "<style scoped>\n",
       "    .dataframe tbody tr th:only-of-type {\n",
       "        vertical-align: middle;\n",
       "    }\n",
       "\n",
       "    .dataframe tbody tr th {\n",
       "        vertical-align: top;\n",
       "    }\n",
       "\n",
       "    .dataframe thead th {\n",
       "        text-align: right;\n",
       "    }\n",
       "</style>\n",
       "<table border=\"1\" class=\"dataframe\">\n",
       "  <thead>\n",
       "    <tr style=\"text-align: right;\">\n",
       "      <th></th>\n",
       "      <th>Chapter</th>\n",
       "      <th>ParaIndex</th>\n",
       "      <th>SentIndex</th>\n",
       "      <th>Paragraph</th>\n",
       "      <th>Sentence</th>\n",
       "      <th>Entities</th>\n",
       "      <th>Label</th>\n",
       "    </tr>\n",
       "  </thead>\n",
       "  <tbody>\n",
       "    <tr>\n",
       "      <th>808</th>\n",
       "      <td>15</td>\n",
       "      <td>354</td>\n",
       "      <td>1617</td>\n",
       "      <td>On the night following 1589 April 15 at 12h 5m, the planet was found at 3° 58’ 20“ Scorpio,13 with latitude 1° 4’ 20“ north, decreasing. Mars’s altitude was 22⅕°, where refraction from the table for the fixed stars was zero, and from the table for the sun, 3½’. But the parallax was about twice as great as the sun’s, that is, 6 minutes at the horizon. The degree rising was 24° Sagittarius. Therefore, the nonagesimal was 64° from the zenith, giving a diurnal latitudinal parallax of 5’ 24“. Whether it really was that much will become apparent below, through a careful consideration of latitudes ^14. For there, the northern latitude, free from diurnal parallax (and if there is no refraction), would come out to be 1° 9’ 45“ north. And because the altitude of the nonagesimal is 26°, the longitudinal parallax15 at the horizon is 2’ 38“. But Mars is 40° from the nonagesimal, counting from 4° Scorpio to 24° Virgo, which, under the column  headed 2’ 38“ shows a true longitudinal parallax of 1...</td>\n",
       "      <td>On the night following 1589 April 15 at 12h 5m, the planet was found at 3° 58’ 20“ Scorpio,13 with latitude 1° 4’ 20“ north, decreasing.</td>\n",
       "      <td>[[1589 April 15, DATE], [12h 5m, TIME], [3° 58’ 20“ Scorpio,13, LONG], [latitude, ASTR], [1° 4’ 20“, LONG], [north, ASTR]]</td>\n",
       "      <td>1</td>\n",
       "    </tr>\n",
       "    <tr>\n",
       "      <th>809</th>\n",
       "      <td>15</td>\n",
       "      <td>354</td>\n",
       "      <td>1618</td>\n",
       "      <td>On the night following 1589 April 15 at 12h 5m, the planet was found at 3° 58’ 20“ Scorpio,13 with latitude 1° 4’ 20“ north, decreasing. Mars’s altitude was 22⅕°, where refraction from the table for the fixed stars was zero, and from the table for the sun, 3½’. But the parallax was about twice as great as the sun’s, that is, 6 minutes at the horizon. The degree rising was 24° Sagittarius. Therefore, the nonagesimal was 64° from the zenith, giving a diurnal latitudinal parallax of 5’ 24“. Whether it really was that much will become apparent below, through a careful consideration of latitudes ^14. For there, the northern latitude, free from diurnal parallax (and if there is no refraction), would come out to be 1° 9’ 45“ north. And because the altitude of the nonagesimal is 26°, the longitudinal parallax15 at the horizon is 2’ 38“. But Mars is 40° from the nonagesimal, counting from 4° Scorpio to 24° Virgo, which, under the column  headed 2’ 38“ shows a true longitudinal parallax of 1...</td>\n",
       "      <td>Mars’s altitude was 22⅕°, where refraction from the table for the fixed stars was zero, and from the table for the sun, 3½’.</td>\n",
       "      <td>[[Mars, PLAN], [altitude, ASTR], [refraction, ASTR]]</td>\n",
       "      <td>0</td>\n",
       "    </tr>\n",
       "  </tbody>\n",
       "</table>\n",
       "</div>"
      ],
      "text/plain": [
       "     Chapter  ParaIndex  SentIndex  \\\n",
       "808       15        354       1617   \n",
       "809       15        354       1618   \n",
       "\n",
       "                                                                                                                                                                                                                                                                                                                                                                                                                                                                                                                                                                                                                                                                                                                                                                                                                                                                                                                                                                                                                                   Paragraph  \\\n",
       "808  On the night following 1589 April 15 at 12h 5m, the planet was found at 3° 58’ 20“ Scorpio,13 with latitude 1° 4’ 20“ north, decreasing. Mars’s altitude was 22⅕°, where refraction from the table for the fixed stars was zero, and from the table for the sun, 3½’. But the parallax was about twice as great as the sun’s, that is, 6 minutes at the horizon. The degree rising was 24° Sagittarius. Therefore, the nonagesimal was 64° from the zenith, giving a diurnal latitudinal parallax of 5’ 24“. Whether it really was that much will become apparent below, through a careful consideration of latitudes ^14. For there, the northern latitude, free from diurnal parallax (and if there is no refraction), would come out to be 1° 9’ 45“ north. And because the altitude of the nonagesimal is 26°, the longitudinal parallax15 at the horizon is 2’ 38“. But Mars is 40° from the nonagesimal, counting from 4° Scorpio to 24° Virgo, which, under the column  headed 2’ 38“ shows a true longitudinal parallax of 1...   \n",
       "809  On the night following 1589 April 15 at 12h 5m, the planet was found at 3° 58’ 20“ Scorpio,13 with latitude 1° 4’ 20“ north, decreasing. Mars’s altitude was 22⅕°, where refraction from the table for the fixed stars was zero, and from the table for the sun, 3½’. But the parallax was about twice as great as the sun’s, that is, 6 minutes at the horizon. The degree rising was 24° Sagittarius. Therefore, the nonagesimal was 64° from the zenith, giving a diurnal latitudinal parallax of 5’ 24“. Whether it really was that much will become apparent below, through a careful consideration of latitudes ^14. For there, the northern latitude, free from diurnal parallax (and if there is no refraction), would come out to be 1° 9’ 45“ north. And because the altitude of the nonagesimal is 26°, the longitudinal parallax15 at the horizon is 2’ 38“. But Mars is 40° from the nonagesimal, counting from 4° Scorpio to 24° Virgo, which, under the column  headed 2’ 38“ shows a true longitudinal parallax of 1...   \n",
       "\n",
       "                                                                                                                                     Sentence  \\\n",
       "808  On the night following 1589 April 15 at 12h 5m, the planet was found at 3° 58’ 20“ Scorpio,13 with latitude 1° 4’ 20“ north, decreasing.   \n",
       "809              Mars’s altitude was 22⅕°, where refraction from the table for the fixed stars was zero, and from the table for the sun, 3½’.   \n",
       "\n",
       "                                                                                                                       Entities  \\\n",
       "808  [[1589 April 15, DATE], [12h 5m, TIME], [3° 58’ 20“ Scorpio,13, LONG], [latitude, ASTR], [1° 4’ 20“, LONG], [north, ASTR]]   \n",
       "809                                                                        [[Mars, PLAN], [altitude, ASTR], [refraction, ASTR]]   \n",
       "\n",
       "     Label  \n",
       "808      1  \n",
       "809      0  "
      ]
     },
     "execution_count": 18,
     "metadata": {},
     "output_type": "execute_result"
    }
   ],
   "source": [
    "df[808:810]"
   ]
  },
  {
   "cell_type": "code",
   "execution_count": 22,
   "metadata": {},
   "outputs": [
    {
     "name": "stdout",
     "output_type": "stream",
     "text": [
      "37 observations in the Astronomia Nova\n"
     ]
    }
   ],
   "source": [
    "dfObs=df.loc[df.Label==1]\n",
    "dfObs=dfObs.reset_index(drop=True)\n",
    "sentind=list(dfObs[\"SentIndex\"])\n",
    "print(f\"{len(dfObs)} observations in the Astronomia Nova\")"
   ]
  },
  {
   "cell_type": "markdown",
   "metadata": {},
   "source": [
    "# Filter observational sentences"
   ]
  },
  {
   "cell_type": "code",
   "execution_count": 25,
   "metadata": {},
   "outputs": [
    {
     "data": {
      "application/vnd.jupyter.widget-view+json": {
       "model_id": "f756ec64de814480929ef752c794023c",
       "version_major": 2,
       "version_minor": 0
      },
      "text/plain": [
       "interactive(children=(Dropdown(description='x', options=(967, 977, 984, 992, 997, 1001, 1008, 1012, 1016, 1027…"
      ]
     },
     "metadata": {},
     "output_type": "display_data"
    }
   ],
   "source": [
    "@interact\n",
    "def observations(x=sentind):\n",
    "    return dfObs[dfObs[\"SentIndex\"]==x]"
   ]
  },
  {
   "cell_type": "code",
   "execution_count": 28,
   "metadata": {},
   "outputs": [
    {
     "data": {
<<<<<<< HEAD
      "application/vnd.jupyter.widget-view+json": {
       "model_id": "0923e97acb894535b580474ee63f7b5e",
       "version_major": 2,
       "version_minor": 0
      },
=======
>>>>>>> bca472b78f897032e9b14119f1a61cefabf0b5bc
      "text/plain": [
       "[[['1580 November 12', 'DATE'],\n",
       "  ['10h 50m,1 they', 'TIME'],\n",
       "  ['Mars', 'PLAN'],\n",
       "  ['8° 36’ 50”', 'LONG'],\n",
       "  ['diurnal', 'ASTR']],\n",
       " [['1582 December 28', 'DATE'],\n",
       "  ['11h 30m', 'TIME'],\n",
       "  ['Mars', 'PLAN'],\n",
       "  ['16° 47’ Cancer', 'LONG'],\n",
       "  ['observation', 'ASTR']],\n",
       " [['1585 January 31', 'DATE'],\n",
       "  ['12h 0m', 'TIME'],\n",
       "  ['Mars', 'PLAN'],\n",
       "  ['21° 18’ 11” Leo', 'LONG']],\n",
       " [['1587 March 7', 'DATE'],\n",
       "  ['19h 10m', 'TIME'],\n",
       "  ['Mars', 'PLAN'],\n",
       "  ['25° 10’ 20” Virgo.', 'LONG']],\n",
       " [['1589 April 15', 'DATE'],\n",
       "  ['12h 5m', 'TIME'],\n",
       "  ['Mars', 'PLAN'],\n",
       "  ['3° 58\\' 21\" Scorpio', 'LONG'],\n",
       "  ['longitudinal', 'ASTR'],\n",
       "  ['parallax', 'ASTR'],\n",
       "  ['3° 57’ 11”', 'LONG']],\n",
       " [['1591 June 6', 'DATE'],\n",
       "  ['12h 20m', 'TIME'],\n",
       "  ['Mars', 'PLAN'],\n",
       "  ['27° 15’ Sagittarius', 'LONG']],\n",
       " [['1593 24 August', 'DATE'],\n",
       "  ['10h 30m', 'TIME'],\n",
       "  ['Mars', 'PLAN'],\n",
       "  ['12° 38’ Pisces12', 'LONG'],\n",
       "  ['observed', 'ASTR'],\n",
       "  ['diurnal', 'ASTR'],\n",
       "  ['16’ 45”', 'LONG'],\n",
       "  ['longitudinal', 'ASTR'],\n",
       "  ['parallax', 'ASTR']],\n",
       " [['1595 October 30', 'DATE'],\n",
       "  ['8h 20m', 'TIME'],\n",
       "  ['Mars', 'PLAN'],\n",
       "  ['17° 48’ Taurus', 'LONG'],\n",
       "  ['diurnal', 'ASTR'],\n",
       "  ['22’ 54”', 'LONG']],\n",
       " [['1597 December 10', 'DATE'],\n",
       "  ['8h 30m', 'TIME'],\n",
       "  ['Mars', 'PLAN'],\n",
       "  ['3° 30’ Cancer', 'LONG'],\n",
       "  ['4° 1’ Cancer', 'LONG'],\n",
       "  ['3° 45½’', 'LONG']],\n",
       " [['diurnal', 'ASTR'],\n",
       "  ['23’ 44”', 'LONG'],\n",
       "  ['January 19/29', 'DATE'],\n",
       "  ['9h 40m', 'TIME'],\n",
       "  ['8° 18’ 45” Leo', 'LONG']],\n",
       " [['7h 15m', 'TIME'],\n",
       "  ['December 27', 'DATE'],\n",
       "  ['36° 43’', 'LONG'],\n",
       "  ['Cor Leonis,7', 'STAR'],\n",
       "  ['latitude', 'ASTR'],\n",
       "  ['0° 26½’', 'LONG'],\n",
       "  ['longitude', 'ASTR'],\n",
       "  ['17° 28⅓’', 'LONG'],\n",
       "  ['altitude', 'ASTR'],\n",
       "  ['14° 4’', 'LONG'],\n",
       "  ['refraction', 'ASTR']],\n",
       " [['1583 January 16', 'DATE'],\n",
       "  ['7h 30m', 'TIME'],\n",
       "  ['evening,11', 'ASTR'],\n",
       "  ['Mars', 'PLAN'],\n",
       "  ['23° 29’', 'LONG'],\n",
       "  ['star', 'ASTR'],\n",
       "  ['Erichthonius', 'NAME'],\n",
       "  ['altitude', 'ASTR']],\n",
       " [['January 17', 'DATE'],\n",
       "  ['5h 20m', 'TIME'],\n",
       "  ['Mars', 'PLAN'],\n",
       "  ['23° 16’', 'LONG'],\n",
       "  ['Erichthonius.', 'STAR']],\n",
       " [['January 18', 'DATE'],\n",
       "  ['8h 52m', 'TIME'],\n",
       "  ['44° 22’', 'LONG'],\n",
       "  ['Mars', 'PLAN'],\n",
       "  ['Cor Leonis', 'STAR']],\n",
       " [['January 19', 'DATE'], ['7h 3m', 'TIME'], ['44° 32½’', 'LONG']],\n",
       " [['1590 March 4', 'DATE'],\n",
       "  ['7h 10m', 'TIME'],\n",
       "  ['Mars', 'PLAN'],\n",
       "  ['9° 26’', 'LONG']],\n",
       " [['1592 January 23', 'DATE'],\n",
       "  ['10h 15m', 'TIME'],\n",
       "  ['Mars', 'PLAN'],\n",
       "  ['11° 34’ 30” Aries', 'LONG'],\n",
       "  ['latitude', 'ASTR'],\n",
       "  ['0° 2’', 'LONG'],\n",
       "  ['south', 'ASTR']],\n",
       " [['1595 October 27', 'DATE'],\n",
       "  ['12h 20m', 'TIME'],\n",
       "  ['Mars', 'PLAN'],\n",
       "  ['latitude', 'ASTR'],\n",
       "  ['parallax', 'ASTR'],\n",
       "  ['0° 2’ 20”', 'LONG'],\n",
       "  ['south', 'ASTR']],\n",
       " [['1595 January 4', 'DATE'],\n",
       "  ['Mars', 'PLAN'],\n",
       "  ['observed', 'ASTR'],\n",
       "  ['7h 10m', 'TIME'],\n",
       "  ['altitude', 'ASTR'],\n",
       "  ['Cor Scorpii,10', 'STAR'],\n",
       "  ['observed', 'ASTR'],\n",
       "  ['latitude', 'ASTR'],\n",
       "  ['0° 3’ 46”', 'LONG'],\n",
       "  ['13° 36’ 40” Sagittarius', 'LONG']],\n",
       " [['1588 November 10', 'DATE'],\n",
       "  ['6h 30m', 'TIME'],\n",
       "  ['Mars', 'PLAN'],\n",
       "  ['25° 31’ Virgo', 'LONG'],\n",
       "  ['latitude', 'ASTR'],\n",
       "  ['1° 36’ 45”', 'LONG'],\n",
       "  ['north', 'ASTR']],\n",
       " [['1586 October 22', 'DATE'],\n",
       "  ['6h', 'TIME'],\n",
       "  ['6° 9’', 'LONG'],\n",
       "  ['eastward', 'ASTR'],\n",
       "  ['Mars', 'PLAN'],\n",
       "  ['Cor Leonis', 'STAR']],\n",
       " [['1585 April 26', 'DATE'],\n",
       "  ['9h 42m', 'TIME'],\n",
       "  ['Mars', 'PLAN'],\n",
       "  ['21° 26’ Leo', 'LONG'],\n",
       "  ['latitude', 'ASTR'],\n",
       "  ['1° 49¾’', 'LONG'],\n",
       "  ['north', 'ASTR']],\n",
       " [['1591 October 16', 'DATE'],\n",
       "  ['6h 30m', 'TIME'],\n",
       "  ['Mars', 'PLAN'],\n",
       "  ['1° 27⅓’', 'LONG'],\n",
       "  ['latitude', 'ASTR'],\n",
       "  ['2° 10⅚’', 'LONG'],\n",
       "  ['south', 'ASTR']],\n",
       " [['1580 November 12', 'DATE'],\n",
       "  ['10h 50m', 'TIME'],\n",
       "  ['Mars', 'PLAN'],\n",
       "  ['observed', 'ASTR'],\n",
       "  ['8° 37’ Gemini,3', 'LONG'],\n",
       "  ['1° 55’', 'LONG']],\n",
       " [['1582 December 28', 'DATE'],\n",
       "  ['11h 30m', 'TIME'],\n",
       "  ['Mars', 'PLAN'],\n",
       "  ['observed', 'ASTR'],\n",
       "  ['16° 47’ Cancer,6', 'LONG'],\n",
       "  ['17° 13’ 45“ Capricorn.', 'LONG']],\n",
       " [['1585 January 31', 'DATE'],\n",
       "  ['12h 0m', 'TIME'],\n",
       "  ['Mars', 'PLAN'],\n",
       "  ['observed', 'ASTR'],\n",
       "  ['21° 18’ 11“ Leo', 'LONG']],\n",
       " [['January 30', 'DATE'],\n",
       "  ['19h 14m', 'TIME'],\n",
       "  ['Mars', 'PLAN'],\n",
       "  ['ecliptic', 'ASTR'],\n",
       "  ['21° 36’ 10“ Leo.', 'LONG']],\n",
       " [['observation', 'ASTR'],\n",
       "  ['January 31', 'DATE'],\n",
       "  ['12h', 'TIME'],\n",
       "  ['4° 31’', 'LONG']],\n",
       " [['1587 March 4', 'DATE'],\n",
       "  ['1h 16m', 'TIME'],\n",
       "  ['Mars', 'PLAN'],\n",
       "  ['26° 26’ 17“ Virgo,8', 'LONG'],\n",
       "  ['Cor Leonis9', 'STAR'],\n",
       "  ['observed', 'ASTR'],\n",
       "  ['latitude', 'ASTR'],\n",
       "  ['3° 38’ 16“', 'LONG'],\n",
       "  ['north', 'ASTR']],\n",
       " [['1589 April 15', 'DATE'],\n",
       "  ['12h 5m', 'TIME'],\n",
       "  ['3° 58’ 20“ Scorpio,13', 'LONG'],\n",
       "  ['latitude', 'ASTR'],\n",
       "  ['1° 4’ 20“', 'LONG'],\n",
       "  ['north', 'ASTR']],\n",
       " [['1591 June 6', 'DATE'],\n",
       "  ['12h 20m', 'TIME'],\n",
       "  ['Mars', 'PLAN'],\n",
       "  ['27° 14’ 42“ Sagittarius,16', 'LONG'],\n",
       "  ['latitude', 'ASTR'],\n",
       "  ['3° 55½’', 'LONG'],\n",
       "  ['south', 'ASTR']],\n",
       " [['diurnal', 'ASTR'],\n",
       "  ['57’ 8“', 'LONG'],\n",
       "  ['Mars', 'PLAN'],\n",
       "  ['1° 12’ 24“', 'LONG'],\n",
       "  ['June 10', 'DATE'],\n",
       "  ['11h 50m', 'TIME'],\n",
       "  ['26° 2’ 18“ Sagittarius.', 'LONG']],\n",
       " [['1593 August 24', 'DATE'],\n",
       "  ['10h 30m', 'TIME'],\n",
       "  ['ecliptic', 'ASTR'],\n",
       "  ['Mars', 'PLAN'],\n",
       "  ['12° 38’ Pisces,18', 'LONG'],\n",
       "  ['latitude', 'ASTR'],\n",
       "  ['6° 5’ 30“', 'LONG'],\n",
       "  ['south', 'ASTR']],\n",
       " [['1595 October 30', 'DATE'],\n",
       "  ['8h 20m', 'TIME'],\n",
       "  ['17° 47’ 15“ Taurus,19', 'LONG'],\n",
       "  ['nonagesimal', 'ASTR']],\n",
       " [['Mars', 'PLAN'],\n",
       "  ['1597 December 10', 'DATE'],\n",
       "  ['8h 30m', 'TIME'],\n",
       "  ['3° 45½’', 'LONG']],\n",
       " [['1600 January 13/23', 'DATE'],\n",
       "  ['11h 40m', 'TIME'],\n",
       "  ['Uraniborg', 'NAME'],\n",
       "  ['observed', 'ASTR'],\n",
       "  ['10° 38’ 46“ Leo', 'LONG']],\n",
       " [['February 15', 'DATE'],\n",
       "  ['17h', 'TIME'],\n",
       "  ['12h', 'PARA'],\n",
       "  ['19 hours', 'TIME'],\n",
       "  ['Mars', 'PLAN'],\n",
       "  ['3° 0’', 'LONG'],\n",
       "  ['180', 'PARA'],\n",
       "  ['187', 'PARA']]]"
      ]
     },
     "execution_count": 28,
     "metadata": {},
     "output_type": "execute_result"
    }
   ],
   "source": [
    "list(dfObs[\"Entities\"]"
   ]
  },
  {
   "cell_type": "code",
   "execution_count": null,
   "metadata": {},
   "outputs": [],
   "source": []
  }
 ],
 "metadata": {
  "kernelspec": {
   "display_name": "Python 3",
   "language": "python",
   "name": "python3"
  },
  "language_info": {
   "codemirror_mode": {
    "name": "ipython",
    "version": 3
   },
   "file_extension": ".py",
   "mimetype": "text/x-python",
   "name": "python",
   "nbconvert_exporter": "python",
   "pygments_lexer": "ipython3",
   "version": "3.7.6"
  }
 },
 "nbformat": 4,
 "nbformat_minor": 4
}
