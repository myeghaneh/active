{
 "cells": [
  {
   "cell_type": "markdown",
   "metadata": {},
   "source": [
    "##Anlysis of observational sentences in \"Astronomia nova\" \n",
    " Gerd Graßhoff$^{(1,2)}$, Mohammad Yeghaneh$^{(2)}$\n",
    "\n",
    "1: Max-Planck-Institute for the History of Science, Berlin\n",
    "\n",
    "2: Humboldt University, Berlin\n",
    "\n"
   ]
  },
  {
   "cell_type": "code",
   "execution_count": 12,
   "metadata": {},
   "outputs": [
    {
     "name": "stdout",
     "output_type": "stream",
     "text": [
      "The autoreload extension is already loaded. To reload it, use:\n",
      "  %reload_ext autoreload\n"
     ]
    }
   ],
   "source": [
    "import pandas as pd\n",
    "import numpy as np\n",
    "%load_ext autoreload\n",
    "%autoreload 2\n",
    "import utility_01\n",
    "from utility_01 import *\n",
    "from sklearn.metrics import roc_curve ,roc_auc_score ,precision_recall_curve,auc,confusion_matrix,classification_report\n",
    "from warnings import filterwarnings\n",
    "filterwarnings('ignore')\n",
    "import matplotlib.pyplot as plt\n",
    "import random \n",
    "import ipywidgets as widget\n",
    "from ipywidgets import interact\n",
    "import spacy \n",
    "from spacy import displacy \n",
    "\n",
    "\n"
   ]
  },
  {
   "cell_type": "code",
   "execution_count": 13,
   "metadata": {},
   "outputs": [],
   "source": [
    "options = {\"compact\": True, \"bg\": \"#09a3d5\",\n",
    "           \"color\": \"white\", \"font\": \"Source Sans Pro\",\"collapse_phrases\":False}"
   ]
  },
  {
   "cell_type": "code",
   "execution_count": 14,
   "metadata": {},
   "outputs": [],
   "source": [
    "pd.set_option('display.max_colwidth', -1)\n",
    "pd.set_option('max_colwidth', 1000)\n"
   ]
  },
  {
   "cell_type": "markdown",
   "metadata": {},
   "source": [
    "## Resources"
   ]
  },
  {
   "cell_type": "markdown",
   "metadata": {},
   "source": [
    "### Import resources *"
   ]
  },
  {
   "cell_type": "code",
   "execution_count": 15,
   "metadata": {},
   "outputs": [],
   "source": [
    "# here I have tried citableclass using DOI and It works! after full agreement on the data (part of book) we can use it. Since we can not change it in Zenodo after upload."
   ]
  },
  {
   "cell_type": "code",
   "execution_count": 16,
   "metadata": {},
   "outputs": [],
   "source": [
    "df=pd.read_json('../data/ObsSentsR01V05A02.json');\n",
    "#df=pd.read_pickle('../data/ObsSentsR01V05A02.pkl);\n",
    "df=df.sort_index();\n",
    "df=df.reset_index(drop=True)"
   ]
  },
  {
   "cell_type": "code",
   "execution_count": 22,
   "metadata": {},
   "outputs": [],
   "source": [
    "path= '../data/Model_U27'\n",
    "nlp=spacy.load(path)"
   ]
  },
  {
   "cell_type": "markdown",
   "metadata": {},
   "source": [
    "## Explicit observations in each chapter"
   ]
  },
  {
   "cell_type": "code",
   "execution_count": 17,
   "metadata": {},
   "outputs": [
    {
     "data": {
      "application/vnd.jupyter.widget-view+json": {
       "model_id": "a6f2521d47c542e8b0d1713e44c2c626",
       "version_major": 2,
       "version_minor": 0
      },
      "text/plain": [
       "interactive(children=(Text(value='Chapter', description='column'), IntSlider(value=37, description='x', max=74…"
      ]
     },
     "metadata": {},
     "output_type": "display_data"
    }
   ],
   "source": [
    "@interact\n",
    "def ShowbyChapter( column='Chapter', x=(1,len(df.Chapter))):\n",
    "    return df.loc[df[column]==x ]"
   ]
  },
  {
   "cell_type": "code",
   "execution_count": 18,
   "metadata": {},
   "outputs": [],
   "source": [
    "ObsList=list(df.Sentence)"
   ]
  },
  {
   "cell_type": "code",
   "execution_count": 19,
   "metadata": {},
   "outputs": [
    {
     "data": {
      "text/plain": [
       "74"
      ]
     },
     "execution_count": 19,
     "metadata": {},
     "output_type": "execute_result"
    }
   ],
   "source": [
    "len(ObsList)"
   ]
  },
  {
   "cell_type": "code",
   "execution_count": 20,
   "metadata": {},
   "outputs": [],
   "source": [
    "options={\"ents\": [\"TIME\", \"DATE\",\"PARA\",\"ASTR\",\"LONG\" ,\"STAR\",\"PLAN\",\"NAME\", \"GEOM\"],\"colors\":{\"TIME\":\"CORAL\",\"DATE\":\"TOMATO\",\"PARA\":\"LIGHGRAY\",\"ASTR\":\"AQUA\",\"LONG\":\"MAGENTA\",\"STAR\":\"GREEN\",\"PLAN\":\"LIME\",\"NAME\":\"ROSYBROWN\", \"GEOM\":\"BLUE\"}}"
   ]
  },
  {
   "cell_type": "markdown",
   "metadata": {},
   "source": [
    "# XML format and Interactive Visualization of Named Entity Recognition "
   ]
  },
  {
   "cell_type": "code",
   "execution_count": 23,
   "metadata": {},
   "outputs": [
    {
     "data": {
      "application/vnd.jupyter.widget-view+json": {
       "model_id": "81386d579ef34d2d82d7cabc2b207955",
       "version_major": 2,
       "version_minor": 0
      },
      "text/plain": [
       "interactive(children=(Text(value='SentIndex', description='column'), IntSlider(value=36, description='x', max=…"
      ]
     },
     "metadata": {},
     "output_type": "display_data"
    }
   ],
   "source": [
    "@interact\n",
    "def ShowDetail(column='SentIndex', x=(0,len(df)-1)):\n",
    "    s=df.iloc[x,4];\n",
    "    doc=nlp(s)\n",
    "    displacy.render(doc,style=\"ent\",jupyter=\"True\",options=options )\n",
    "    for ent in reversed(doc.ents):\n",
    "        #print(ent.text, ent.start_char, ent.end_char, ent.label_)\n",
    "        replacement = \"<{}>{}</{}>\".format(ent.label_,ent.text, ent.label_)\n",
    "        position = ent.start_char\n",
    "        length_of_replaced = ent.end_char - ent.start_char \n",
    "        s = s[:position] + replacement + s[position+length_of_replaced:]\n",
    "    return s"
   ]
  },
  {
   "cell_type": "code",
   "execution_count": 24,
   "metadata": {},
   "outputs": [],
   "source": [
    "xml_obs=[]\n",
    "for x in range(0,len(df)-1):\n",
    "    s=df.iloc[x,4];\n",
    "    doc=nlp(s)\n",
    "    for ent in reversed(doc.ents):\n",
    "     #print(ent.text, ent.start_char, ent.end_char, ent.label_)\n",
    "        replacement = \"<{}>{}</{}>\".format(ent.label_,ent.text, ent.label_)\n",
    "        position = ent.start_char\n",
    "        length_of_replaced = ent.end_char - ent.start_char \n",
    "        s = s[:position] + replacement + s[position+length_of_replaced:]\n",
    "    \n",
    "    xml_obs.append(s)\n"
   ]
  },
  {
   "cell_type": "code",
   "execution_count": 25,
   "metadata": {},
   "outputs": [],
   "source": [
    "df_xml = pd.DataFrame(xml_obs,columns=[\"ObsXML\"])"
   ]
  },
  {
   "cell_type": "code",
   "execution_count": 26,
   "metadata": {},
   "outputs": [
    {
     "data": {
      "text/html": [
       "<div>\n",
       "<style scoped>\n",
       "    .dataframe tbody tr th:only-of-type {\n",
       "        vertical-align: middle;\n",
       "    }\n",
       "\n",
       "    .dataframe tbody tr th {\n",
       "        vertical-align: top;\n",
       "    }\n",
       "\n",
       "    .dataframe thead th {\n",
       "        text-align: right;\n",
       "    }\n",
       "</style>\n",
       "<table border=\"1\" class=\"dataframe\">\n",
       "  <thead>\n",
       "    <tr style=\"text-align: right;\">\n",
       "      <th></th>\n",
       "      <th>ObsXML</th>\n",
       "    </tr>\n",
       "  </thead>\n",
       "  <tbody>\n",
       "    <tr>\n",
       "      <td>0</td>\n",
       "      <td>On &lt;DATE&gt;1580 November 12&lt;/DATE&gt; at &lt;TIME&gt;10h&lt;/TIME&gt; 50m,1 they set &lt;PLAN&gt;Mars&lt;/PLAN&gt; down at &lt;LONG&gt;8° 36’ 50” Gemini2&lt;/LONG&gt; without mentioning the horizontal variations,  by which term I wish the &lt;ASTR&gt;diurnal&lt;/ASTR&gt; parallaxes and the refractions to be understood in what follows.</td>\n",
       "    </tr>\n",
       "    <tr>\n",
       "      <td>1</td>\n",
       "      <td>On &lt;DATE&gt;1582 December 28&lt;/DATE&gt; at &lt;TIME&gt;11h 30m&lt;/TIME&gt;, they set &lt;PLAN&gt;Mars&lt;/PLAN&gt; down at &lt;LONG&gt;16° 47’ Cancer&lt;/LONG&gt; by &lt;ASTR&gt;observation&lt;/ASTR&gt; ^6.</td>\n",
       "    </tr>\n",
       "    <tr>\n",
       "      <td>2</td>\n",
       "      <td>On &lt;DATE&gt;1585 January 31&lt;/DATE&gt; at &lt;TIME&gt;12h 0m&lt;/TIME&gt;, &lt;PLAN&gt;Mars&lt;/PLAN&gt; was placed at &lt;LONG&gt;21° 18’ 11” Leo&lt;/LONG&gt; ^8.</td>\n",
       "    </tr>\n",
       "    <tr>\n",
       "      <td>3</td>\n",
       "      <td>On &lt;DATE&gt;1587 March 7&lt;/DATE&gt; at &lt;TIME&gt;19h 10m&lt;/TIME&gt; they deduced the position of &lt;PLAN&gt;Mars&lt;/PLAN&gt; from the observations, which was &lt;LONG&gt;25° 10’ 20” Virgo.&lt;/LONG&gt;</td>\n",
       "    </tr>\n",
       "    <tr>\n",
       "      <td>4</td>\n",
       "      <td>On &lt;DATE&gt;1589 April 15&lt;/DATE&gt; at &lt;TIME&gt;12h 5m&lt;/TIME&gt; they established the position of &lt;PLAN&gt;Mars&lt;/PLAN&gt; very carefully at &lt;LONG&gt;3° 58' 21\" Scorpio&lt;/LONG&gt;, and corrected for &lt;ASTR&gt;longitudinal&lt;/ASTR&gt; &lt;ASTR&gt;parallax&lt;/ASTR&gt; so as to make it &lt;LONG&gt;3° 57’ 11”&lt;/LONG&gt; ^10.</td>\n",
       "    </tr>\n",
       "    <tr>\n",
       "      <td>...</td>\n",
       "      <td>...</td>\n",
       "    </tr>\n",
       "    <tr>\n",
       "      <td>68</td>\n",
       "      <td>On &lt;DATE&gt;1593 August 25&lt;/DATE&gt; at &lt;TIME&gt;17h 27m&lt;/TIME&gt;, &lt;PLAN&gt;Mars&lt;/PLAN&gt; was &lt;ASTR&gt;observed&lt;/ASTR&gt; at &lt;ASTR&gt;opposition&lt;/ASTR&gt; to the sun at &lt;LONG&gt;12° 16' Pisces&lt;/LONG&gt; ^1.</td>\n",
       "    </tr>\n",
       "    <tr>\n",
       "      <td>69</td>\n",
       "      <td>On &lt;DATE&gt;1593 July 21&lt;/DATE&gt; at &lt;TIME&gt;14h&lt;/TIME&gt; (in astronomical terms),4 the planet was &lt;ASTR&gt;observed&lt;/ASTR&gt; at &lt;LONG&gt;17° 45¾'&lt;/LONG&gt; Pisces, with &lt;ASTR&gt;latitude&lt;/ASTR&gt; &lt;LONG&gt;5° 46¼’&lt;/LONG&gt; &lt;ASTR&gt;south&lt;/ASTR&gt; ^5.</td>\n",
       "    </tr>\n",
       "    <tr>\n",
       "      <td>70</td>\n",
       "      <td>For while the &lt;ASTR&gt;opposition&lt;/ASTR&gt; was on the night following &lt;DATE&gt;January 30&lt;/DATE&gt;, the &lt;ASTR&gt;latitude&lt;/ASTR&gt; &lt;ASTR&gt;observed&lt;/ASTR&gt; on the 24th, preceding the &lt;ASTR&gt;opposition&lt;/ASTR&gt;, was &lt;LONG&gt;4° 31'&lt;/LONG&gt;, still increasing, while on &lt;DATE&gt;January 31&lt;/DATE&gt;, &lt;TIME&gt;16 hours&lt;/TIME&gt; past &lt;ASTR&gt;opposition&lt;/ASTR&gt;, the &lt;ASTR&gt;observed&lt;/ASTR&gt; &lt;ASTR&gt;latitude&lt;/ASTR&gt; was again &lt;LONG&gt;4° 31'&lt;/LONG&gt;.</td>\n",
       "    </tr>\n",
       "    <tr>\n",
       "      <td>71</td>\n",
       "      <td>Therefore, at &lt;NAME&gt;Hven&lt;/NAME&gt; in the year of Christ &lt;PARA&gt;139&lt;/PARA&gt; &lt;DATE&gt;May 27&lt;/DATE&gt; at &lt;TIME&gt;6h&lt;/TIME&gt; the mean motion was 8s &lt;LONG&gt;11° 18' 30\"&lt;/LONG&gt;.</td>\n",
       "    </tr>\n",
       "    <tr>\n",
       "      <td>72</td>\n",
       "      <td>In the year of Christ &lt;PARA&gt;139&lt;/PARA&gt; Pharmouthi 9, which is &lt;DATE&gt;February 23&lt;/DATE&gt;, at sunset at &lt;TIME&gt;5h 30m&lt;/TIME&gt;, &lt;TIME&gt;3h 30m&lt;/TIME&gt; at &lt;NAME&gt;Hven&lt;/NAME&gt;, the apparent position of the sun was computed as &lt;LONG&gt;3° 3' Pisces&lt;/LONG&gt;; therefore, the mean position was &lt;LONG&gt;0° 43' Pisces.&lt;/LONG&gt;</td>\n",
       "    </tr>\n",
       "  </tbody>\n",
       "</table>\n",
       "<p>73 rows × 1 columns</p>\n",
       "</div>"
      ],
      "text/plain": [
       "                                                                                                                                                                                                                                                                                                                                                                                                           ObsXML\n",
       "0                                                                                                                     On <DATE>1580 November 12</DATE> at <TIME>10h</TIME> 50m,1 they set <PLAN>Mars</PLAN> down at <LONG>8° 36’ 50” Gemini2</LONG> without mentioning the horizontal variations,  by which term I wish the <ASTR>diurnal</ASTR> parallaxes and the refractions to be understood in what follows.\n",
       "1                                                                                                                                                                                                                                                        On <DATE>1582 December 28</DATE> at <TIME>11h 30m</TIME>, they set <PLAN>Mars</PLAN> down at <LONG>16° 47’ Cancer</LONG> by <ASTR>observation</ASTR> ^6.\n",
       "2                                                                                                                                                                                                                                                                                        On <DATE>1585 January 31</DATE> at <TIME>12h 0m</TIME>, <PLAN>Mars</PLAN> was placed at <LONG>21° 18’ 11” Leo</LONG> ^8.\n",
       "3                                                                                                                                                                                                                                            On <DATE>1587 March 7</DATE> at <TIME>19h 10m</TIME> they deduced the position of <PLAN>Mars</PLAN> from the observations, which was <LONG>25° 10’ 20” Virgo.</LONG>\n",
       "4                                                                                                                                      On <DATE>1589 April 15</DATE> at <TIME>12h 5m</TIME> they established the position of <PLAN>Mars</PLAN> very carefully at <LONG>3° 58' 21\" Scorpio</LONG>, and corrected for <ASTR>longitudinal</ASTR> <ASTR>parallax</ASTR> so as to make it <LONG>3° 57’ 11”</LONG> ^10.\n",
       "..                                                                                                                                                                                                                                                                                                                                                                                                            ...\n",
       "68                                                                                                                                                                                                                                   On <DATE>1593 August 25</DATE> at <TIME>17h 27m</TIME>, <PLAN>Mars</PLAN> was <ASTR>observed</ASTR> at <ASTR>opposition</ASTR> to the sun at <LONG>12° 16' Pisces</LONG> ^1.\n",
       "69                                                                                                                                                                                        On <DATE>1593 July 21</DATE> at <TIME>14h</TIME> (in astronomical terms),4 the planet was <ASTR>observed</ASTR> at <LONG>17° 45¾'</LONG> Pisces, with <ASTR>latitude</ASTR> <LONG>5° 46¼’</LONG> <ASTR>south</ASTR> ^5.\n",
       "70  For while the <ASTR>opposition</ASTR> was on the night following <DATE>January 30</DATE>, the <ASTR>latitude</ASTR> <ASTR>observed</ASTR> on the 24th, preceding the <ASTR>opposition</ASTR>, was <LONG>4° 31'</LONG>, still increasing, while on <DATE>January 31</DATE>, <TIME>16 hours</TIME> past <ASTR>opposition</ASTR>, the <ASTR>observed</ASTR> <ASTR>latitude</ASTR> was again <LONG>4° 31'</LONG>.\n",
       "71                                                                                                                                                                                                                                                 Therefore, at <NAME>Hven</NAME> in the year of Christ <PARA>139</PARA> <DATE>May 27</DATE> at <TIME>6h</TIME> the mean motion was 8s <LONG>11° 18' 30\"</LONG>.\n",
       "72                                                                                                   In the year of Christ <PARA>139</PARA> Pharmouthi 9, which is <DATE>February 23</DATE>, at sunset at <TIME>5h 30m</TIME>, <TIME>3h 30m</TIME> at <NAME>Hven</NAME>, the apparent position of the sun was computed as <LONG>3° 3' Pisces</LONG>; therefore, the mean position was <LONG>0° 43' Pisces.</LONG>\n",
       "\n",
       "[73 rows x 1 columns]"
      ]
     },
     "execution_count": 26,
     "metadata": {},
     "output_type": "execute_result"
    }
   ],
   "source": [
    "df_xml"
   ]
  },
  {
   "cell_type": "code",
   "execution_count": 27,
   "metadata": {},
   "outputs": [],
   "source": [
    "df_xml.to_json(\"ObsXML\")"
   ]
  }
 ],
 "metadata": {
  "kernelspec": {
   "display_name": "Python 3",
   "language": "python",
   "name": "python3"
  },
  "language_info": {
   "codemirror_mode": {
    "name": "ipython",
    "version": 3
   },
   "file_extension": ".py",
   "mimetype": "text/x-python",
   "name": "python",
   "nbconvert_exporter": "python",
   "pygments_lexer": "ipython3",
   "version": "3.7.4"
  }
 },
 "nbformat": 4,
 "nbformat_minor": 4
}
