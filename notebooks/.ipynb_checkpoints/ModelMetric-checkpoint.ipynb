{
 "cells": [
  {
   "cell_type": "markdown",
   "metadata": {},
   "source": [
    "#   Customized Named Entity Recognition (NER)  - Astronomia nova , Kepler\n"
   ]
  },
  {
   "cell_type": "code",
   "execution_count": 45,
   "metadata": {},
   "outputs": [],
   "source": [
    "import pandas as pd\n",
    "import numpy as np\n",
    "import matplotlib.pyplot as plt \n",
    "import ipywidgets as widget\n",
    "from ipywidgets import interact, widgets\n"
   ]
  },
  {
   "cell_type": "code",
   "execution_count": 46,
   "metadata": {},
   "outputs": [],
   "source": [
    "options = {\"compact\": True, \"bg\": \"#09a3d5\",\n",
    "           \"color\": \"white\", \"font\": \"Source Sans Pro\",\"collapse_phrases\":False}"
   ]
  },
  {
   "cell_type": "code",
   "execution_count": 47,
   "metadata": {},
   "outputs": [],
   "source": [
    "pd.set_option('display.max_colwidth', -1)\n",
    "pd.set_option('max_colwidth', 1000)\n"
   ]
  },
  {
   "cell_type": "code",
   "execution_count": 48,
   "metadata": {},
   "outputs": [],
   "source": [
    "dfp=pd.read_pickle('../data/dfV09A02.pkl');\n",
    "#df=pd.read_json('../data/dfV08A02.json');\n",
    "df=dfp.sort_index();\n",
    "df=dfp.reset_index(drop=True)"
   ]
  },
  {
   "cell_type": "code",
   "execution_count": 5,
   "metadata": {},
   "outputs": [],
   "source": [
    "import spacy \n",
    "from spacy import displacy \n",
    "path= '../data/Model_U34'\n",
    "nlp=spacy.load(path)"
   ]
  },
  {
   "cell_type": "markdown",
   "metadata": {},
   "source": [
    "## Chapter"
   ]
  },
  {
   "cell_type": "code",
   "execution_count": 7,
   "metadata": {},
   "outputs": [],
   "source": [
    "options={\"ents\": [\"TIME\", \"DATE\",\"PARA\",\"COOR\" ,\"STAR\",\"PLAN\",\"NAME\", \"GEOM\"],\"colors\":{\"TIME\":\"CORAL\",\"DATE\":\"TOMATO\",\"PARA\":\"LIGHGRAY\",\"COOR\":\"MAGENTA\",\"STAR\":\"GREEN\",\"PLAN\":\"LIME\",\"NAME\":\"ROSYBROWN\", \"GEOM\":\"BLUE\"}}"
   ]
  },
  {
   "cell_type": "code",
   "execution_count": 8,
   "metadata": {},
   "outputs": [
    {
     "data": {
      "application/vnd.jupyter.widget-view+json": {
       "model_id": "210656df718d4ee7ac4ae0e90c80b34a",
       "version_major": 2,
       "version_minor": 0
      },
      "text/plain": [
       "interactive(children=(Text(value='Chapter', description='column'), IntSlider(value=35, description='x', max=70…"
      ]
     },
     "metadata": {},
     "output_type": "display_data"
    }
   ],
   "source": [
    "@interact\n",
    "def ShowbyChapter(column='Chapter', x=(1,len(set(dfp.Chapter))-1)):\n",
    "    dfChapter=df[df.Chapter==x]\n",
    "    text=\" \"\n",
    "    for sent in dfChapter.Sentence:\n",
    "        text +=\" \"+sent\n",
    "    doc=nlp(text)\n",
    "    plt.figure(figsize=(15,10));\n",
    "    labels=list(set([w.label_ for w in doc.ents]))\n",
    "    labels    \n",
    "    value=[]\n",
    "    for label in labels:\n",
    "        value.append(len([ent for ent in doc.ents if ent.label_==label]))\n",
    "    print(labels,value)\n",
    "    fig,ax= plt.subplots(figsize=(16, 10), subplot_kw=dict(aspect=\"equal\"));\n",
    "    recipe = labels\n",
    "    data = value\n",
    "    wedges, texts,junk = ax.pie(data, wedgeprops=dict(width=0.5), startangle=-40,autopct='%1.1f%%');\n",
    "\n",
    "    bbox_props = dict(boxstyle=\"square,pad=0.3\", fc=\"w\", ec=\"k\", lw=1);\n",
    "    kw = dict(arrowprops=dict(arrowstyle=\"-\"),\n",
    "              bbox=bbox_props, zorder=0, va=\"center\");\n",
    "\n",
    "    for i, p in enumerate(wedges):\n",
    "        ang = (p.theta2 - p.theta1)/2. + p.theta1\n",
    "        y = np.sin(np.deg2rad(ang))\n",
    "        a = np.cos(np.deg2rad(ang))\n",
    "        horizontalalignment = {-1: \"right\", 1: \"left\"}[int(np.sign(a))]\n",
    "        connectionstyle = \"angle,angleA=0,angleB={}\".format(ang)\n",
    "        kw[\"arrowprops\"].update({\"connectionstyle\": connectionstyle})\n",
    "        ax.annotate(recipe[i], xy=(a, y), xytext=(1.35*np.sign(a), 1.4*y),\n",
    "                    horizontalalignment=horizontalalignment, **kw)\n",
    "    ax.set_xlabel('Percentage of Entities Over Chapters',size=\"xx-large\");\n",
    "    ax.set_title(\"Chapter\\n\" +str(x),loc='center',size=\"xx-large\");\n",
    "    \n",
    "    plt.show();"
   ]
  },
  {
   "cell_type": "markdown",
   "metadata": {},
   "source": [
    "# Paragraph"
   ]
  },
  {
   "cell_type": "code",
   "execution_count": 80,
   "metadata": {},
   "outputs": [
    {
     "data": {
      "application/vnd.jupyter.widget-view+json": {
       "model_id": "08d5024411ca4e26bf053abac7a9ac3e",
       "version_major": 2,
       "version_minor": 0
      },
      "text/plain": [
       "interactive(children=(Text(value='ParaIndex', description='column'), IntSlider(value=797, description='x', max…"
      ]
     },
     "metadata": {},
     "output_type": "display_data"
    }
   ],
   "source": [
    "@interact\n",
    "def ShowbyParaIndex(column='ParaIndex', x=(1,len(set(df.ParaIndex)))):\n",
    "    dfParagraph=df[df.ParaIndex==x]\n",
    "    text=\" \"\n",
    "    for sent in dfParagraph.Sentence:\n",
    "        text +=\" \"+sent\n",
    "    doc=nlp(text)\n",
    "    plt.figure(figsize=(15,10));\n",
    "    labels=list(set([w.label_ for w in doc.ents]))\n",
    "    labels \n",
    "    if labels!=[]:\n",
    "        value=[]\n",
    "        for label in labels:\n",
    "            value.append(len([ent for ent in doc.ents if ent.label_==label]))\n",
    "        print(labels,value)\n",
    "        fig,ax= plt.subplots(figsize=(16, 10), subplot_kw=dict(aspect=\"equal\"));\n",
    "        recipe = labels\n",
    "        data = value\n",
    "        wedges, texts,junk = ax.pie(data, wedgeprops=dict(width=0.5), startangle=-40,autopct='%1.1f%%');\n",
    "\n",
    "        bbox_props = dict(boxstyle=\"square,pad=0.3\", fc=\"w\", ec=\"k\", lw=1);\n",
    "        kw = dict(arrowprops=dict(arrowstyle=\"-\"),\n",
    "                  bbox=bbox_props, zorder=0, va=\"center\");\n",
    "\n",
    "        for i, p in enumerate(wedges):\n",
    "            ang = (p.theta2 - p.theta1)/2. + p.theta1\n",
    "            y = np.sin(np.deg2rad(ang))\n",
    "            a = np.cos(np.deg2rad(ang))\n",
    "            horizontalalignment = {-1: \"right\", 1: \"left\"}[int(np.sign(a))]\n",
    "            connectionstyle = \"angle,angleA=0,angleB={}\".format(ang)\n",
    "            kw[\"arrowprops\"].update({\"connectionstyle\": connectionstyle})\n",
    "            ax.annotate(recipe[i], xy=(a, y), xytext=(1.35*np.sign(a), 1.4*y),\n",
    "                        horizontalalignment=horizontalalignment, **kw)\n",
    "        ax.set_xlabel('Percentage of Entities Over Paragraph',size=\"xx-large\");\n",
    "        ax.set_title(\"Paragrah\\n\" +str(x),loc='center',size=\"xx-large\");\n",
    "    else: \n",
    "        print(\"No Entities\")               \n",
    "    plt.show();"
   ]
  }
 ],
 "metadata": {
  "kernelspec": {
   "display_name": "Python 3",
   "language": "python",
   "name": "python3"
  },
  "language_info": {
   "codemirror_mode": {
    "name": "ipython",
    "version": 3
   },
   "file_extension": ".py",
   "mimetype": "text/x-python",
   "name": "python",
   "nbconvert_exporter": "python",
   "pygments_lexer": "ipython3",
   "version": "3.7.5"
  }
 },
 "nbformat": 4,
 "nbformat_minor": 4
}
