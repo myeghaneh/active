{
 "cells": [
  {
   "cell_type": "markdown",
   "metadata": {},
   "source": [
    "##  Interactive Similarity Graph of Sentences of   \"Astronomia nova\" (Spacy 2.1.8)\n",
    " Gerd Graßhoff$^{(1,2)}$, Mohammad Yeghaneh$^{(2)}$\n",
    "\n",
    "1: Max-Planck-Institute for the History of Science, Berlin\n",
    "\n",
    "2: Humboldt University, Berlin\n",
    "\n"
   ]
  },
  {
   "cell_type": "code",
   "execution_count": 10,
   "metadata": {},
   "outputs": [
    {
     "name": "stdout",
     "output_type": "stream",
     "text": [
      "The autoreload extension is already loaded. To reload it, use:\n",
      "  %reload_ext autoreload\n"
     ]
    }
   ],
   "source": [
    "import pandas as pd\n",
    "import numpy as np\n",
    "%load_ext autoreload\n",
    "%autoreload 2\n",
    "from warnings import filterwarnings\n",
    "filterwarnings('ignore')\n",
    "import matplotlib.pyplot as plt \n",
    "import ipywidgets as widget\n",
    "from ipywidgets import interact, widgets\n",
    "import networkx as nx\n",
    "from collections import Counter\n",
    "from sklearn.feature_extraction.text import CountVectorizer\n",
    "from sklearn.metrics.pairwise import cosine_similarity\n",
    "import spacy \n",
    "from spacy import displacy"
   ]
  },
  {
   "cell_type": "code",
   "execution_count": 2,
   "metadata": {},
   "outputs": [],
   "source": [
    "options = {\"compact\": True, \"bg\": \"#09a3d5\",\n",
    "           \"color\": \"white\", \"font\": \"Source Sans Pro\",\"collapse_phrases\":False}"
   ]
  },
  {
   "cell_type": "code",
   "execution_count": 3,
   "metadata": {},
   "outputs": [],
   "source": [
    "pd.set_option('display.max_colwidth', -1)\n",
    "pd.set_option('max_colwidth', 1000)\n"
   ]
  },
  {
   "cell_type": "markdown",
   "metadata": {},
   "source": [
    "## Resources"
   ]
  },
  {
   "cell_type": "markdown",
   "metadata": {},
   "source": [
    "### Import resources *"
   ]
  },
  {
   "cell_type": "code",
   "execution_count": 4,
   "metadata": {},
   "outputs": [],
   "source": [
    "# here I have tried citableclass using DOI and It works! after full agreement on the data (part of book) we can use it. Since we can not change it in Zenodo after upload."
   ]
  },
  {
   "cell_type": "code",
   "execution_count": 5,
   "metadata": {},
   "outputs": [],
   "source": [
    "df=pd.read_json('../data/dfV05A02.json');\n",
    "#df=pd.read_pickle('../data/dfV05A02.pkl');\n",
    "df=df.sort_index();\n",
    "df=df.reset_index(drop=True)"
   ]
  },
  {
   "cell_type": "code",
   "execution_count": 6,
   "metadata": {},
   "outputs": [
    {
     "data": {
      "text/plain": [
       "6699"
      ]
     },
     "execution_count": 6,
     "metadata": {},
     "output_type": "execute_result"
    }
   ],
   "source": [
    "len(df)"
   ]
  },
  {
   "cell_type": "markdown",
   "metadata": {},
   "source": [
    "# Explore over Sentences"
   ]
  },
  {
   "cell_type": "code",
   "execution_count": 7,
   "metadata": {},
   "outputs": [
    {
     "data": {
      "application/vnd.jupyter.widget-view+json": {
       "model_id": "a055a7ba3b7d4242b1e5707646d75851",
       "version_major": 2,
       "version_minor": 0
      },
      "text/plain": [
       "interactive(children=(Text(value='SentIndex', description='column'), IntSlider(value=3350, description='x', ma…"
      ]
     },
     "metadata": {},
     "output_type": "display_data"
    }
   ],
   "source": [
    "@interact\n",
    "def ShowbyChapter( column='SentIndex', x=(1,len(df.SentIndex))):\n",
    "    return df.loc[df[column]==x ]"
   ]
  },
  {
   "cell_type": "markdown",
   "metadata": {},
   "source": [
    "# Interactive Sentence Similarity (in progress)"
   ]
  },
  {
   "cell_type": "code",
   "execution_count": 11,
   "metadata": {},
   "outputs": [],
   "source": [
    "nlp = spacy.load(\"en_core_web_sm\")"
   ]
  },
  {
   "cell_type": "code",
   "execution_count": 15,
   "metadata": {},
   "outputs": [],
   "source": [
    "#define the similarity (in progress)\n",
    "\n",
    "\n",
    "#dice similairity\n",
    "def dice_coefficient(a, b):\n",
    "    a_bigrams = set(a)\n",
    "    b_bigrams = set(b)\n",
    "    overlap = len(a_bigrams & b_bigrams)\n",
    "    return overlap * 2.0/(len(a_bigrams) + len(b_bigrams))\n",
    "\n",
    "#cosine similarity\n",
    "    \n",
    "def cos_sim(*strs): \n",
    "    vectors = [t for t in vectorizer(*strs)]\n",
    "    return cosine_similarity(vectors)\n",
    "    \n",
    "def vectorizer(*strs):\n",
    "    text = [t for t in strs]\n",
    "    vectorizer = CountVectorizer(text)\n",
    "    vectorizer.fit(text)\n",
    "    return vectorizer.transform(text).toarray()"
   ]
  },
  {
   "cell_type": "code",
   "execution_count": 16,
   "metadata": {},
   "outputs": [
    {
     "data": {
      "application/vnd.jupyter.widget-view+json": {
       "model_id": "fa8a5ed817d04022b864378085b674e5",
       "version_major": 2,
       "version_minor": 0
      },
      "text/plain": [
       "interactive(children=(Text(value='SentIndex', description='column'), IntSlider(value=3349, description='x', ma…"
      ]
     },
     "metadata": {},
     "output_type": "display_data"
    }
   ],
   "source": [
    "@interact\n",
    "def ShowInteractiveDEP(column='SentIndex', x=(0,len(df)-1)):\n",
    "    Para=df.iloc[x,3];\n",
    "    doc=nlp(Para);\n",
    "    sentences = [sent.string.strip() for sent in doc.sents];\n",
    "    dfSents=pd.DataFrame(sentences);\n",
    "    dfSents.columns = [ \"Sentence\"];\n",
    "    fig = plt.figure()\n",
    "    fig.subplots_adjust(hspace=1)\n",
    "    edges_m1 = [(i,j,dice_coefficient(x,y)) for i,x in enumerate(sentences) for j,y in enumerate(sentences) if i < j];\n",
    "    edges_m2 = [(i,j,cos_sim(x,y)[0,1]) for i,x in enumerate(sentences) for j,y in enumerate(sentences) if i < j];\n",
    "    plt.figure(figsize=(12,12))\n",
    "    G_m1 = nx.Graph()\n",
    "    G_m1.add_edges_from((i,j) for i,j,sim in edges_m1 if sim >= .70)\n",
    "    pos_m1 = nx.spring_layout(G_m1, k = 0.8)\n",
    "    plt.subplot(121)\n",
    "    plt.title(\"Dice similarity graph between sentences\")\n",
    "    nx.draw(G_m1, with_labels=True, node_color='skyblue', node_size=1500, edge_cmap=plt.cm.Blues, pos = pos_m1,font_size=10)\n",
    "    G_m2 = nx.Graph()\n",
    "    G_m2.add_edges_from((i,j) for i,j,sim in edges_m2 if sim >= .70)\n",
    "    pos_m2 = nx.spring_layout(G_m2, k = 0.8)\n",
    "    plt.subplot(122)\n",
    "    plt.title(\"Cosine similarity graph between sentences\")\n",
    "    nx.draw(G_m2, with_labels=True, node_color='red', node_size=1500, edge_cmap=plt.cm.Blues, pos = pos_m2,font_size=10)\n",
    "    plt.show();\n",
    "    return dfSents\n",
    "    \n"
   ]
  },
  {
   "cell_type": "code",
   "execution_count": null,
   "metadata": {},
   "outputs": [],
   "source": []
  }
 ],
 "metadata": {
  "kernelspec": {
   "display_name": "Python 3",
   "language": "python",
   "name": "python3"
  },
  "language_info": {
   "codemirror_mode": {
    "name": "ipython",
    "version": 3
   },
   "file_extension": ".py",
   "mimetype": "text/x-python",
   "name": "python",
   "nbconvert_exporter": "python",
   "pygments_lexer": "ipython3",
   "version": "3.7.4"
  }
 },
 "nbformat": 4,
 "nbformat_minor": 4
}
