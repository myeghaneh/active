{
 "cells": [
  {
   "cell_type": "markdown",
   "metadata": {},
   "source": [
    "## Automatic extraction and classification of explicit observational sentences in \"Astronomia nova\" -(Part2)\n",
    " Gerd Graßhoff$^{(1,2)}$, Mohammad Yeghaneh$^{(2)}$\n",
    "\n",
    "1: Max-Planck-Institute for the History of Science, Berlin\n",
    "\n",
    "2: Humboldt University, Berlin\n",
    "\n",
    "Date: November 2019"
   ]
  },
  {
   "cell_type": "markdown",
   "metadata": {},
   "source": [
    "Kepler's \"New Astronomy (Astronomia Nova)\" was completed and published in Linz in 1609. Buried deep in this, at times very mystical book, is Kepler's first formulation of his first and second laws of planetary motion, which in modern parlance can be stated as follows:\n",
    "*  Planetary orbits are ellipses, with the Sun located at one focus;\n",
    "*  Planets move along their elliptical orbit with a speed such that a line segment joining the planet to the Sun sweeps equal surface areas in equal time intervals.\n",
    "\n",
    "At the same time he reconceptualized \"oppositions\" as based upon the observed, rather than \"average,\" position of the Sun, Kepler analyzed Brahe's individual **observations** of Mars for potential errors of various other kinds. With this introduction observations, sentiments play an important role in tracking the knowledge. This motivates us to:  \n",
    "\n",
    "- Extract the explicit observational sentences of the book using  custom NER model\n",
    "- Provide two models to classify the explicit observational sentences of the book using machine learning #ref"
   ]
  },
  {
   "cell_type": "code",
   "execution_count": 1,
   "metadata": {},
   "outputs": [],
   "source": [
    "import pandas as pd\n",
    "import numpy as np\n",
    "%load_ext autoreload\n",
    "%autoreload 2\n",
    "import utility_01\n",
    "from utility_01 import *\n",
    "from sklearn.metrics import roc_curve ,roc_auc_score ,precision_recall_curve,auc,confusion_matrix,classification_report\n",
    "from warnings import filterwarnings\n",
    "filterwarnings('ignore')\n",
    "import matplotlib.pyplot as plt\n",
    "import random \n",
    "import ipywidgets as widget\n",
    "from ipywidgets import interact, interact_manual\n"
   ]
  },
  {
   "cell_type": "code",
   "execution_count": 2,
   "metadata": {},
   "outputs": [],
   "source": [
    "options = {\"compact\": True, \"bg\": \"#09a3d5\",\n",
    "           \"color\": \"white\", \"font\": \"Source Sans Pro\",\"collapse_phrases\":False}"
   ]
  },
  {
   "cell_type": "code",
   "execution_count": 3,
   "metadata": {},
   "outputs": [],
   "source": [
    "pd.set_option('display.max_colwidth', -1)\n",
    "pd.set_option('max_colwidth', 1000)\n"
   ]
  },
  {
   "cell_type": "markdown",
   "metadata": {},
   "source": [
    "## Resources"
   ]
  },
  {
   "cell_type": "markdown",
   "metadata": {},
   "source": [
    "### Import resources"
   ]
  },
  {
   "cell_type": "markdown",
   "metadata": {},
   "source": [
    "We work with the part of Kepler's \"New Astronomy (Astronomia Nova)\". The  part of text of  can be loaded as .pkl files from the open-access platform [Zenodo](https://zenodo.org/record/3377419#.XWZBMXvgouU). The *Citable* object uses the DOI number of the publication to assign files to an instance and downloads the required files to a local ./data subdirectory."
   ]
  },
  {
   "cell_type": "code",
   "execution_count": 4,
   "metadata": {},
   "outputs": [
    {
     "name": "stderr",
     "output_type": "stream",
     "text": [
      "  % Total    % Received % Xferd  Average Speed   Time    Time     Time  Current\n",
      "                                 Dload  Upload   Total   Spent    Left  Speed\n",
      "\n",
      "  0     0    0     0    0     0      0      0 --:--:-- --:--:-- --:--:--     0\n",
      "100  1969  100  1969    0     0   5625      0 --:--:-- --:--:-- --:--:--  5641\n"
     ]
    }
   ],
   "source": [
    "!curl -O https://raw.githubusercontent.com/grasshoff/tools/master/citable.py\n",
    "from citable import Citable"
   ]
  },
  {
   "cell_type": "markdown",
   "metadata": {},
   "source": [
    "#json \n",
    "AstNovaPart2=Citable('10.5281/zenodo.3543352')\n"
   ]
  },
  {
   "cell_type": "code",
   "execution_count": 5,
   "metadata": {},
   "outputs": [
    {
     "name": "stdout",
     "output_type": "stream",
     "text": [
      "Successfully downloaded and extracted data under https://zenodo.org/api/files/951dfe0f-f743-4988-acc1-627cfe117e3f/dfObsV05A02P02.pkl.zip\n"
     ]
    }
   ],
   "source": [
    "AstNovaPart3=Citable('10.5281/zenodo.3556599')"
   ]
  },
  {
   "cell_type": "code",
   "execution_count": 6,
   "metadata": {},
   "outputs": [
    {
     "data": {
      "text/html": [
       "<div>\n",
       "<style scoped>\n",
       "    .dataframe tbody tr th:only-of-type {\n",
       "        vertical-align: middle;\n",
       "    }\n",
       "\n",
       "    .dataframe tbody tr th {\n",
       "        vertical-align: top;\n",
       "    }\n",
       "\n",
       "    .dataframe thead th {\n",
       "        text-align: right;\n",
       "    }\n",
       "</style>\n",
       "<table border=\"1\" class=\"dataframe\">\n",
       "  <thead>\n",
       "    <tr style=\"text-align: right;\">\n",
       "      <th></th>\n",
       "      <th>Sentence</th>\n",
       "      <th>SentIndex</th>\n",
       "      <th>Chapter</th>\n",
       "      <th>Paragraph</th>\n",
       "      <th>ParaIndex</th>\n",
       "      <th>ASO</th>\n",
       "      <th>Entities</th>\n",
       "      <th>CNER</th>\n",
       "      <th>Label</th>\n",
       "    </tr>\n",
       "  </thead>\n",
       "  <tbody>\n",
       "    <tr>\n",
       "      <th>0</th>\n",
       "      <td>Chapter 7</td>\n",
       "      <td>809</td>\n",
       "      <td>7.0</td>\n",
       "      <td>Chapter 7</td>\n",
       "      <td>167</td>\n",
       "      <td>{'act': 'Chapter'}</td>\n",
       "      <td>[]</td>\n",
       "      <td>[0, 0, 0]</td>\n",
       "      <td>0</td>\n",
       "    </tr>\n",
       "    <tr>\n",
       "      <th>1</th>\n",
       "      <td>The circumstances under which I happened upon the theory of Mars.</td>\n",
       "      <td>810</td>\n",
       "      <td>7.0</td>\n",
       "      <td>The circumstances under which I happened upon the theory of Mars.</td>\n",
       "      <td>168</td>\n",
       "      <td>{'act': 'circumstances'}</td>\n",
       "      <td>[[Mars, PLAN]]</td>\n",
       "      <td>[0, 0, 0]</td>\n",
       "      <td>0</td>\n",
       "    </tr>\n",
       "    <tr>\n",
       "      <th>2</th>\n",
       "      <td>It is true that a divine voice, which enjoins humans to study astronomy, is expressed in the world itself, not in words or syllables, but in things themselves and in the conformity of the human intellect and senses with the sequence of celestial bodies and of their dispositions.</td>\n",
       "      <td>811</td>\n",
       "      <td>7.0</td>\n",
       "      <td>It is true that a divine voice, which enjoins humans to study astronomy, is expressed in the world itself, not in words or syllables, but in things themselves and in the conformity of the human intellect and senses with the sequence of celestial bodies and of their dispositions. Nevertheless, a kind of fate also invisibly drives different individuals to take up different arts, and makes them certain that, just as they are a part of the work of creation, they likewise also partake to some extent in divine providence.</td>\n",
       "      <td>169</td>\n",
       "      <td>{'act': 'is', 'subject': 'it'}</td>\n",
       "      <td>[]</td>\n",
       "      <td>[0, 0, 0]</td>\n",
       "      <td>0</td>\n",
       "    </tr>\n",
       "    <tr>\n",
       "      <th>3</th>\n",
       "      <td>Nevertheless, a kind of fate also invisibly drives different individuals to take up different arts, and makes them certain that, just as they are a part of the work of creation, they likewise also partake to some extent in divine providence.</td>\n",
       "      <td>812</td>\n",
       "      <td>7.0</td>\n",
       "      <td>It is true that a divine voice, which enjoins humans to study astronomy, is expressed in the world itself, not in words or syllables, but in things themselves and in the conformity of the human intellect and senses with the sequence of celestial bodies and of their dispositions. Nevertheless, a kind of fate also invisibly drives different individuals to take up different arts, and makes them certain that, just as they are a part of the work of creation, they likewise also partake to some extent in divine providence.</td>\n",
       "      <td>169</td>\n",
       "      <td>{'act': 'drives', 'subject': 'kind', 'obj': 'different individuals '}</td>\n",
       "      <td>[]</td>\n",
       "      <td>[0, 0, 0]</td>\n",
       "      <td>0</td>\n",
       "    </tr>\n",
       "    <tr>\n",
       "      <th>4</th>\n",
       "      <td>When, in my early years, I was able to taste the sweetness of philosophy, I embraced the whole of it with an overwhelming desire, and with practically no special concern about astronomy.</td>\n",
       "      <td>813</td>\n",
       "      <td>7.0</td>\n",
       "      <td>When, in my early years, I was able to taste the sweetness of philosophy, I embraced the whole of it with an overwhelming desire, and with practically no special concern about astronomy. I certainly had enough intelligence, nor did I have any difficulty understanding the geometrical and astronomical topics included in the normal curriculum, aided as I was by figures, numbers, and proportions. These were, however, required courses, nothing that would bespeak an exceptional inclination towards astronomy. And since I was supported at the expense of the Duke of Württemberg, and saw my comrades, whom the Prince, upon request, kept trying to send to foreign countries, stalling in various ways out of love for their country, I, being hardier, quite maturely agreed with myself that whithersoever I was destined I would promptly go.</td>\n",
       "      <td>170</td>\n",
       "      <td>{'act': 'embraced', 'subject': 'i', 'obj': 'the whole of it '}</td>\n",
       "      <td>[]</td>\n",
       "      <td>[0, 0, 0]</td>\n",
       "      <td>0</td>\n",
       "    </tr>\n",
       "    <tr>\n",
       "      <th>...</th>\n",
       "      <td>...</td>\n",
       "      <td>...</td>\n",
       "      <td>...</td>\n",
       "      <td>...</td>\n",
       "      <td>...</td>\n",
       "      <td>...</td>\n",
       "      <td>...</td>\n",
       "      <td>...</td>\n",
       "      <td>...</td>\n",
       "    </tr>\n",
       "    <tr>\n",
       "      <th>1519</th>\n",
       "      <td>16, or the sun's mean motion and the hypothesis proposed in Ch.</td>\n",
       "      <td>2328</td>\n",
       "      <td>21.0</td>\n",
       "      <td>Up to the present, the hypothesis accounting for the first inequality (in which Brahe and Copernicus are in agreement, both differing somewhat in form from Ptolemy) has been presented using the sun's mean motion, which all three authors had substituted for the sun's apparent motion. Thereafter, it was shown that whether we follow the sun's apparent motion and the hypothesis found in Ch. 16, or the sun's mean motion and the hypothesis proposed in Ch. 8 according to Brahe's revision, in both instances there result false distances of the planet from the center, whether of the sun (for Copernicus and Brahe) or of the world (for Ptolemy). Consequently, what we had previously constructed from the Brahean observations we have later in turn destroyed using other observations of his. This was the necessary consequence of our having followed (in imitation of previous theorists) several things that were plausible but really false.</td>\n",
       "      <td>482</td>\n",
       "      <td>{'act': '16'}</td>\n",
       "      <td>[]</td>\n",
       "      <td>[0, 0, 0]</td>\n",
       "      <td>0</td>\n",
       "    </tr>\n",
       "    <tr>\n",
       "      <th>1520</th>\n",
       "      <td>8 according to Brahe's revision, in both instances there result false distances of the planet from the center, whether of the sun (for Copernicus and Brahe) or of the world (for Ptolemy).</td>\n",
       "      <td>2329</td>\n",
       "      <td>21.0</td>\n",
       "      <td>Up to the present, the hypothesis accounting for the first inequality (in which Brahe and Copernicus are in agreement, both differing somewhat in form from Ptolemy) has been presented using the sun's mean motion, which all three authors had substituted for the sun's apparent motion. Thereafter, it was shown that whether we follow the sun's apparent motion and the hypothesis found in Ch. 16, or the sun's mean motion and the hypothesis proposed in Ch. 8 according to Brahe's revision, in both instances there result false distances of the planet from the center, whether of the sun (for Copernicus and Brahe) or of the world (for Ptolemy). Consequently, what we had previously constructed from the Brahean observations we have later in turn destroyed using other observations of his. This was the necessary consequence of our having followed (in imitation of previous theorists) several things that were plausible but really false.</td>\n",
       "      <td>482</td>\n",
       "      <td>{'act': 'result', 'obj': 'false distances of the planet from the center, whether of the sun (for Copernicus and Brahe) or of the world (for Ptolemy)'}</td>\n",
       "      <td>[[Copernicus, NAME]]</td>\n",
       "      <td>[0, 0, 0]</td>\n",
       "      <td>0</td>\n",
       "    </tr>\n",
       "    <tr>\n",
       "      <th>1521</th>\n",
       "      <td>Consequently, what we had previously constructed from the Brahean observations we have later in turn destroyed using other observations of his.</td>\n",
       "      <td>2330</td>\n",
       "      <td>21.0</td>\n",
       "      <td>Up to the present, the hypothesis accounting for the first inequality (in which Brahe and Copernicus are in agreement, both differing somewhat in form from Ptolemy) has been presented using the sun's mean motion, which all three authors had substituted for the sun's apparent motion. Thereafter, it was shown that whether we follow the sun's apparent motion and the hypothesis found in Ch. 16, or the sun's mean motion and the hypothesis proposed in Ch. 8 according to Brahe's revision, in both instances there result false distances of the planet from the center, whether of the sun (for Copernicus and Brahe) or of the world (for Ptolemy). Consequently, what we had previously constructed from the Brahean observations we have later in turn destroyed using other observations of his. This was the necessary consequence of our having followed (in imitation of previous theorists) several things that were plausible but really false.</td>\n",
       "      <td>482</td>\n",
       "      <td>{'act': 'destroyed'}</td>\n",
       "      <td>[[Brahean, NAME]]</td>\n",
       "      <td>[0, 0, 0]</td>\n",
       "      <td>0</td>\n",
       "    </tr>\n",
       "    <tr>\n",
       "      <th>1522</th>\n",
       "      <td>This was the necessary consequence of our having followed (in imitation of previous theorists) several things that were plausible but really false.</td>\n",
       "      <td>2331</td>\n",
       "      <td>21.0</td>\n",
       "      <td>Up to the present, the hypothesis accounting for the first inequality (in which Brahe and Copernicus are in agreement, both differing somewhat in form from Ptolemy) has been presented using the sun's mean motion, which all three authors had substituted for the sun's apparent motion. Thereafter, it was shown that whether we follow the sun's apparent motion and the hypothesis found in Ch. 16, or the sun's mean motion and the hypothesis proposed in Ch. 8 according to Brahe's revision, in both instances there result false distances of the planet from the center, whether of the sun (for Copernicus and Brahe) or of the world (for Ptolemy). Consequently, what we had previously constructed from the Brahean observations we have later in turn destroyed using other observations of his. This was the necessary consequence of our having followed (in imitation of previous theorists) several things that were plausible but really false.</td>\n",
       "      <td>482</td>\n",
       "      <td>{'act': 'was', 'subject': 'this'}</td>\n",
       "      <td>[]</td>\n",
       "      <td>[0, 0, 0]</td>\n",
       "      <td>0</td>\n",
       "    </tr>\n",
       "    <tr>\n",
       "      <th>1523</th>\n",
       "      <td>And this much of the work is dedicated to this imitation of previous theorists, with which I am concluding this second part of the Commentaries.</td>\n",
       "      <td>2332</td>\n",
       "      <td>21.0</td>\n",
       "      <td>And this much of the work is dedicated to this imitation of previous theorists, with which I am concluding this second part of the Commentaries.</td>\n",
       "      <td>483</td>\n",
       "      <td>{'act': 'dedicated'}</td>\n",
       "      <td>[]</td>\n",
       "      <td>[0, 0, 0]</td>\n",
       "      <td>0</td>\n",
       "    </tr>\n",
       "  </tbody>\n",
       "</table>\n",
       "<p>1524 rows × 9 columns</p>\n",
       "</div>"
      ],
      "text/plain": [
       "                                                                                                                                                                                                                                                                                     Sentence  \\\n",
       "0                                                                                                                                                                                                                                                                                   Chapter 7   \n",
       "1                                                                                                                                                                                                                           The circumstances under which I happened upon the theory of Mars.   \n",
       "2     It is true that a divine voice, which enjoins humans to study astronomy, is expressed in the world itself, not in words or syllables, but in things themselves and in the conformity of the human intellect and senses with the sequence of celestial bodies and of their dispositions.   \n",
       "3                                           Nevertheless, a kind of fate also invisibly drives different individuals to take up different arts, and makes them certain that, just as they are a part of the work of creation, they likewise also partake to some extent in divine providence.   \n",
       "4                                                                                                  When, in my early years, I was able to taste the sweetness of philosophy, I embraced the whole of it with an overwhelming desire, and with practically no special concern about astronomy.   \n",
       "...                                                                                                                                                                                                                                                                                       ...   \n",
       "1519                                                                                                                                                                                                                          16, or the sun's mean motion and the hypothesis proposed in Ch.   \n",
       "1520                                                                                              8 according to Brahe's revision, in both instances there result false distances of the planet from the center, whether of the sun (for Copernicus and Brahe) or of the world (for Ptolemy).   \n",
       "1521                                                                                                                                          Consequently, what we had previously constructed from the Brahean observations we have later in turn destroyed using other observations of his.   \n",
       "1522                                                                                                                                      This was the necessary consequence of our having followed (in imitation of previous theorists) several things that were plausible but really false.   \n",
       "1523                                                                                                                                         And this much of the work is dedicated to this imitation of previous theorists, with which I am concluding this second part of the Commentaries.   \n",
       "\n",
       "      SentIndex  Chapter  \\\n",
       "0           809      7.0   \n",
       "1           810      7.0   \n",
       "2           811      7.0   \n",
       "3           812      7.0   \n",
       "4           813      7.0   \n",
       "...         ...      ...   \n",
       "1519       2328     21.0   \n",
       "1520       2329     21.0   \n",
       "1521       2330     21.0   \n",
       "1522       2331     21.0   \n",
       "1523       2332     21.0   \n",
       "\n",
       "                                                                                                                                                                                                                                                                                                                                                                                                                                                                                                                                                                                                                                                                                                                                                                                                                                                                                                                                                                  Paragraph  \\\n",
       "0                                                                                                                                                                                                                                                                                                                                                                                                                                                                                                                                                                                                                                                                                                                                                                                                                                                                                                                                                                Chapter 7    \n",
       "1                                                                                                                                                                                                                                                                                                                                                                                                                                                                                                                                                                                                                                                                                                                                                                                                                                                                                                         The circumstances under which I happened upon the theory of Mars.   \n",
       "2                                                                                                                                                                                                                                                                                                                                                                                                                                 It is true that a divine voice, which enjoins humans to study astronomy, is expressed in the world itself, not in words or syllables, but in things themselves and in the conformity of the human intellect and senses with the sequence of celestial bodies and of their dispositions. Nevertheless, a kind of fate also invisibly drives different individuals to take up different arts, and makes them certain that, just as they are a part of the work of creation, they likewise also partake to some extent in divine providence.   \n",
       "3                                                                                                                                                                                                                                                                                                                                                                                                                                 It is true that a divine voice, which enjoins humans to study astronomy, is expressed in the world itself, not in words or syllables, but in things themselves and in the conformity of the human intellect and senses with the sequence of celestial bodies and of their dispositions. Nevertheless, a kind of fate also invisibly drives different individuals to take up different arts, and makes them certain that, just as they are a part of the work of creation, they likewise also partake to some extent in divine providence.   \n",
       "4                                                                                                         When, in my early years, I was able to taste the sweetness of philosophy, I embraced the whole of it with an overwhelming desire, and with practically no special concern about astronomy. I certainly had enough intelligence, nor did I have any difficulty understanding the geometrical and astronomical topics included in the normal curriculum, aided as I was by figures, numbers, and proportions. These were, however, required courses, nothing that would bespeak an exceptional inclination towards astronomy. And since I was supported at the expense of the Duke of Württemberg, and saw my comrades, whom the Prince, upon request, kept trying to send to foreign countries, stalling in various ways out of love for their country, I, being hardier, quite maturely agreed with myself that whithersoever I was destined I would promptly go.   \n",
       "...                                                                                                                                                                                                                                                                                                                                                                                                                                                                                                                                                                                                                                                                                                                                                                                                                                                                                                                                                                     ...   \n",
       "1519  Up to the present, the hypothesis accounting for the first inequality (in which Brahe and Copernicus are in agreement, both differing somewhat in form from Ptolemy) has been presented using the sun's mean motion, which all three authors had substituted for the sun's apparent motion. Thereafter, it was shown that whether we follow the sun's apparent motion and the hypothesis found in Ch. 16, or the sun's mean motion and the hypothesis proposed in Ch. 8 according to Brahe's revision, in both instances there result false distances of the planet from the center, whether of the sun (for Copernicus and Brahe) or of the world (for Ptolemy). Consequently, what we had previously constructed from the Brahean observations we have later in turn destroyed using other observations of his. This was the necessary consequence of our having followed (in imitation of previous theorists) several things that were plausible but really false.   \n",
       "1520  Up to the present, the hypothesis accounting for the first inequality (in which Brahe and Copernicus are in agreement, both differing somewhat in form from Ptolemy) has been presented using the sun's mean motion, which all three authors had substituted for the sun's apparent motion. Thereafter, it was shown that whether we follow the sun's apparent motion and the hypothesis found in Ch. 16, or the sun's mean motion and the hypothesis proposed in Ch. 8 according to Brahe's revision, in both instances there result false distances of the planet from the center, whether of the sun (for Copernicus and Brahe) or of the world (for Ptolemy). Consequently, what we had previously constructed from the Brahean observations we have later in turn destroyed using other observations of his. This was the necessary consequence of our having followed (in imitation of previous theorists) several things that were plausible but really false.   \n",
       "1521  Up to the present, the hypothesis accounting for the first inequality (in which Brahe and Copernicus are in agreement, both differing somewhat in form from Ptolemy) has been presented using the sun's mean motion, which all three authors had substituted for the sun's apparent motion. Thereafter, it was shown that whether we follow the sun's apparent motion and the hypothesis found in Ch. 16, or the sun's mean motion and the hypothesis proposed in Ch. 8 according to Brahe's revision, in both instances there result false distances of the planet from the center, whether of the sun (for Copernicus and Brahe) or of the world (for Ptolemy). Consequently, what we had previously constructed from the Brahean observations we have later in turn destroyed using other observations of his. This was the necessary consequence of our having followed (in imitation of previous theorists) several things that were plausible but really false.   \n",
       "1522  Up to the present, the hypothesis accounting for the first inequality (in which Brahe and Copernicus are in agreement, both differing somewhat in form from Ptolemy) has been presented using the sun's mean motion, which all three authors had substituted for the sun's apparent motion. Thereafter, it was shown that whether we follow the sun's apparent motion and the hypothesis found in Ch. 16, or the sun's mean motion and the hypothesis proposed in Ch. 8 according to Brahe's revision, in both instances there result false distances of the planet from the center, whether of the sun (for Copernicus and Brahe) or of the world (for Ptolemy). Consequently, what we had previously constructed from the Brahean observations we have later in turn destroyed using other observations of his. This was the necessary consequence of our having followed (in imitation of previous theorists) several things that were plausible but really false.   \n",
       "1523                                                                                                                                                                                                                                                                                                                                                                                                                                                                                                                                                                                                                                                                                                                                                                                                                       And this much of the work is dedicated to this imitation of previous theorists, with which I am concluding this second part of the Commentaries.   \n",
       "\n",
       "      ParaIndex  \\\n",
       "0           167   \n",
       "1           168   \n",
       "2           169   \n",
       "3           169   \n",
       "4           170   \n",
       "...         ...   \n",
       "1519        482   \n",
       "1520        482   \n",
       "1521        482   \n",
       "1522        482   \n",
       "1523        483   \n",
       "\n",
       "                                                                                                                                                         ASO  \\\n",
       "0                                                                                                                                         {'act': 'Chapter'}   \n",
       "1                                                                                                                                   {'act': 'circumstances'}   \n",
       "2                                                                                                                             {'act': 'is', 'subject': 'it'}   \n",
       "3                                                                                      {'act': 'drives', 'subject': 'kind', 'obj': 'different individuals '}   \n",
       "4                                                                                             {'act': 'embraced', 'subject': 'i', 'obj': 'the whole of it '}   \n",
       "...                                                                                                                                                      ...   \n",
       "1519                                                                                                                                           {'act': '16'}   \n",
       "1520  {'act': 'result', 'obj': 'false distances of the planet from the center, whether of the sun (for Copernicus and Brahe) or of the world (for Ptolemy)'}   \n",
       "1521                                                                                                                                    {'act': 'destroyed'}   \n",
       "1522                                                                                                                       {'act': 'was', 'subject': 'this'}   \n",
       "1523                                                                                                                                    {'act': 'dedicated'}   \n",
       "\n",
       "                  Entities       CNER  Label  \n",
       "0                       []  [0, 0, 0]      0  \n",
       "1           [[Mars, PLAN]]  [0, 0, 0]      0  \n",
       "2                       []  [0, 0, 0]      0  \n",
       "3                       []  [0, 0, 0]      0  \n",
       "4                       []  [0, 0, 0]      0  \n",
       "...                    ...        ...    ...  \n",
       "1519                    []  [0, 0, 0]      0  \n",
       "1520  [[Copernicus, NAME]]  [0, 0, 0]      0  \n",
       "1521     [[Brahean, NAME]]  [0, 0, 0]      0  \n",
       "1522                    []  [0, 0, 0]      0  \n",
       "1523                    []  [0, 0, 0]      0  \n",
       "\n",
       "[1524 rows x 9 columns]"
      ]
     },
     "execution_count": 6,
     "metadata": {},
     "output_type": "execute_result"
    }
   ],
   "source": [
    "df=pd.read_pickle('./data/dfObsV05A02P02.pkl');\n",
    "df.sort_index()\n",
    "df.reset_index(drop=True)\n"
   ]
  },
  {
   "cell_type": "markdown",
   "metadata": {},
   "source": [
    "Sample of the first sentences of the book in the dataframe format "
   ]
  },
  {
   "cell_type": "code",
   "execution_count": 7,
   "metadata": {},
   "outputs": [
    {
     "data": {
      "application/vnd.jupyter.widget-view+json": {
       "model_id": "b70fc0556464419697554fc13dd6b682",
       "version_major": 2,
       "version_minor": 0
      },
      "text/plain": [
       "IntSlider(value=1, max=10, min=1)"
      ]
     },
     "metadata": {},
     "output_type": "display_data"
    }
   ],
   "source": [
    "n=10\n",
    "slider=widget.IntSlider(min=1,max=10, v_model=30 )\n",
    "slider"
   ]
  },
  {
   "cell_type": "code",
   "execution_count": 8,
   "metadata": {},
   "outputs": [
    {
     "data": {
      "text/plain": [
       "1"
      ]
     },
     "execution_count": 8,
     "metadata": {},
     "output_type": "execute_result"
    }
   ],
   "source": [
    "slider.value"
   ]
  },
  {
   "cell_type": "code",
   "execution_count": 9,
   "metadata": {},
   "outputs": [],
   "source": [
    "def f(a=1):\n",
    "    return df.head(a)\n"
   ]
  },
  {
   "cell_type": "code",
   "execution_count": 10,
   "metadata": {},
   "outputs": [
    {
     "data": {
      "application/vnd.jupyter.widget-view+json": {
       "model_id": "98f755e7f7a348cfa083f69ee5974f0f",
       "version_major": 2,
       "version_minor": 0
      },
      "text/plain": [
       "interactive(children=(IntSlider(value=1, description='a', max=50, min=1), Output()), _dom_classes=('widget-int…"
      ]
     },
     "metadata": {},
     "output_type": "display_data"
    },
    {
     "data": {
      "text/plain": [
       "<function __main__.f(a=1)>"
      ]
     },
     "execution_count": 10,
     "metadata": {},
     "output_type": "execute_result"
    }
   ],
   "source": [
    "interact(f, a=(1,50))"
   ]
  },
  {
   "cell_type": "markdown",
   "metadata": {},
   "source": [
    " Sample of the last sentences of the book in the dataframe format "
   ]
  },
  {
   "cell_type": "code",
   "execution_count": 11,
   "metadata": {},
   "outputs": [
    {
     "data": {
      "text/html": [
       "<div>\n",
       "<style scoped>\n",
       "    .dataframe tbody tr th:only-of-type {\n",
       "        vertical-align: middle;\n",
       "    }\n",
       "\n",
       "    .dataframe tbody tr th {\n",
       "        vertical-align: top;\n",
       "    }\n",
       "\n",
       "    .dataframe thead th {\n",
       "        text-align: right;\n",
       "    }\n",
       "</style>\n",
       "<table border=\"1\" class=\"dataframe\">\n",
       "  <thead>\n",
       "    <tr style=\"text-align: right;\">\n",
       "      <th></th>\n",
       "      <th>Sentence</th>\n",
       "      <th>SentIndex</th>\n",
       "      <th>Chapter</th>\n",
       "      <th>Paragraph</th>\n",
       "      <th>ParaIndex</th>\n",
       "      <th>ASO</th>\n",
       "      <th>Entities</th>\n",
       "      <th>CNER</th>\n",
       "      <th>Label</th>\n",
       "    </tr>\n",
       "  </thead>\n",
       "  <tbody>\n",
       "    <tr>\n",
       "      <th>2328</th>\n",
       "      <td>16, or the sun's mean motion and the hypothesis proposed in Ch.</td>\n",
       "      <td>2328</td>\n",
       "      <td>21.0</td>\n",
       "      <td>Up to the present, the hypothesis accounting for the first inequality (in which Brahe and Copernicus are in agreement, both differing somewhat in form from Ptolemy) has been presented using the sun's mean motion, which all three authors had substituted for the sun's apparent motion. Thereafter, it was shown that whether we follow the sun's apparent motion and the hypothesis found in Ch. 16, or the sun's mean motion and the hypothesis proposed in Ch. 8 according to Brahe's revision, in both instances there result false distances of the planet from the center, whether of the sun (for Copernicus and Brahe) or of the world (for Ptolemy). Consequently, what we had previously constructed from the Brahean observations we have later in turn destroyed using other observations of his. This was the necessary consequence of our having followed (in imitation of previous theorists) several things that were plausible but really false.</td>\n",
       "      <td>482</td>\n",
       "      <td>{'act': '16'}</td>\n",
       "      <td>[]</td>\n",
       "      <td>[0, 0, 0]</td>\n",
       "      <td>0</td>\n",
       "    </tr>\n",
       "    <tr>\n",
       "      <th>2329</th>\n",
       "      <td>8 according to Brahe's revision, in both instances there result false distances of the planet from the center, whether of the sun (for Copernicus and Brahe) or of the world (for Ptolemy).</td>\n",
       "      <td>2329</td>\n",
       "      <td>21.0</td>\n",
       "      <td>Up to the present, the hypothesis accounting for the first inequality (in which Brahe and Copernicus are in agreement, both differing somewhat in form from Ptolemy) has been presented using the sun's mean motion, which all three authors had substituted for the sun's apparent motion. Thereafter, it was shown that whether we follow the sun's apparent motion and the hypothesis found in Ch. 16, or the sun's mean motion and the hypothesis proposed in Ch. 8 according to Brahe's revision, in both instances there result false distances of the planet from the center, whether of the sun (for Copernicus and Brahe) or of the world (for Ptolemy). Consequently, what we had previously constructed from the Brahean observations we have later in turn destroyed using other observations of his. This was the necessary consequence of our having followed (in imitation of previous theorists) several things that were plausible but really false.</td>\n",
       "      <td>482</td>\n",
       "      <td>{'act': 'result', 'obj': 'false distances of the planet from the center, whether of the sun (for Copernicus and Brahe) or of the world (for Ptolemy)'}</td>\n",
       "      <td>[[Copernicus, NAME]]</td>\n",
       "      <td>[0, 0, 0]</td>\n",
       "      <td>0</td>\n",
       "    </tr>\n",
       "    <tr>\n",
       "      <th>2330</th>\n",
       "      <td>Consequently, what we had previously constructed from the Brahean observations we have later in turn destroyed using other observations of his.</td>\n",
       "      <td>2330</td>\n",
       "      <td>21.0</td>\n",
       "      <td>Up to the present, the hypothesis accounting for the first inequality (in which Brahe and Copernicus are in agreement, both differing somewhat in form from Ptolemy) has been presented using the sun's mean motion, which all three authors had substituted for the sun's apparent motion. Thereafter, it was shown that whether we follow the sun's apparent motion and the hypothesis found in Ch. 16, or the sun's mean motion and the hypothesis proposed in Ch. 8 according to Brahe's revision, in both instances there result false distances of the planet from the center, whether of the sun (for Copernicus and Brahe) or of the world (for Ptolemy). Consequently, what we had previously constructed from the Brahean observations we have later in turn destroyed using other observations of his. This was the necessary consequence of our having followed (in imitation of previous theorists) several things that were plausible but really false.</td>\n",
       "      <td>482</td>\n",
       "      <td>{'act': 'destroyed'}</td>\n",
       "      <td>[[Brahean, NAME]]</td>\n",
       "      <td>[0, 0, 0]</td>\n",
       "      <td>0</td>\n",
       "    </tr>\n",
       "    <tr>\n",
       "      <th>2331</th>\n",
       "      <td>This was the necessary consequence of our having followed (in imitation of previous theorists) several things that were plausible but really false.</td>\n",
       "      <td>2331</td>\n",
       "      <td>21.0</td>\n",
       "      <td>Up to the present, the hypothesis accounting for the first inequality (in which Brahe and Copernicus are in agreement, both differing somewhat in form from Ptolemy) has been presented using the sun's mean motion, which all three authors had substituted for the sun's apparent motion. Thereafter, it was shown that whether we follow the sun's apparent motion and the hypothesis found in Ch. 16, or the sun's mean motion and the hypothesis proposed in Ch. 8 according to Brahe's revision, in both instances there result false distances of the planet from the center, whether of the sun (for Copernicus and Brahe) or of the world (for Ptolemy). Consequently, what we had previously constructed from the Brahean observations we have later in turn destroyed using other observations of his. This was the necessary consequence of our having followed (in imitation of previous theorists) several things that were plausible but really false.</td>\n",
       "      <td>482</td>\n",
       "      <td>{'act': 'was', 'subject': 'this'}</td>\n",
       "      <td>[]</td>\n",
       "      <td>[0, 0, 0]</td>\n",
       "      <td>0</td>\n",
       "    </tr>\n",
       "    <tr>\n",
       "      <th>2332</th>\n",
       "      <td>And this much of the work is dedicated to this imitation of previous theorists, with which I am concluding this second part of the Commentaries.</td>\n",
       "      <td>2332</td>\n",
       "      <td>21.0</td>\n",
       "      <td>And this much of the work is dedicated to this imitation of previous theorists, with which I am concluding this second part of the Commentaries.</td>\n",
       "      <td>483</td>\n",
       "      <td>{'act': 'dedicated'}</td>\n",
       "      <td>[]</td>\n",
       "      <td>[0, 0, 0]</td>\n",
       "      <td>0</td>\n",
       "    </tr>\n",
       "  </tbody>\n",
       "</table>\n",
       "</div>"
      ],
      "text/plain": [
       "                                                                                                                                                                                         Sentence  \\\n",
       "2328                                                                                                                              16, or the sun's mean motion and the hypothesis proposed in Ch.   \n",
       "2329  8 according to Brahe's revision, in both instances there result false distances of the planet from the center, whether of the sun (for Copernicus and Brahe) or of the world (for Ptolemy).   \n",
       "2330                                              Consequently, what we had previously constructed from the Brahean observations we have later in turn destroyed using other observations of his.   \n",
       "2331                                          This was the necessary consequence of our having followed (in imitation of previous theorists) several things that were plausible but really false.   \n",
       "2332                                             And this much of the work is dedicated to this imitation of previous theorists, with which I am concluding this second part of the Commentaries.   \n",
       "\n",
       "      SentIndex  Chapter  \\\n",
       "2328       2328     21.0   \n",
       "2329       2329     21.0   \n",
       "2330       2330     21.0   \n",
       "2331       2331     21.0   \n",
       "2332       2332     21.0   \n",
       "\n",
       "                                                                                                                                                                                                                                                                                                                                                                                                                                                                                                                                                                                                                                                                                                                                                                                                                                                                                                                                                                  Paragraph  \\\n",
       "2328  Up to the present, the hypothesis accounting for the first inequality (in which Brahe and Copernicus are in agreement, both differing somewhat in form from Ptolemy) has been presented using the sun's mean motion, which all three authors had substituted for the sun's apparent motion. Thereafter, it was shown that whether we follow the sun's apparent motion and the hypothesis found in Ch. 16, or the sun's mean motion and the hypothesis proposed in Ch. 8 according to Brahe's revision, in both instances there result false distances of the planet from the center, whether of the sun (for Copernicus and Brahe) or of the world (for Ptolemy). Consequently, what we had previously constructed from the Brahean observations we have later in turn destroyed using other observations of his. This was the necessary consequence of our having followed (in imitation of previous theorists) several things that were plausible but really false.   \n",
       "2329  Up to the present, the hypothesis accounting for the first inequality (in which Brahe and Copernicus are in agreement, both differing somewhat in form from Ptolemy) has been presented using the sun's mean motion, which all three authors had substituted for the sun's apparent motion. Thereafter, it was shown that whether we follow the sun's apparent motion and the hypothesis found in Ch. 16, or the sun's mean motion and the hypothesis proposed in Ch. 8 according to Brahe's revision, in both instances there result false distances of the planet from the center, whether of the sun (for Copernicus and Brahe) or of the world (for Ptolemy). Consequently, what we had previously constructed from the Brahean observations we have later in turn destroyed using other observations of his. This was the necessary consequence of our having followed (in imitation of previous theorists) several things that were plausible but really false.   \n",
       "2330  Up to the present, the hypothesis accounting for the first inequality (in which Brahe and Copernicus are in agreement, both differing somewhat in form from Ptolemy) has been presented using the sun's mean motion, which all three authors had substituted for the sun's apparent motion. Thereafter, it was shown that whether we follow the sun's apparent motion and the hypothesis found in Ch. 16, or the sun's mean motion and the hypothesis proposed in Ch. 8 according to Brahe's revision, in both instances there result false distances of the planet from the center, whether of the sun (for Copernicus and Brahe) or of the world (for Ptolemy). Consequently, what we had previously constructed from the Brahean observations we have later in turn destroyed using other observations of his. This was the necessary consequence of our having followed (in imitation of previous theorists) several things that were plausible but really false.   \n",
       "2331  Up to the present, the hypothesis accounting for the first inequality (in which Brahe and Copernicus are in agreement, both differing somewhat in form from Ptolemy) has been presented using the sun's mean motion, which all three authors had substituted for the sun's apparent motion. Thereafter, it was shown that whether we follow the sun's apparent motion and the hypothesis found in Ch. 16, or the sun's mean motion and the hypothesis proposed in Ch. 8 according to Brahe's revision, in both instances there result false distances of the planet from the center, whether of the sun (for Copernicus and Brahe) or of the world (for Ptolemy). Consequently, what we had previously constructed from the Brahean observations we have later in turn destroyed using other observations of his. This was the necessary consequence of our having followed (in imitation of previous theorists) several things that were plausible but really false.   \n",
       "2332                                                                                                                                                                                                                                                                                                                                                                                                                                                                                                                                                                                                                                                                                                                                                                                                                       And this much of the work is dedicated to this imitation of previous theorists, with which I am concluding this second part of the Commentaries.   \n",
       "\n",
       "      ParaIndex  \\\n",
       "2328        482   \n",
       "2329        482   \n",
       "2330        482   \n",
       "2331        482   \n",
       "2332        483   \n",
       "\n",
       "                                                                                                                                                         ASO  \\\n",
       "2328                                                                                                                                           {'act': '16'}   \n",
       "2329  {'act': 'result', 'obj': 'false distances of the planet from the center, whether of the sun (for Copernicus and Brahe) or of the world (for Ptolemy)'}   \n",
       "2330                                                                                                                                    {'act': 'destroyed'}   \n",
       "2331                                                                                                                       {'act': 'was', 'subject': 'this'}   \n",
       "2332                                                                                                                                    {'act': 'dedicated'}   \n",
       "\n",
       "                  Entities       CNER  Label  \n",
       "2328                    []  [0, 0, 0]      0  \n",
       "2329  [[Copernicus, NAME]]  [0, 0, 0]      0  \n",
       "2330     [[Brahean, NAME]]  [0, 0, 0]      0  \n",
       "2331                    []  [0, 0, 0]      0  \n",
       "2332                    []  [0, 0, 0]      0  "
      ]
     },
     "execution_count": 11,
     "metadata": {},
     "output_type": "execute_result"
    }
   ],
   "source": [
    "df.tail(5)"
   ]
  },
  {
   "cell_type": "code",
   "execution_count": 12,
   "metadata": {},
   "outputs": [
    {
     "data": {
      "text/html": [
       "<div>\n",
       "<style scoped>\n",
       "    .dataframe tbody tr th:only-of-type {\n",
       "        vertical-align: middle;\n",
       "    }\n",
       "\n",
       "    .dataframe tbody tr th {\n",
       "        vertical-align: top;\n",
       "    }\n",
       "\n",
       "    .dataframe thead th {\n",
       "        text-align: right;\n",
       "    }\n",
       "</style>\n",
       "<table border=\"1\" class=\"dataframe\">\n",
       "  <thead>\n",
       "    <tr style=\"text-align: right;\">\n",
       "      <th></th>\n",
       "      <th>Sentence</th>\n",
       "      <th>SentIndex</th>\n",
       "      <th>Chapter</th>\n",
       "      <th>Paragraph</th>\n",
       "      <th>ParaIndex</th>\n",
       "      <th>ASO</th>\n",
       "      <th>Entities</th>\n",
       "      <th>CNER</th>\n",
       "      <th>Label</th>\n",
       "    </tr>\n",
       "  </thead>\n",
       "  <tbody>\n",
       "    <tr>\n",
       "      <th>1299</th>\n",
       "      <td>The parallax was about as much as the sun's, because Mars and the sun were sextile, and were therefore about equally distant from earth ^5.</td>\n",
       "      <td>1299</td>\n",
       "      <td>12.0</td>\n",
       "      <td>On 1592 January 23 at 10h 15m in the evening, Mars was at 11° 34’ 30” Aries with latitude 0° 2’ south ^3. The altitude of Mars was 25°, and therefore (from the table for the fixed stars),4 there was no refraction. The parallax was about as much as the sun's, because Mars and the sun were sextile, and were therefore about equally distant from earth ^5. Nearly all of this was latitudinal. Therefore, about two minutes of latitude must be added northward to Mars in order to free it from parallax, and it thus will fall upon the ecliptic. For on February 6 it was already at about 7’ northern latitude ^6.</td>\n",
       "      <td>290</td>\n",
       "      <td>{'act': 'was', 'subject': 'parallax'}</td>\n",
       "      <td>[[parallax, ASTR], [Mars, PLAN]]</td>\n",
       "      <td>[0, 0, 0]</td>\n",
       "      <td>0</td>\n",
       "    </tr>\n",
       "    <tr>\n",
       "      <th>1300</th>\n",
       "      <td>Nearly all of this was latitudinal.</td>\n",
       "      <td>1300</td>\n",
       "      <td>12.0</td>\n",
       "      <td>On 1592 January 23 at 10h 15m in the evening, Mars was at 11° 34’ 30” Aries with latitude 0° 2’ south ^3. The altitude of Mars was 25°, and therefore (from the table for the fixed stars),4 there was no refraction. The parallax was about as much as the sun's, because Mars and the sun were sextile, and were therefore about equally distant from earth ^5. Nearly all of this was latitudinal. Therefore, about two minutes of latitude must be added northward to Mars in order to free it from parallax, and it thus will fall upon the ecliptic. For on February 6 it was already at about 7’ northern latitude ^6.</td>\n",
       "      <td>290</td>\n",
       "      <td>{'act': 'was', 'subject': 'all'}</td>\n",
       "      <td>[]</td>\n",
       "      <td>[0, 0, 0]</td>\n",
       "      <td>0</td>\n",
       "    </tr>\n",
       "    <tr>\n",
       "      <th>1301</th>\n",
       "      <td>Therefore, about two minutes of latitude must be added northward to Mars in order to free it from parallax, and it thus will fall upon the ecliptic.</td>\n",
       "      <td>1301</td>\n",
       "      <td>12.0</td>\n",
       "      <td>On 1592 January 23 at 10h 15m in the evening, Mars was at 11° 34’ 30” Aries with latitude 0° 2’ south ^3. The altitude of Mars was 25°, and therefore (from the table for the fixed stars),4 there was no refraction. The parallax was about as much as the sun's, because Mars and the sun were sextile, and were therefore about equally distant from earth ^5. Nearly all of this was latitudinal. Therefore, about two minutes of latitude must be added northward to Mars in order to free it from parallax, and it thus will fall upon the ecliptic. For on February 6 it was already at about 7’ northern latitude ^6.</td>\n",
       "      <td>290</td>\n",
       "      <td>{'act': 'added'}</td>\n",
       "      <td>[[latitude, ASTR], [Mars, PLAN], [parallax, ASTR], [ecliptic, ASTR]]</td>\n",
       "      <td>[0, 0, 0]</td>\n",
       "      <td>0</td>\n",
       "    </tr>\n",
       "    <tr>\n",
       "      <th>1302</th>\n",
       "      <td>For on February 6 it was already at about 7’ northern latitude ^6.</td>\n",
       "      <td>1302</td>\n",
       "      <td>12.0</td>\n",
       "      <td>On 1592 January 23 at 10h 15m in the evening, Mars was at 11° 34’ 30” Aries with latitude 0° 2’ south ^3. The altitude of Mars was 25°, and therefore (from the table for the fixed stars),4 there was no refraction. The parallax was about as much as the sun's, because Mars and the sun were sextile, and were therefore about equally distant from earth ^5. Nearly all of this was latitudinal. Therefore, about two minutes of latitude must be added northward to Mars in order to free it from parallax, and it thus will fall upon the ecliptic. For on February 6 it was already at about 7’ northern latitude ^6.</td>\n",
       "      <td>290</td>\n",
       "      <td>{'act': 'was', 'subject': 'it'}</td>\n",
       "      <td>[[February 6, DATE], [latitude, ASTR]]</td>\n",
       "      <td>[1, 0, 0]</td>\n",
       "      <td>0</td>\n",
       "    </tr>\n",
       "    <tr>\n",
       "      <th>1303</th>\n",
       "      <td>On the evening of 1593 December 10, Mars was observed at the ascending node.</td>\n",
       "      <td>1303</td>\n",
       "      <td>12.0</td>\n",
       "      <td>On the evening of 1593 December 10, Mars was observed at the ascending node. For after correction of the horizontal variations it retained no more than 0° 0’ 45” north latitude ^7.</td>\n",
       "      <td>291</td>\n",
       "      <td>{'act': 'observed'}</td>\n",
       "      <td>[[1593 December 10, DATE], [Mars, PLAN], [observed, ASTR], [node, ASTR]]</td>\n",
       "      <td>[1, 0, 0]</td>\n",
       "      <td>0</td>\n",
       "    </tr>\n",
       "    <tr>\n",
       "      <th>1304</th>\n",
       "      <td>For after correction of the horizontal variations it retained no more than 0° 0’ 45” north latitude ^7.</td>\n",
       "      <td>1304</td>\n",
       "      <td>12.0</td>\n",
       "      <td>On the evening of 1593 December 10, Mars was observed at the ascending node. For after correction of the horizontal variations it retained no more than 0° 0’ 45” north latitude ^7.</td>\n",
       "      <td>291</td>\n",
       "      <td>{'act': 'latitude'}</td>\n",
       "      <td>[[0° 0’ 45”, LONG], [north, ASTR], [latitude, ASTR]]</td>\n",
       "      <td>[0, 0, 1]</td>\n",
       "      <td>0</td>\n",
       "    </tr>\n",
       "    <tr>\n",
       "      <th>1305</th>\n",
       "      <td>On 1595 October 27 at 12h 20m, Mars's true latitude after the removal of parallax was 0° 2’ 20” south ^8.</td>\n",
       "      <td>1305</td>\n",
       "      <td>12.0</td>\n",
       "      <td>On 1595 October 27 at 12h 20m, Mars's true latitude after the removal of parallax was 0° 2’ 20” south ^8. On the 28th, when the parallax had similarly been removed, the latitude was 0° 0’ 25” north ^9. Therefore,*  in the meanwhile, it was at the ascending node.</td>\n",
       "      <td>292</td>\n",
       "      <td>{'act': 'was', 'subject': 'latitude'}</td>\n",
       "      <td>[[1595 October 27, DATE], [12h 20m, TIME], [Mars, PLAN], [latitude, ASTR], [parallax, ASTR], [0° 2’ 20”, LONG], [south, ASTR]]</td>\n",
       "      <td>[1, 1, 1]</td>\n",
       "      <td>1</td>\n",
       "    </tr>\n",
       "    <tr>\n",
       "      <th>1306</th>\n",
       "      <td>On the 28th, when the parallax had similarly been removed, the latitude was 0° 0’ 25” north ^9.</td>\n",
       "      <td>1306</td>\n",
       "      <td>12.0</td>\n",
       "      <td>On 1595 October 27 at 12h 20m, Mars's true latitude after the removal of parallax was 0° 2’ 20” south ^8. On the 28th, when the parallax had similarly been removed, the latitude was 0° 0’ 25” north ^9. Therefore,*  in the meanwhile, it was at the ascending node.</td>\n",
       "      <td>292</td>\n",
       "      <td>{'act': 'was', 'subject': 'latitude'}</td>\n",
       "      <td>[[parallax, ASTR], [latitude, ASTR], [0° 0’ 25”, LONG], [north, ASTR]]</td>\n",
       "      <td>[0, 0, 1]</td>\n",
       "      <td>0</td>\n",
       "    </tr>\n",
       "    <tr>\n",
       "      <th>1307</th>\n",
       "      <td>Therefore,*  in the meanwhile, it was at the ascending node.</td>\n",
       "      <td>1307</td>\n",
       "      <td>12.0</td>\n",
       "      <td>On 1595 October 27 at 12h 20m, Mars's true latitude after the removal of parallax was 0° 2’ 20” south ^8. On the 28th, when the parallax had similarly been removed, the latitude was 0° 0’ 25” north ^9. Therefore,*  in the meanwhile, it was at the ascending node.</td>\n",
       "      <td>292</td>\n",
       "      <td>{'act': 'was', 'subject': 'it'}</td>\n",
       "      <td>[[node, ASTR]]</td>\n",
       "      <td>[0, 0, 0]</td>\n",
       "      <td>0</td>\n",
       "    </tr>\n",
       "    <tr>\n",
       "      <th>1308</th>\n",
       "      <td>Counting backwards 687 days, the number of days in Mars’s revolution on its eccentric, starting from noon on 28 October, the end will fall on 1593 December 10, while on the preceding night Mars was observed near the node.</td>\n",
       "      <td>1308</td>\n",
       "      <td>12.0</td>\n",
       "      <td>Counting backwards 687 days, the number of days in Mars’s revolution on its eccentric, starting from noon on 28 October, the end will fall on 1593 December 10, while on the preceding night Mars was observed near the node. Count back another 687. This will end up at 1592 January 23, when the planet was observed right at the node. If you do the same a third time, you will come out at 1590 March 7, while on the fourth day preceding, Mars had some southern latitude, which it would make up over the four days, so as to fall at the node about the seventh.</td>\n",
       "      <td>293</td>\n",
       "      <td>{'act': 'fall', 'subject': 'end'}</td>\n",
       "      <td>[[687, PARA], [Mars, PLAN], [eccentric, ASTR], [1593 December 10, DATE], [Mars, PLAN], [observed, ASTR], [node, ASTR]]</td>\n",
       "      <td>[1, 0, 0]</td>\n",
       "      <td>0</td>\n",
       "    </tr>\n",
       "  </tbody>\n",
       "</table>\n",
       "</div>"
      ],
      "text/plain": [
       "                                                                                                                                                                                                                           Sentence  \\\n",
       "1299                                                                                    The parallax was about as much as the sun's, because Mars and the sun were sextile, and were therefore about equally distant from earth ^5.   \n",
       "1300                                                                                                                                                                                            Nearly all of this was latitudinal.   \n",
       "1301                                                                           Therefore, about two minutes of latitude must be added northward to Mars in order to free it from parallax, and it thus will fall upon the ecliptic.   \n",
       "1302                                                                                                                                                             For on February 6 it was already at about 7’ northern latitude ^6.   \n",
       "1303                                                                                                                                                   On the evening of 1593 December 10, Mars was observed at the ascending node.   \n",
       "1304                                                                                                                        For after correction of the horizontal variations it retained no more than 0° 0’ 45” north latitude ^7.   \n",
       "1305                                                                                                                      On 1595 October 27 at 12h 20m, Mars's true latitude after the removal of parallax was 0° 2’ 20” south ^8.   \n",
       "1306                                                                                                                                On the 28th, when the parallax had similarly been removed, the latitude was 0° 0’ 25” north ^9.   \n",
       "1307                                                                                                                                                                   Therefore,*  in the meanwhile, it was at the ascending node.   \n",
       "1308  Counting backwards 687 days, the number of days in Mars’s revolution on its eccentric, starting from noon on 28 October, the end will fall on 1593 December 10, while on the preceding night Mars was observed near the node.   \n",
       "\n",
       "      SentIndex  Chapter  \\\n",
       "1299       1299     12.0   \n",
       "1300       1300     12.0   \n",
       "1301       1301     12.0   \n",
       "1302       1302     12.0   \n",
       "1303       1303     12.0   \n",
       "1304       1304     12.0   \n",
       "1305       1305     12.0   \n",
       "1306       1306     12.0   \n",
       "1307       1307     12.0   \n",
       "1308       1308     12.0   \n",
       "\n",
       "                                                                                                                                                                                                                                                                                                                                                                                                                                                                                                                                                                                                                           Paragraph  \\\n",
       "1299  On 1592 January 23 at 10h 15m in the evening, Mars was at 11° 34’ 30” Aries with latitude 0° 2’ south ^3. The altitude of Mars was 25°, and therefore (from the table for the fixed stars),4 there was no refraction. The parallax was about as much as the sun's, because Mars and the sun were sextile, and were therefore about equally distant from earth ^5. Nearly all of this was latitudinal. Therefore, about two minutes of latitude must be added northward to Mars in order to free it from parallax, and it thus will fall upon the ecliptic. For on February 6 it was already at about 7’ northern latitude ^6.    \n",
       "1300  On 1592 January 23 at 10h 15m in the evening, Mars was at 11° 34’ 30” Aries with latitude 0° 2’ south ^3. The altitude of Mars was 25°, and therefore (from the table for the fixed stars),4 there was no refraction. The parallax was about as much as the sun's, because Mars and the sun were sextile, and were therefore about equally distant from earth ^5. Nearly all of this was latitudinal. Therefore, about two minutes of latitude must be added northward to Mars in order to free it from parallax, and it thus will fall upon the ecliptic. For on February 6 it was already at about 7’ northern latitude ^6.    \n",
       "1301  On 1592 January 23 at 10h 15m in the evening, Mars was at 11° 34’ 30” Aries with latitude 0° 2’ south ^3. The altitude of Mars was 25°, and therefore (from the table for the fixed stars),4 there was no refraction. The parallax was about as much as the sun's, because Mars and the sun were sextile, and were therefore about equally distant from earth ^5. Nearly all of this was latitudinal. Therefore, about two minutes of latitude must be added northward to Mars in order to free it from parallax, and it thus will fall upon the ecliptic. For on February 6 it was already at about 7’ northern latitude ^6.    \n",
       "1302  On 1592 January 23 at 10h 15m in the evening, Mars was at 11° 34’ 30” Aries with latitude 0° 2’ south ^3. The altitude of Mars was 25°, and therefore (from the table for the fixed stars),4 there was no refraction. The parallax was about as much as the sun's, because Mars and the sun were sextile, and were therefore about equally distant from earth ^5. Nearly all of this was latitudinal. Therefore, about two minutes of latitude must be added northward to Mars in order to free it from parallax, and it thus will fall upon the ecliptic. For on February 6 it was already at about 7’ northern latitude ^6.    \n",
       "1303                                                                                                                                                                                                                                                                                                                                                                                                                                           On the evening of 1593 December 10, Mars was observed at the ascending node. For after correction of the horizontal variations it retained no more than 0° 0’ 45” north latitude ^7.    \n",
       "1304                                                                                                                                                                                                                                                                                                                                                                                                                                           On the evening of 1593 December 10, Mars was observed at the ascending node. For after correction of the horizontal variations it retained no more than 0° 0’ 45” north latitude ^7.    \n",
       "1305                                                                                                                                                                                                                                                                                                                                                          On 1595 October 27 at 12h 20m, Mars's true latitude after the removal of parallax was 0° 2’ 20” south ^8. On the 28th, when the parallax had similarly been removed, the latitude was 0° 0’ 25” north ^9. Therefore,*  in the meanwhile, it was at the ascending node.   \n",
       "1306                                                                                                                                                                                                                                                                                                                                                          On 1595 October 27 at 12h 20m, Mars's true latitude after the removal of parallax was 0° 2’ 20” south ^8. On the 28th, when the parallax had similarly been removed, the latitude was 0° 0’ 25” north ^9. Therefore,*  in the meanwhile, it was at the ascending node.   \n",
       "1307                                                                                                                                                                                                                                                                                                                                                          On 1595 October 27 at 12h 20m, Mars's true latitude after the removal of parallax was 0° 2’ 20” south ^8. On the 28th, when the parallax had similarly been removed, the latitude was 0° 0’ 25” north ^9. Therefore,*  in the meanwhile, it was at the ascending node.   \n",
       "1308                                                      Counting backwards 687 days, the number of days in Mars’s revolution on its eccentric, starting from noon on 28 October, the end will fall on 1593 December 10, while on the preceding night Mars was observed near the node. Count back another 687. This will end up at 1592 January 23, when the planet was observed right at the node. If you do the same a third time, you will come out at 1590 March 7, while on the fourth day preceding, Mars had some southern latitude, which it would make up over the four days, so as to fall at the node about the seventh.   \n",
       "\n",
       "      ParaIndex                                    ASO  \\\n",
       "1299        290  {'act': 'was', 'subject': 'parallax'}   \n",
       "1300        290       {'act': 'was', 'subject': 'all'}   \n",
       "1301        290                       {'act': 'added'}   \n",
       "1302        290        {'act': 'was', 'subject': 'it'}   \n",
       "1303        291                    {'act': 'observed'}   \n",
       "1304        291                    {'act': 'latitude'}   \n",
       "1305        292  {'act': 'was', 'subject': 'latitude'}   \n",
       "1306        292  {'act': 'was', 'subject': 'latitude'}   \n",
       "1307        292        {'act': 'was', 'subject': 'it'}   \n",
       "1308        293      {'act': 'fall', 'subject': 'end'}   \n",
       "\n",
       "                                                                                                                            Entities  \\\n",
       "1299                                                                                                [[parallax, ASTR], [Mars, PLAN]]   \n",
       "1300                                                                                                                              []   \n",
       "1301                                                            [[latitude, ASTR], [Mars, PLAN], [parallax, ASTR], [ecliptic, ASTR]]   \n",
       "1302                                                                                          [[February 6, DATE], [latitude, ASTR]]   \n",
       "1303                                                        [[1593 December 10, DATE], [Mars, PLAN], [observed, ASTR], [node, ASTR]]   \n",
       "1304                                                                            [[0° 0’ 45”, LONG], [north, ASTR], [latitude, ASTR]]   \n",
       "1305  [[1595 October 27, DATE], [12h 20m, TIME], [Mars, PLAN], [latitude, ASTR], [parallax, ASTR], [0° 2’ 20”, LONG], [south, ASTR]]   \n",
       "1306                                                          [[parallax, ASTR], [latitude, ASTR], [0° 0’ 25”, LONG], [north, ASTR]]   \n",
       "1307                                                                                                                  [[node, ASTR]]   \n",
       "1308          [[687, PARA], [Mars, PLAN], [eccentric, ASTR], [1593 December 10, DATE], [Mars, PLAN], [observed, ASTR], [node, ASTR]]   \n",
       "\n",
       "           CNER  Label  \n",
       "1299  [0, 0, 0]      0  \n",
       "1300  [0, 0, 0]      0  \n",
       "1301  [0, 0, 0]      0  \n",
       "1302  [1, 0, 0]      0  \n",
       "1303  [1, 0, 0]      0  \n",
       "1304  [0, 0, 1]      0  \n",
       "1305  [1, 1, 1]      1  \n",
       "1306  [0, 0, 1]      0  \n",
       "1307  [0, 0, 0]      0  \n",
       "1308  [1, 0, 0]      0  "
      ]
     },
     "execution_count": 12,
     "metadata": {},
     "output_type": "execute_result"
    }
   ],
   "source": [
    "df.iloc[490:500]"
   ]
  },
  {
   "cell_type": "markdown",
   "metadata": {},
   "source": [
    "# Distribution of explicit observational sentences "
   ]
  },
  {
   "cell_type": "markdown",
   "metadata": {},
   "source": [
    "here we extract the explicit observational sentences using custom Name Entity Recognition that we provided using deep learning. We can also see the sentences in the corresponding paragraph. As you see we integrated data with such contributes as follows:\n",
    "\n",
    "- **Sentence**  \n",
    "- **Chapter**\n",
    "- **Paragraph**\n",
    "- **ParaIndex**\n",
    "- **ASO**\n",
    "- **Entities**\n",
    "- **CNER**\n",
    "- **Label**"
   ]
  },
  {
   "cell_type": "code",
   "execution_count": 13,
   "metadata": {},
   "outputs": [
    {
     "name": "stdout",
     "output_type": "stream",
     "text": [
      "<class 'pandas.core.frame.DataFrame'>\n",
      "Int64Index: 1524 entries, 809 to 2332\n",
      "Data columns (total 9 columns):\n",
      "Sentence     1524 non-null object\n",
      "SentIndex    1524 non-null int64\n",
      "Chapter      1524 non-null float64\n",
      "Paragraph    1524 non-null object\n",
      "ParaIndex    1524 non-null int64\n",
      "ASO          1524 non-null object\n",
      "Entities     1524 non-null object\n",
      "CNER         1524 non-null object\n",
      "Label        1524 non-null int64\n",
      "dtypes: float64(1), int64(3), object(5)\n",
      "memory usage: 119.1+ KB\n"
     ]
    }
   ],
   "source": [
    "df.info()"
   ]
  },
  {
   "cell_type": "markdown",
   "metadata": {},
   "source": [
    "# Data preparation for visualization"
   ]
  },
  {
   "cell_type": "code",
   "execution_count": 14,
   "metadata": {},
   "outputs": [],
   "source": [
    "a=[]\n",
    "for i in  df:\n",
    "    Obch=df[df.Chapter == i].shape[0]\n",
    "    a.append(Obch)"
   ]
  },
  {
   "cell_type": "markdown",
   "metadata": {},
   "source": [
    "## Distribution of explicit observational Sentences"
   ]
  },
  {
   "cell_type": "code",
   "execution_count": 15,
   "metadata": {},
   "outputs": [],
   "source": [
    "X=list(df[\"Sentence\"])\n",
    "y=np.array(list(df[\"Label\"]))"
   ]
  },
  {
   "cell_type": "code",
   "execution_count": 16,
   "metadata": {},
   "outputs": [],
   "source": [
    "from collections import Counter\n",
    "category=Counter(y)\n",
    "count=dict(category)"
   ]
  },
  {
   "cell_type": "code",
   "execution_count": 17,
   "metadata": {},
   "outputs": [
    {
     "data": {
      "text/plain": [
       "{0: 1487, 1: 37}"
      ]
     },
     "execution_count": 17,
     "metadata": {},
     "output_type": "execute_result"
    }
   ],
   "source": [
    "count"
   ]
  },
  {
   "cell_type": "code",
   "execution_count": 18,
   "metadata": {},
   "outputs": [
    {
     "data": {
      "text/plain": [
       "Text(0.5, 1.0, 'Distribution of samples over different classes')"
      ]
     },
     "execution_count": 18,
     "metadata": {},
     "output_type": "execute_result"
    },
    {
     "data": {
      "image/png": "[encoded data removed]",
      "text/plain": [
       "<Figure size 432x288 with 1 Axes>"
      ]
     },
     "metadata": {
      "needs_background": "light"
     },
     "output_type": "display_data"
    }
   ],
   "source": [
    "plt.bar(list(count.keys()),count.values(),color=\"r\",width=.4,tick_label=[\"1\",\"0\"])\n",
    "plt.title(\"Distribution of samples over different classes\")\n"
   ]
  },
  {
   "cell_type": "code",
   "execution_count": 19,
   "metadata": {},
   "outputs": [],
   "source": [
    "from sklearn.feature_extraction.text import CountVectorizer,HashingVectorizer\n",
    "from sklearn.feature_extraction.text import TfidfTransformer,TfidfVectorizer\n",
    "from sklearn.feature_selection import SelectKBest,chi2\n",
    "from sklearn.linear_model import SGDClassifier, LogisticRegression,LogisticRegressionCV\n",
    "from sklearn.naive_bayes import MultinomialNB\n",
    "from sklearn.ensemble import RandomForestClassifier\n",
    "from sklearn.pipeline import Pipeline\n",
    "from sklearn.decomposition import TruncatedSVD\n",
    "from sklearn.svm import SVC,LinearSVC\n",
    "from sklearn.utils import shuffle\n",
    "from sklearn.model_selection import train_test_split\n",
    "from sklearn.neighbors import NearestNeighbors\n",
    "#from xgboost import XGBClassifier"
   ]
  },
  {
   "cell_type": "markdown",
   "metadata": {},
   "source": [
    "## Define Models"
   ]
  },
  {
   "cell_type": "code",
   "execution_count": 20,
   "metadata": {},
   "outputs": [],
   "source": [
    "vec=TfidfVectorizer()\n",
    "clf= SGDClassifier()\n",
    "RF=RandomForestClassifier()\n",
    "trial_01=Pipeline([(\"vect\",vec),(\"clf\",RF)])\n"
   ]
  },
  {
   "cell_type": "code",
   "execution_count": 21,
   "metadata": {},
   "outputs": [],
   "source": [
    "\n",
    "trial_02=Pipeline([(\"vect\",vec),(\"clf\",clf)])\n",
    "#####################################################\n",
    "## 02-XGBClassifier\n",
    "\n",
    "#trial_02 = Pipeline([('vect', CountVectorizer(stop_words='english')),\n",
    "                     #('clf', XGBClassifier())])\n"
   ]
  },
  {
   "cell_type": "code",
   "execution_count": 22,
   "metadata": {},
   "outputs": [],
   "source": [
    "X = df['Sentence'].values\n",
    "y = df['Label'].values\n"
   ]
  },
  {
   "cell_type": "code",
   "execution_count": 23,
   "metadata": {},
   "outputs": [],
   "source": [
    "X,y = shuffle(X, y, random_state=42)\n",
    "X_train, X_test, y_train, y_test = train_test_split(\n",
    "X,y, test_size=0.10, random_state=42)  "
   ]
  },
  {
   "cell_type": "code",
   "execution_count": 24,
   "metadata": {},
   "outputs": [
    {
     "data": {
      "text/plain": [
       "1524"
      ]
     },
     "execution_count": 24,
     "metadata": {},
     "output_type": "execute_result"
    }
   ],
   "source": [
    "len(X)"
   ]
  },
  {
   "cell_type": "code",
   "execution_count": 25,
   "metadata": {},
   "outputs": [
    {
     "data": {
      "text/plain": [
       "1524"
      ]
     },
     "execution_count": 25,
     "metadata": {},
     "output_type": "execute_result"
    }
   ],
   "source": [
    "len(y)"
   ]
  },
  {
   "cell_type": "markdown",
   "metadata": {},
   "source": [
    "## Classification"
   ]
  },
  {
   "cell_type": "code",
   "execution_count": 26,
   "metadata": {},
   "outputs": [
    {
     "data": {
      "text/plain": [
       "Pipeline(memory=None,\n",
       "         steps=[('vect',\n",
       "                 TfidfVectorizer(analyzer='word', binary=False,\n",
       "                                 decode_error='strict',\n",
       "                                 dtype=<class 'numpy.float64'>,\n",
       "                                 encoding='utf-8', input='content',\n",
       "                                 lowercase=True, max_df=1.0, max_features=None,\n",
       "                                 min_df=1, ngram_range=(1, 1), norm='l2',\n",
       "                                 preprocessor=None, smooth_idf=True,\n",
       "                                 stop_words=None, strip_accents=None,\n",
       "                                 sublinear_tf=False,\n",
       "                                 token_pattern='(...\n",
       "                 SGDClassifier(alpha=0.0001, average=False, class_weight=None,\n",
       "                               early_stopping=False, epsilon=0.1, eta0=0.0,\n",
       "                               fit_intercept=True, l1_ratio=0.15,\n",
       "                               learning_rate='optimal', loss='hinge',\n",
       "                               max_iter=1000, n_iter_no_change=5, n_jobs=None,\n",
       "                               penalty='l2', power_t=0.5, random_state=None,\n",
       "                               shuffle=True, tol=0.001, validation_fraction=0.1,\n",
       "                               verbose=0, warm_start=False))],\n",
       "         verbose=False)"
      ]
     },
     "execution_count": 26,
     "metadata": {},
     "output_type": "execute_result"
    }
   ],
   "source": [
    "trial_02"
   ]
  },
  {
   "cell_type": "code",
   "execution_count": 27,
   "metadata": {},
   "outputs": [
    {
     "data": {
      "text/plain": [
       "Pipeline(memory=None,\n",
       "         steps=[('vect',\n",
       "                 TfidfVectorizer(analyzer='word', binary=False,\n",
       "                                 decode_error='strict',\n",
       "                                 dtype=<class 'numpy.float64'>,\n",
       "                                 encoding='utf-8', input='content',\n",
       "                                 lowercase=True, max_df=1.0, max_features=None,\n",
       "                                 min_df=1, ngram_range=(1, 1), norm='l2',\n",
       "                                 preprocessor=None, smooth_idf=True,\n",
       "                                 stop_words=None, strip_accents=None,\n",
       "                                 sublinear_tf=False,\n",
       "                                 token_pattern='(...\n",
       "                 SGDClassifier(alpha=0.0001, average=False, class_weight=None,\n",
       "                               early_stopping=False, epsilon=0.1, eta0=0.0,\n",
       "                               fit_intercept=True, l1_ratio=0.15,\n",
       "                               learning_rate='optimal', loss='hinge',\n",
       "                               max_iter=1000, n_iter_no_change=5, n_jobs=None,\n",
       "                               penalty='l2', power_t=0.5, random_state=None,\n",
       "                               shuffle=True, tol=0.001, validation_fraction=0.1,\n",
       "                               verbose=0, warm_start=False))],\n",
       "         verbose=False)"
      ]
     },
     "execution_count": 27,
     "metadata": {},
     "output_type": "execute_result"
    }
   ],
   "source": [
    "trial_02.fit(X_train,y_train)"
   ]
  },
  {
   "cell_type": "code",
   "execution_count": 28,
   "metadata": {},
   "outputs": [],
   "source": [
    "y_pred=trial_02.predict(X_test)"
   ]
  },
  {
   "cell_type": "code",
   "execution_count": 29,
   "metadata": {},
   "outputs": [
    {
     "name": "stdout",
     "output_type": "stream",
     "text": [
      "[[147   0]\n",
      " [  3   3]]\n",
      "              precision    recall  f1-score   support\n",
      "\n",
      "           0       0.98      1.00      0.99       147\n",
      "           1       1.00      0.50      0.67         6\n",
      "\n",
      "    accuracy                           0.98       153\n",
      "   macro avg       0.99      0.75      0.83       153\n",
      "weighted avg       0.98      0.98      0.98       153\n",
      "\n"
     ]
    },
    {
     "data": {
      "image/png": "[encoded data removed]",
      "text/plain": [
       "<Figure size 432x288 with 2 Axes>"
      ]
     },
     "metadata": {
      "needs_background": "light"
     },
     "output_type": "display_data"
    }
   ],
   "source": [
    "cm=confusion_matrix(y_test,y_pred)\n",
    "print(cm)\n",
    "cr=classification_report(y_test,y_pred)\n",
    "print(cr)\n",
    "Colorful_Confusion_Matrix(y, y_test, y_pred)\n"
   ]
  },
  {
   "cell_type": "code",
   "execution_count": 30,
   "metadata": {},
   "outputs": [
    {
     "name": "stdout",
     "output_type": "stream",
     "text": [
      "[0.99346405 0.99346405 0.9869281  0.9869281  0.97385621 0.9869281\n",
      " 0.99346405 0.99337748 0.98675497 0.99337748]\n",
      "Accuracy of : 0.989 ± 0.012\n"
     ]
    }
   ],
   "source": [
    "cross_validation_accuracy(trial_02,X,y,cv=10)"
   ]
  },
  {
   "cell_type": "code",
   "execution_count": 31,
   "metadata": {},
   "outputs": [
    {
     "name": "stdout",
     "output_type": "stream",
     "text": [
      "              precision    recall  f1-score   support\n",
      "\n",
      "           0       0.99      1.00      0.99      1487\n",
      "           1       0.79      0.62      0.70        37\n",
      "\n",
      "    accuracy                           0.99      1524\n",
      "   macro avg       0.89      0.81      0.85      1524\n",
      "weighted avg       0.99      0.99      0.99      1524\n",
      "\n",
      "[[1481   14]\n",
      " [   6   23]]\n"
     ]
    }
   ],
   "source": [
    "y_pred = cross_val_predict(trial_02, X, y, cv=10)\n",
    "\n",
    "cr=classification_report(y,y_pred)\n",
    "print(cr)\n",
    "cm = confusion_matrix(y_pred,y)\n",
    "print(cm)"
   ]
  },
  {
   "cell_type": "code",
   "execution_count": 32,
   "metadata": {},
   "outputs": [
    {
     "data": {
      "image/png": "[encoded data removed]",
      "text/plain": [
       "<Figure size 432x288 with 2 Axes>"
      ]
     },
     "metadata": {
      "needs_background": "light"
     },
     "output_type": "display_data"
    }
   ],
   "source": [
    "Colorful_Confusion_Matrix(y=y,y_test=y,y_pred=y_pred)"
   ]
  },
  {
   "cell_type": "code",
   "execution_count": 33,
   "metadata": {},
   "outputs": [],
   "source": [
    "precision, recall, thresholds = precision_recall_curve(y,y_pred)  \n",
    "auc_score = auc(recall, precision)\n",
    "\n"
   ]
  },
  {
   "cell_type": "code",
   "execution_count": 34,
   "metadata": {},
   "outputs": [
    {
     "data": {
      "image/png": "[encoded data removed]",
      "text/plain": [
       "<Figure size 432x288 with 1 Axes>"
      ]
     },
     "metadata": {
      "needs_background": "light"
     },
     "output_type": "display_data"
    },
    {
     "name": "stdout",
     "output_type": "stream",
     "text": [
      "AUC: 0.712\n"
     ]
    }
   ],
   "source": [
    "plot_pr(recall, precision)"
   ]
  },
  {
   "cell_type": "markdown",
   "metadata": {},
   "source": [
    "# Explicit observational sentences using custom NER in the paragraph"
   ]
  },
  {
   "cell_type": "code",
   "execution_count": 35,
   "metadata": {},
   "outputs": [],
   "source": [
    "X_Obs=df.loc[df.Label==1]\n",
    "X_Obs=X_Obs.reset_index(drop=True);\n",
    "\n"
   ]
  },
  {
   "cell_type": "code",
   "execution_count": 36,
   "metadata": {},
   "outputs": [
    {
     "data": {
      "text/html": [
       "<div>\n",
       "<style scoped>\n",
       "    .dataframe tbody tr th:only-of-type {\n",
       "        vertical-align: middle;\n",
       "    }\n",
       "\n",
       "    .dataframe tbody tr th {\n",
       "        vertical-align: top;\n",
       "    }\n",
       "\n",
       "    .dataframe thead th {\n",
       "        text-align: right;\n",
       "    }\n",
       "</style>\n",
       "<table border=\"1\" class=\"dataframe\">\n",
       "  <thead>\n",
       "    <tr style=\"text-align: right;\">\n",
       "      <th></th>\n",
       "      <th>Sentence</th>\n",
       "      <th>SentIndex</th>\n",
       "      <th>Chapter</th>\n",
       "      <th>Paragraph</th>\n",
       "      <th>ParaIndex</th>\n",
       "      <th>ASO</th>\n",
       "      <th>Entities</th>\n",
       "      <th>CNER</th>\n",
       "      <th>Label</th>\n",
       "    </tr>\n",
       "  </thead>\n",
       "  <tbody>\n",
       "    <tr>\n",
       "      <th>0</th>\n",
       "      <td>On 1580 November 12 at 10h 50m,1 they set Mars down at 8° 36’ 50” Gemini2 without mentioning the horizontal variations,  by which term I wish the diurnal parallaxes and the refractions to be understood in what follows.</td>\n",
       "      <td>967</td>\n",
       "      <td>10.0</td>\n",
       "      <td>On 1580 November 12 at 10h 50m,1 they set Mars down at 8° 36’ 50” Gemini2 without mentioning the horizontal variations,  by which term I wish the diurnal parallaxes and the refractions to be understood in what follows. Now this observation is distant and isolated. It was reduced to the moment of opposition using the diurnal motion from the Prutenic Tables ^3.</td>\n",
       "      <td>218</td>\n",
       "      <td>{'act': 'set', 'subject': 'they', 'obj': 'Mars '}</td>\n",
       "      <td>[[1580 November 12, DATE], [10h 50m,1 they, TIME], [Mars, PLAN], [8° 36’ 50”, LONG], [diurnal, ASTR]]</td>\n",
       "      <td>[1, 1, 1]</td>\n",
       "      <td>1</td>\n",
       "    </tr>\n",
       "    <tr>\n",
       "      <th>1</th>\n",
       "      <td>On 1582 December 28 at 11h 30m, they set Mars down at 16° 47’ Cancer by observation ^6.</td>\n",
       "      <td>977</td>\n",
       "      <td>10.0</td>\n",
       "      <td>On 1582 December 28 at 11h 30m, they set Mars down at 16° 47’ Cancer by observation ^6. The moment of opposition assigned by Tycho comes 46 minutes later, during which the planet retrogressed less than one minute. Tycho therefore puts it at 16° 46’ 16” Cancer ^7. On an inserted sheet here, an attempt was made to correct for a refraction of two minutes. This was, I think, first trial of the theory of refraction then being developed. Nevertheless, he followed the observed value unchanged, thus declining to consider the planet as something which could alter its position. Nor was there any need for  correction, since it was in Cancer, beyond the reach of refraction, and was in mid-sky where, in Cancer, there is no longitudinal parallax.</td>\n",
       "      <td>221</td>\n",
       "      <td>{'act': 'set', 'subject': 'they', 'obj': 'Mars '}</td>\n",
       "      <td>[[1582 December 28, DATE], [11h 30m, TIME], [Mars, PLAN], [16° 47’ Cancer, LONG], [observation, ASTR]]</td>\n",
       "      <td>[1, 1, 1]</td>\n",
       "      <td>1</td>\n",
       "    </tr>\n",
       "    <tr>\n",
       "      <th>2</th>\n",
       "      <td>On 1585 January 31 at 12h 0m, Mars was placed at 21° 18’ 11” Leo ^8.</td>\n",
       "      <td>984</td>\n",
       "      <td>10.0</td>\n",
       "      <td>On 1585 January 31 at 12h 0m, Mars was placed at 21° 18’ 11” Leo ^8. The diurnal motion, by comparison of observations, was 24’ 15”. The moment of opposition followed at 19h 35m, 7 hours and 35 minutes later. To this period belongs 7’ 41” of diurnal motion westward. Therefore, at the designated moment, it would have been at 21° 10’ 30” Leo, which is what was accepted. There is no mention of parallax. Nothing had to be done about refraction, because Mars was high and at mid-sky. I therefore find the bit of advice in the table about refraction (properly) ignored.</td>\n",
       "      <td>222</td>\n",
       "      <td>{'act': 'placed'}</td>\n",
       "      <td>[[1585 January 31, DATE], [12h 0m, TIME], [Mars, PLAN], [21° 18’ 11” Leo, LONG]]</td>\n",
       "      <td>[1, 1, 1]</td>\n",
       "      <td>1</td>\n",
       "    </tr>\n",
       "    <tr>\n",
       "      <th>3</th>\n",
       "      <td>On 1587 March 7 at 19h 10m they deduced the position of Mars from the observations, which was 25° 10’ 20” Virgo.</td>\n",
       "      <td>992</td>\n",
       "      <td>10.0</td>\n",
       "      <td>On 1587 March 7 at 19h 10m they deduced the position of Mars from the observations, which was 25° 10’ 20” Virgo. This they kept in the table, but changed the time to 17h 22m. The difference of 1h 48m multiplied by a diurnal motion of 24’ gives the same number of minutes and seconds (that is, 1’ 48”), no more. It therefore should have been 25° 8’ 32” Virgo, which also approaches nearer the point opposite the sun. The difference is of practically no importance ^9.</td>\n",
       "      <td>223</td>\n",
       "      <td>{'act': 'm'}</td>\n",
       "      <td>[[1587 March 7, DATE], [19h 10m, TIME], [Mars, PLAN], [25° 10’ 20” Virgo., LONG]]</td>\n",
       "      <td>[1, 1, 1]</td>\n",
       "      <td>1</td>\n",
       "    </tr>\n",
       "    <tr>\n",
       "      <th>4</th>\n",
       "      <td>On 1589 April 15 at 12h 5m they established the position of Mars very carefully at 3° 58' 21\" Scorpio, and corrected for longitudinal parallax so as to make it 3° 57’ 11” ^10.</td>\n",
       "      <td>997</td>\n",
       "      <td>10.0</td>\n",
       "      <td>On 1589 April 15 at 12h 5m they established the position of Mars very carefully at 3° 58' 21\" Scorpio, and corrected for longitudinal parallax so as to make it 3° 57’ 11” ^10. There remain 1h 30m until the designated moment of opposition, which, for a diurnal motion of 22', bring the planet back 1’ 22”, so as to be at 3° 55’ 49”. They took the value of 3° 58’ 10”. The former is closer to the sun’s mean position.</td>\n",
       "      <td>224</td>\n",
       "      <td>{'act': 'established', 'subject': 'they', 'obj': 'the position of Mars '}</td>\n",
       "      <td>[[1589 April 15, DATE], [12h 5m, TIME], [Mars, PLAN], [3° 58' 21\" Scorpio, LONG], [longitudinal, ASTR], [parallax, ASTR], [3° 57’ 11”, LONG]]</td>\n",
       "      <td>[1, 1, 1]</td>\n",
       "      <td>1</td>\n",
       "    </tr>\n",
       "    <tr>\n",
       "      <th>5</th>\n",
       "      <td>On 1591 June 6 at 12h 20m, Mars is placed at 27° 15’ Sagittarius ^11.</td>\n",
       "      <td>1001</td>\n",
       "      <td>10.0</td>\n",
       "      <td>On 1591 June 6 at 12h 20m, Mars is placed at 27° 15’ Sagittarius ^11. There remained 2 days 4 hours and 5 minutes until the designated moment. In four days it was found to be moved forward 1° 12’ 47”. Therefore, to 2d 4h 5m correspond 39’ 29”. Consequently, at that moment Mars was at 26° 35’ 31” Sagittarius. There is no need to consider any horizontal variations in longitude, since Mars is at mid-sky and at the beginning of Capricorn. The table has 26° 32’ Sagittarius.</td>\n",
       "      <td>225</td>\n",
       "      <td>{'act': 'placed'}</td>\n",
       "      <td>[[1591 June 6, DATE], [12h 20m, TIME], [Mars, PLAN], [27° 15’ Sagittarius, LONG]]</td>\n",
       "      <td>[1, 1, 1]</td>\n",
       "      <td>1</td>\n",
       "    </tr>\n",
       "    <tr>\n",
       "      <th>6</th>\n",
       "      <td>On 1593 24 August at 10h 30m they report Mars as being at 12° 38’ Pisces12 with an observed diurnal motion of 16’ 45”, and this near the nonagesimal13 where there is no longitudinal parallax.</td>\n",
       "      <td>1008</td>\n",
       "      <td>10.0</td>\n",
       "      <td>On 1593 24 August at 10h 30m they report Mars as being at 12° 38’ Pisces12 with an observed diurnal motion of 16’ 45”, and this near the nonagesimal13 where there is no longitudinal parallax. The moment designated for the opposition preceded this by 8h 17m (for it was at 2h 13m),14 to which corresponds a motion of 5’ 48” eastward. Therefore, the planet falls at 12° 43’ 48” Pisces. And the table has 12° 43’ 45”.</td>\n",
       "      <td>226</td>\n",
       "      <td>{'act': 'report', 'subject': 'they', 'obj': 'Mars '}</td>\n",
       "      <td>[[1593 24 August, DATE], [10h 30m, TIME], [Mars, PLAN], [12° 38’ Pisces12, LONG], [observed, ASTR], [diurnal, ASTR], [16’ 45”, LONG], [longitudinal, ASTR], [parallax, ASTR]]</td>\n",
       "      <td>[1, 1, 1]</td>\n",
       "      <td>1</td>\n",
       "    </tr>\n",
       "    <tr>\n",
       "      <th>7</th>\n",
       "      <td>On 1595 October 30 at 8h 20m, they found Mars at 17° 48’ Taurus, with a diurnal motion of 22’ 54” ^15.</td>\n",
       "      <td>1012</td>\n",
       "      <td>10.0</td>\n",
       "      <td>On 1595 October 30 at 8h 20m, they found Mars at 17° 48’ Taurus, with a diurnal motion of 22’ 54” ^15. The designated moment preceded by 11h 48m, for which is required a motion of Mars of 11’ 7” eastward, so that it would be at 17° 59’ 7” Taurus. But it was projected eastward on account of parallax. Therefore, possibly using another observation on the meridian, they put down 17° 56’ 15” Taurus in the table.</td>\n",
       "      <td>227</td>\n",
       "      <td>{'act': 'found', 'subject': 'they', 'obj': 'Mars '}</td>\n",
       "      <td>[[1595 October 30, DATE], [8h 20m, TIME], [Mars, PLAN], [17° 48’ Taurus, LONG], [diurnal, ASTR], [22’ 54”, LONG]]</td>\n",
       "      <td>[1, 1, 1]</td>\n",
       "      <td>1</td>\n",
       "    </tr>\n",
       "    <tr>\n",
       "      <th>8</th>\n",
       "      <td>On 1597 December 10 at 8h 30m, they first placed Mars at 3° 30’ Cancer, and again at 4° 1’ Cancer, the mean being 3° 45½’ Cancer ^16.</td>\n",
       "      <td>1016</td>\n",
       "      <td>10.0</td>\n",
       "      <td>On 1597 December 10 at 8h 30m, they first placed Mars at 3° 30’ Cancer, and again at 4° 1’ Cancer, the mean being 3° 45½’ Cancer ^16. The moment of opposition came 3 days 5h 5m later, to which, from Magini, corresponds 1° 15’ westward. Therefore, Mars would have been at 2° 30½’ Cancer. In the table, it was put at 2° 28’. The reason for the rough measurement, carried out with a measuring staff, is clear from the date. Tycho had left the island, leaving all  instruments but the staff behind. Nevertheless, he did not wish to ignore this opposition completely. But I wish he had still remained on the island, for this opposition was a marvelous opportunity, not often recurring within a man’s lifetime, for examining Mars’s parallax.</td>\n",
       "      <td>228</td>\n",
       "      <td>{'act': 'placed', 'subject': 'they', 'obj': 'Mars '}</td>\n",
       "      <td>[[1597 December 10, DATE], [8h 30m, TIME], [Mars, PLAN], [3° 30’ Cancer, LONG], [4° 1’ Cancer, LONG], [3° 45½’, LONG]]</td>\n",
       "      <td>[1, 1, 1]</td>\n",
       "      <td>1</td>\n",
       "    </tr>\n",
       "    <tr>\n",
       "      <th>9</th>\n",
       "      <td>This gives a diurnal motion of 23’ 44”, and a position on January 19/29 at 9h 40m of 8° 18’ 45” Leo, just as they put it.</td>\n",
       "      <td>1027</td>\n",
       "      <td>10.0</td>\n",
       "      <td>Hence, Mars is at 10° 38’ 46” Leo, at an adjusted time of 11h 40m reduced to the meridian of Uraniborg. But on January 24/February 3 at the same time it was at 6° 18’ Leo. This gives a diurnal motion of 23’ 44”, and a position on January 19/29 at 9h 40m of 8° 18’ 45” Leo, just as they put it.</td>\n",
       "      <td>230</td>\n",
       "      <td>{'act': 'gives', 'subject': 'this', 'obj': 'a diurnal motion of 23’ 44'}</td>\n",
       "      <td>[[diurnal, ASTR], [23’ 44”, LONG], [January 19/29, DATE], [9h 40m, TIME], [8° 18’ 45” Leo, LONG]]</td>\n",
       "      <td>[1, 1, 1]</td>\n",
       "      <td>1</td>\n",
       "    </tr>\n",
       "  </tbody>\n",
       "</table>\n",
       "</div>"
      ],
      "text/plain": [
       "                                                                                                                                                                                                                     Sentence  \\\n",
       "0  On 1580 November 12 at 10h 50m,1 they set Mars down at 8° 36’ 50” Gemini2 without mentioning the horizontal variations,  by which term I wish the diurnal parallaxes and the refractions to be understood in what follows.   \n",
       "1                                                                                                                                     On 1582 December 28 at 11h 30m, they set Mars down at 16° 47’ Cancer by observation ^6.   \n",
       "2                                                                                                                                                        On 1585 January 31 at 12h 0m, Mars was placed at 21° 18’ 11” Leo ^8.   \n",
       "3                                                                                                            On 1587 March 7 at 19h 10m they deduced the position of Mars from the observations, which was 25° 10’ 20” Virgo.   \n",
       "4                                             On 1589 April 15 at 12h 5m they established the position of Mars very carefully at 3° 58' 21\" Scorpio, and corrected for longitudinal parallax so as to make it 3° 57’ 11” ^10.   \n",
       "5                                                                                                                                                       On 1591 June 6 at 12h 20m, Mars is placed at 27° 15’ Sagittarius ^11.   \n",
       "6                             On 1593 24 August at 10h 30m they report Mars as being at 12° 38’ Pisces12 with an observed diurnal motion of 16’ 45”, and this near the nonagesimal13 where there is no longitudinal parallax.   \n",
       "7                                                                                                                      On 1595 October 30 at 8h 20m, they found Mars at 17° 48’ Taurus, with a diurnal motion of 22’ 54” ^15.   \n",
       "8                                                                                       On 1597 December 10 at 8h 30m, they first placed Mars at 3° 30’ Cancer, and again at 4° 1’ Cancer, the mean being 3° 45½’ Cancer ^16.   \n",
       "9                                                                                                   This gives a diurnal motion of 23’ 44”, and a position on January 19/29 at 9h 40m of 8° 18’ 45” Leo, just as they put it.   \n",
       "\n",
       "   SentIndex  Chapter  \\\n",
       "0        967     10.0   \n",
       "1        977     10.0   \n",
       "2        984     10.0   \n",
       "3        992     10.0   \n",
       "4        997     10.0   \n",
       "5       1001     10.0   \n",
       "6       1008     10.0   \n",
       "7       1012     10.0   \n",
       "8       1016     10.0   \n",
       "9       1027     10.0   \n",
       "\n",
       "                                                                                                                                                                                                                                                                                                                                                                                                                                                                                                                                                                                                                                                                                                                                                                Paragraph  \\\n",
       "0                                                                                                                                                                                                                                                                                                                                                                                              On 1580 November 12 at 10h 50m,1 they set Mars down at 8° 36’ 50” Gemini2 without mentioning the horizontal variations,  by which term I wish the diurnal parallaxes and the refractions to be understood in what follows. Now this observation is distant and isolated. It was reduced to the moment of opposition using the diurnal motion from the Prutenic Tables ^3.    \n",
       "1  On 1582 December 28 at 11h 30m, they set Mars down at 16° 47’ Cancer by observation ^6. The moment of opposition assigned by Tycho comes 46 minutes later, during which the planet retrogressed less than one minute. Tycho therefore puts it at 16° 46’ 16” Cancer ^7. On an inserted sheet here, an attempt was made to correct for a refraction of two minutes. This was, I think, first trial of the theory of refraction then being developed. Nevertheless, he followed the observed value unchanged, thus declining to consider the planet as something which could alter its position. Nor was there any need for  correction, since it was in Cancer, beyond the reach of refraction, and was in mid-sky where, in Cancer, there is no longitudinal parallax.   \n",
       "2                                                                                                                                                                                 On 1585 January 31 at 12h 0m, Mars was placed at 21° 18’ 11” Leo ^8. The diurnal motion, by comparison of observations, was 24’ 15”. The moment of opposition followed at 19h 35m, 7 hours and 35 minutes later. To this period belongs 7’ 41” of diurnal motion westward. Therefore, at the designated moment, it would have been at 21° 10’ 30” Leo, which is what was accepted. There is no mention of parallax. Nothing had to be done about refraction, because Mars was high and at mid-sky. I therefore find the bit of advice in the table about refraction (properly) ignored.   \n",
       "3                                                                                                                                                                                                                                                                                     On 1587 March 7 at 19h 10m they deduced the position of Mars from the observations, which was 25° 10’ 20” Virgo. This they kept in the table, but changed the time to 17h 22m. The difference of 1h 48m multiplied by a diurnal motion of 24’ gives the same number of minutes and seconds (that is, 1’ 48”), no more. It therefore should have been 25° 8’ 32” Virgo, which also approaches nearer the point opposite the sun. The difference is of practically no importance ^9.    \n",
       "4                                                                                                                                                                                                                                                                                                                                         On 1589 April 15 at 12h 5m they established the position of Mars very carefully at 3° 58' 21\" Scorpio, and corrected for longitudinal parallax so as to make it 3° 57’ 11” ^10. There remain 1h 30m until the designated moment of opposition, which, for a diurnal motion of 22', bring the planet back 1’ 22”, so as to be at 3° 55’ 49”. They took the value of 3° 58’ 10”. The former is closer to the sun’s mean position.   \n",
       "5                                                                                                                                                                                                                                                                               On 1591 June 6 at 12h 20m, Mars is placed at 27° 15’ Sagittarius ^11. There remained 2 days 4 hours and 5 minutes until the designated moment. In four days it was found to be moved forward 1° 12’ 47”. Therefore, to 2d 4h 5m correspond 39’ 29”. Consequently, at that moment Mars was at 26° 35’ 31” Sagittarius. There is no need to consider any horizontal variations in longitude, since Mars is at mid-sky and at the beginning of Capricorn. The table has 26° 32’ Sagittarius.   \n",
       "6                                                                                                                                                                                                                                                                                                                                          On 1593 24 August at 10h 30m they report Mars as being at 12° 38’ Pisces12 with an observed diurnal motion of 16’ 45”, and this near the nonagesimal13 where there is no longitudinal parallax. The moment designated for the opposition preceded this by 8h 17m (for it was at 2h 13m),14 to which corresponds a motion of 5’ 48” eastward. Therefore, the planet falls at 12° 43’ 48” Pisces. And the table has 12° 43’ 45”.   \n",
       "7                                                                                                                                                                                                                                                                                                                                              On 1595 October 30 at 8h 20m, they found Mars at 17° 48’ Taurus, with a diurnal motion of 22’ 54” ^15. The designated moment preceded by 11h 48m, for which is required a motion of Mars of 11’ 7” eastward, so that it would be at 17° 59’ 7” Taurus. But it was projected eastward on account of parallax. Therefore, possibly using another observation on the meridian, they put down 17° 56’ 15” Taurus in the table.   \n",
       "8         On 1597 December 10 at 8h 30m, they first placed Mars at 3° 30’ Cancer, and again at 4° 1’ Cancer, the mean being 3° 45½’ Cancer ^16. The moment of opposition came 3 days 5h 5m later, to which, from Magini, corresponds 1° 15’ westward. Therefore, Mars would have been at 2° 30½’ Cancer. In the table, it was put at 2° 28’. The reason for the rough measurement, carried out with a measuring staff, is clear from the date. Tycho had left the island, leaving all  instruments but the staff behind. Nevertheless, he did not wish to ignore this opposition completely. But I wish he had still remained on the island, for this opposition was a marvelous opportunity, not often recurring within a man’s lifetime, for examining Mars’s parallax.   \n",
       "9                                                                                                                                                                                                                                                                                                                                                                                                                                                                   Hence, Mars is at 10° 38’ 46” Leo, at an adjusted time of 11h 40m reduced to the meridian of Uraniborg. But on January 24/February 3 at the same time it was at 6° 18’ Leo. This gives a diurnal motion of 23’ 44”, and a position on January 19/29 at 9h 40m of 8° 18’ 45” Leo, just as they put it.   \n",
       "\n",
       "   ParaIndex  \\\n",
       "0        218   \n",
       "1        221   \n",
       "2        222   \n",
       "3        223   \n",
       "4        224   \n",
       "5        225   \n",
       "6        226   \n",
       "7        227   \n",
       "8        228   \n",
       "9        230   \n",
       "\n",
       "                                                                         ASO  \\\n",
       "0                          {'act': 'set', 'subject': 'they', 'obj': 'Mars '}   \n",
       "1                          {'act': 'set', 'subject': 'they', 'obj': 'Mars '}   \n",
       "2                                                          {'act': 'placed'}   \n",
       "3                                                               {'act': 'm'}   \n",
       "4  {'act': 'established', 'subject': 'they', 'obj': 'the position of Mars '}   \n",
       "5                                                          {'act': 'placed'}   \n",
       "6                       {'act': 'report', 'subject': 'they', 'obj': 'Mars '}   \n",
       "7                        {'act': 'found', 'subject': 'they', 'obj': 'Mars '}   \n",
       "8                       {'act': 'placed', 'subject': 'they', 'obj': 'Mars '}   \n",
       "9   {'act': 'gives', 'subject': 'this', 'obj': 'a diurnal motion of 23’ 44'}   \n",
       "\n",
       "                                                                                                                                                                        Entities  \\\n",
       "0                                                                          [[1580 November 12, DATE], [10h 50m,1 they, TIME], [Mars, PLAN], [8° 36’ 50”, LONG], [diurnal, ASTR]]   \n",
       "1                                                                         [[1582 December 28, DATE], [11h 30m, TIME], [Mars, PLAN], [16° 47’ Cancer, LONG], [observation, ASTR]]   \n",
       "2                                                                                               [[1585 January 31, DATE], [12h 0m, TIME], [Mars, PLAN], [21° 18’ 11” Leo, LONG]]   \n",
       "3                                                                                              [[1587 March 7, DATE], [19h 10m, TIME], [Mars, PLAN], [25° 10’ 20” Virgo., LONG]]   \n",
       "4                                  [[1589 April 15, DATE], [12h 5m, TIME], [Mars, PLAN], [3° 58' 21\" Scorpio, LONG], [longitudinal, ASTR], [parallax, ASTR], [3° 57’ 11”, LONG]]   \n",
       "5                                                                                              [[1591 June 6, DATE], [12h 20m, TIME], [Mars, PLAN], [27° 15’ Sagittarius, LONG]]   \n",
       "6  [[1593 24 August, DATE], [10h 30m, TIME], [Mars, PLAN], [12° 38’ Pisces12, LONG], [observed, ASTR], [diurnal, ASTR], [16’ 45”, LONG], [longitudinal, ASTR], [parallax, ASTR]]   \n",
       "7                                                              [[1595 October 30, DATE], [8h 20m, TIME], [Mars, PLAN], [17° 48’ Taurus, LONG], [diurnal, ASTR], [22’ 54”, LONG]]   \n",
       "8                                                         [[1597 December 10, DATE], [8h 30m, TIME], [Mars, PLAN], [3° 30’ Cancer, LONG], [4° 1’ Cancer, LONG], [3° 45½’, LONG]]   \n",
       "9                                                                              [[diurnal, ASTR], [23’ 44”, LONG], [January 19/29, DATE], [9h 40m, TIME], [8° 18’ 45” Leo, LONG]]   \n",
       "\n",
       "        CNER  Label  \n",
       "0  [1, 1, 1]      1  \n",
       "1  [1, 1, 1]      1  \n",
       "2  [1, 1, 1]      1  \n",
       "3  [1, 1, 1]      1  \n",
       "4  [1, 1, 1]      1  \n",
       "5  [1, 1, 1]      1  \n",
       "6  [1, 1, 1]      1  \n",
       "7  [1, 1, 1]      1  \n",
       "8  [1, 1, 1]      1  \n",
       "9  [1, 1, 1]      1  "
      ]
     },
     "execution_count": 36,
     "metadata": {},
     "output_type": "execute_result"
    }
   ],
   "source": [
    "X_Obs.head(10)\n"
   ]
  },
  {
   "cell_type": "code",
   "execution_count": 37,
   "metadata": {},
   "outputs": [],
   "source": [
    "Y_Obs=df.loc[df.Label==1]\n",
    "Y_Obs=Y_Obs.Label\n",
    "Y_Obs=list(Y_Obs)\n",
    "NumberObs=len(Y_Obs)"
   ]
  },
  {
   "cell_type": "markdown",
   "metadata": {},
   "source": [
    "# Non-observational sentences  in the pragraph"
   ]
  },
  {
   "cell_type": "code",
   "execution_count": 38,
   "metadata": {},
   "outputs": [],
   "source": [
    "X_NObs=df.loc[df.Label==0]\n",
    "X_NObs=X_NObs.reset_index(drop=True);"
   ]
  },
  {
   "cell_type": "code",
   "execution_count": 39,
   "metadata": {},
   "outputs": [
    {
     "data": {
      "text/html": [
       "<div>\n",
       "<style scoped>\n",
       "    .dataframe tbody tr th:only-of-type {\n",
       "        vertical-align: middle;\n",
       "    }\n",
       "\n",
       "    .dataframe tbody tr th {\n",
       "        vertical-align: top;\n",
       "    }\n",
       "\n",
       "    .dataframe thead th {\n",
       "        text-align: right;\n",
       "    }\n",
       "</style>\n",
       "<table border=\"1\" class=\"dataframe\">\n",
       "  <thead>\n",
       "    <tr style=\"text-align: right;\">\n",
       "      <th></th>\n",
       "      <th>Sentence</th>\n",
       "      <th>SentIndex</th>\n",
       "      <th>Chapter</th>\n",
       "      <th>Paragraph</th>\n",
       "      <th>ParaIndex</th>\n",
       "      <th>ASO</th>\n",
       "      <th>Entities</th>\n",
       "      <th>CNER</th>\n",
       "      <th>Label</th>\n",
       "    </tr>\n",
       "  </thead>\n",
       "  <tbody>\n",
       "    <tr>\n",
       "      <th>0</th>\n",
       "      <td>Chapter 7</td>\n",
       "      <td>809</td>\n",
       "      <td>7.0</td>\n",
       "      <td>Chapter 7</td>\n",
       "      <td>167</td>\n",
       "      <td>{'act': 'Chapter'}</td>\n",
       "      <td>[]</td>\n",
       "      <td>[0, 0, 0]</td>\n",
       "      <td>0</td>\n",
       "    </tr>\n",
       "    <tr>\n",
       "      <th>1</th>\n",
       "      <td>The circumstances under which I happened upon the theory of Mars.</td>\n",
       "      <td>810</td>\n",
       "      <td>7.0</td>\n",
       "      <td>The circumstances under which I happened upon the theory of Mars.</td>\n",
       "      <td>168</td>\n",
       "      <td>{'act': 'circumstances'}</td>\n",
       "      <td>[[Mars, PLAN]]</td>\n",
       "      <td>[0, 0, 0]</td>\n",
       "      <td>0</td>\n",
       "    </tr>\n",
       "    <tr>\n",
       "      <th>2</th>\n",
       "      <td>It is true that a divine voice, which enjoins humans to study astronomy, is expressed in the world itself, not in words or syllables, but in things themselves and in the conformity of the human intellect and senses with the sequence of celestial bodies and of their dispositions.</td>\n",
       "      <td>811</td>\n",
       "      <td>7.0</td>\n",
       "      <td>It is true that a divine voice, which enjoins humans to study astronomy, is expressed in the world itself, not in words or syllables, but in things themselves and in the conformity of the human intellect and senses with the sequence of celestial bodies and of their dispositions. Nevertheless, a kind of fate also invisibly drives different individuals to take up different arts, and makes them certain that, just as they are a part of the work of creation, they likewise also partake to some extent in divine providence.</td>\n",
       "      <td>169</td>\n",
       "      <td>{'act': 'is', 'subject': 'it'}</td>\n",
       "      <td>[]</td>\n",
       "      <td>[0, 0, 0]</td>\n",
       "      <td>0</td>\n",
       "    </tr>\n",
       "    <tr>\n",
       "      <th>3</th>\n",
       "      <td>Nevertheless, a kind of fate also invisibly drives different individuals to take up different arts, and makes them certain that, just as they are a part of the work of creation, they likewise also partake to some extent in divine providence.</td>\n",
       "      <td>812</td>\n",
       "      <td>7.0</td>\n",
       "      <td>It is true that a divine voice, which enjoins humans to study astronomy, is expressed in the world itself, not in words or syllables, but in things themselves and in the conformity of the human intellect and senses with the sequence of celestial bodies and of their dispositions. Nevertheless, a kind of fate also invisibly drives different individuals to take up different arts, and makes them certain that, just as they are a part of the work of creation, they likewise also partake to some extent in divine providence.</td>\n",
       "      <td>169</td>\n",
       "      <td>{'act': 'drives', 'subject': 'kind', 'obj': 'different individuals '}</td>\n",
       "      <td>[]</td>\n",
       "      <td>[0, 0, 0]</td>\n",
       "      <td>0</td>\n",
       "    </tr>\n",
       "    <tr>\n",
       "      <th>4</th>\n",
       "      <td>When, in my early years, I was able to taste the sweetness of philosophy, I embraced the whole of it with an overwhelming desire, and with practically no special concern about astronomy.</td>\n",
       "      <td>813</td>\n",
       "      <td>7.0</td>\n",
       "      <td>When, in my early years, I was able to taste the sweetness of philosophy, I embraced the whole of it with an overwhelming desire, and with practically no special concern about astronomy. I certainly had enough intelligence, nor did I have any difficulty understanding the geometrical and astronomical topics included in the normal curriculum, aided as I was by figures, numbers, and proportions. These were, however, required courses, nothing that would bespeak an exceptional inclination towards astronomy. And since I was supported at the expense of the Duke of Württemberg, and saw my comrades, whom the Prince, upon request, kept trying to send to foreign countries, stalling in various ways out of love for their country, I, being hardier, quite maturely agreed with myself that whithersoever I was destined I would promptly go.</td>\n",
       "      <td>170</td>\n",
       "      <td>{'act': 'embraced', 'subject': 'i', 'obj': 'the whole of it '}</td>\n",
       "      <td>[]</td>\n",
       "      <td>[0, 0, 0]</td>\n",
       "      <td>0</td>\n",
       "    </tr>\n",
       "    <tr>\n",
       "      <th>...</th>\n",
       "      <td>...</td>\n",
       "      <td>...</td>\n",
       "      <td>...</td>\n",
       "      <td>...</td>\n",
       "      <td>...</td>\n",
       "      <td>...</td>\n",
       "      <td>...</td>\n",
       "      <td>...</td>\n",
       "      <td>...</td>\n",
       "    </tr>\n",
       "    <tr>\n",
       "      <th>1482</th>\n",
       "      <td>16, or the sun's mean motion and the hypothesis proposed in Ch.</td>\n",
       "      <td>2328</td>\n",
       "      <td>21.0</td>\n",
       "      <td>Up to the present, the hypothesis accounting for the first inequality (in which Brahe and Copernicus are in agreement, both differing somewhat in form from Ptolemy) has been presented using the sun's mean motion, which all three authors had substituted for the sun's apparent motion. Thereafter, it was shown that whether we follow the sun's apparent motion and the hypothesis found in Ch. 16, or the sun's mean motion and the hypothesis proposed in Ch. 8 according to Brahe's revision, in both instances there result false distances of the planet from the center, whether of the sun (for Copernicus and Brahe) or of the world (for Ptolemy). Consequently, what we had previously constructed from the Brahean observations we have later in turn destroyed using other observations of his. This was the necessary consequence of our having followed (in imitation of previous theorists) several things that were plausible but really false.</td>\n",
       "      <td>482</td>\n",
       "      <td>{'act': '16'}</td>\n",
       "      <td>[]</td>\n",
       "      <td>[0, 0, 0]</td>\n",
       "      <td>0</td>\n",
       "    </tr>\n",
       "    <tr>\n",
       "      <th>1483</th>\n",
       "      <td>8 according to Brahe's revision, in both instances there result false distances of the planet from the center, whether of the sun (for Copernicus and Brahe) or of the world (for Ptolemy).</td>\n",
       "      <td>2329</td>\n",
       "      <td>21.0</td>\n",
       "      <td>Up to the present, the hypothesis accounting for the first inequality (in which Brahe and Copernicus are in agreement, both differing somewhat in form from Ptolemy) has been presented using the sun's mean motion, which all three authors had substituted for the sun's apparent motion. Thereafter, it was shown that whether we follow the sun's apparent motion and the hypothesis found in Ch. 16, or the sun's mean motion and the hypothesis proposed in Ch. 8 according to Brahe's revision, in both instances there result false distances of the planet from the center, whether of the sun (for Copernicus and Brahe) or of the world (for Ptolemy). Consequently, what we had previously constructed from the Brahean observations we have later in turn destroyed using other observations of his. This was the necessary consequence of our having followed (in imitation of previous theorists) several things that were plausible but really false.</td>\n",
       "      <td>482</td>\n",
       "      <td>{'act': 'result', 'obj': 'false distances of the planet from the center, whether of the sun (for Copernicus and Brahe) or of the world (for Ptolemy)'}</td>\n",
       "      <td>[[Copernicus, NAME]]</td>\n",
       "      <td>[0, 0, 0]</td>\n",
       "      <td>0</td>\n",
       "    </tr>\n",
       "    <tr>\n",
       "      <th>1484</th>\n",
       "      <td>Consequently, what we had previously constructed from the Brahean observations we have later in turn destroyed using other observations of his.</td>\n",
       "      <td>2330</td>\n",
       "      <td>21.0</td>\n",
       "      <td>Up to the present, the hypothesis accounting for the first inequality (in which Brahe and Copernicus are in agreement, both differing somewhat in form from Ptolemy) has been presented using the sun's mean motion, which all three authors had substituted for the sun's apparent motion. Thereafter, it was shown that whether we follow the sun's apparent motion and the hypothesis found in Ch. 16, or the sun's mean motion and the hypothesis proposed in Ch. 8 according to Brahe's revision, in both instances there result false distances of the planet from the center, whether of the sun (for Copernicus and Brahe) or of the world (for Ptolemy). Consequently, what we had previously constructed from the Brahean observations we have later in turn destroyed using other observations of his. This was the necessary consequence of our having followed (in imitation of previous theorists) several things that were plausible but really false.</td>\n",
       "      <td>482</td>\n",
       "      <td>{'act': 'destroyed'}</td>\n",
       "      <td>[[Brahean, NAME]]</td>\n",
       "      <td>[0, 0, 0]</td>\n",
       "      <td>0</td>\n",
       "    </tr>\n",
       "    <tr>\n",
       "      <th>1485</th>\n",
       "      <td>This was the necessary consequence of our having followed (in imitation of previous theorists) several things that were plausible but really false.</td>\n",
       "      <td>2331</td>\n",
       "      <td>21.0</td>\n",
       "      <td>Up to the present, the hypothesis accounting for the first inequality (in which Brahe and Copernicus are in agreement, both differing somewhat in form from Ptolemy) has been presented using the sun's mean motion, which all three authors had substituted for the sun's apparent motion. Thereafter, it was shown that whether we follow the sun's apparent motion and the hypothesis found in Ch. 16, or the sun's mean motion and the hypothesis proposed in Ch. 8 according to Brahe's revision, in both instances there result false distances of the planet from the center, whether of the sun (for Copernicus and Brahe) or of the world (for Ptolemy). Consequently, what we had previously constructed from the Brahean observations we have later in turn destroyed using other observations of his. This was the necessary consequence of our having followed (in imitation of previous theorists) several things that were plausible but really false.</td>\n",
       "      <td>482</td>\n",
       "      <td>{'act': 'was', 'subject': 'this'}</td>\n",
       "      <td>[]</td>\n",
       "      <td>[0, 0, 0]</td>\n",
       "      <td>0</td>\n",
       "    </tr>\n",
       "    <tr>\n",
       "      <th>1486</th>\n",
       "      <td>And this much of the work is dedicated to this imitation of previous theorists, with which I am concluding this second part of the Commentaries.</td>\n",
       "      <td>2332</td>\n",
       "      <td>21.0</td>\n",
       "      <td>And this much of the work is dedicated to this imitation of previous theorists, with which I am concluding this second part of the Commentaries.</td>\n",
       "      <td>483</td>\n",
       "      <td>{'act': 'dedicated'}</td>\n",
       "      <td>[]</td>\n",
       "      <td>[0, 0, 0]</td>\n",
       "      <td>0</td>\n",
       "    </tr>\n",
       "  </tbody>\n",
       "</table>\n",
       "<p>1487 rows × 9 columns</p>\n",
       "</div>"
      ],
      "text/plain": [
       "                                                                                                                                                                                                                                                                                     Sentence  \\\n",
       "0                                                                                                                                                                                                                                                                                   Chapter 7   \n",
       "1                                                                                                                                                                                                                           The circumstances under which I happened upon the theory of Mars.   \n",
       "2     It is true that a divine voice, which enjoins humans to study astronomy, is expressed in the world itself, not in words or syllables, but in things themselves and in the conformity of the human intellect and senses with the sequence of celestial bodies and of their dispositions.   \n",
       "3                                           Nevertheless, a kind of fate also invisibly drives different individuals to take up different arts, and makes them certain that, just as they are a part of the work of creation, they likewise also partake to some extent in divine providence.   \n",
       "4                                                                                                  When, in my early years, I was able to taste the sweetness of philosophy, I embraced the whole of it with an overwhelming desire, and with practically no special concern about astronomy.   \n",
       "...                                                                                                                                                                                                                                                                                       ...   \n",
       "1482                                                                                                                                                                                                                          16, or the sun's mean motion and the hypothesis proposed in Ch.   \n",
       "1483                                                                                              8 according to Brahe's revision, in both instances there result false distances of the planet from the center, whether of the sun (for Copernicus and Brahe) or of the world (for Ptolemy).   \n",
       "1484                                                                                                                                          Consequently, what we had previously constructed from the Brahean observations we have later in turn destroyed using other observations of his.   \n",
       "1485                                                                                                                                      This was the necessary consequence of our having followed (in imitation of previous theorists) several things that were plausible but really false.   \n",
       "1486                                                                                                                                         And this much of the work is dedicated to this imitation of previous theorists, with which I am concluding this second part of the Commentaries.   \n",
       "\n",
       "      SentIndex  Chapter  \\\n",
       "0           809      7.0   \n",
       "1           810      7.0   \n",
       "2           811      7.0   \n",
       "3           812      7.0   \n",
       "4           813      7.0   \n",
       "...         ...      ...   \n",
       "1482       2328     21.0   \n",
       "1483       2329     21.0   \n",
       "1484       2330     21.0   \n",
       "1485       2331     21.0   \n",
       "1486       2332     21.0   \n",
       "\n",
       "                                                                                                                                                                                                                                                                                                                                                                                                                                                                                                                                                                                                                                                                                                                                                                                                                                                                                                                                                                  Paragraph  \\\n",
       "0                                                                                                                                                                                                                                                                                                                                                                                                                                                                                                                                                                                                                                                                                                                                                                                                                                                                                                                                                                Chapter 7    \n",
       "1                                                                                                                                                                                                                                                                                                                                                                                                                                                                                                                                                                                                                                                                                                                                                                                                                                                                                                         The circumstances under which I happened upon the theory of Mars.   \n",
       "2                                                                                                                                                                                                                                                                                                                                                                                                                                 It is true that a divine voice, which enjoins humans to study astronomy, is expressed in the world itself, not in words or syllables, but in things themselves and in the conformity of the human intellect and senses with the sequence of celestial bodies and of their dispositions. Nevertheless, a kind of fate also invisibly drives different individuals to take up different arts, and makes them certain that, just as they are a part of the work of creation, they likewise also partake to some extent in divine providence.   \n",
       "3                                                                                                                                                                                                                                                                                                                                                                                                                                 It is true that a divine voice, which enjoins humans to study astronomy, is expressed in the world itself, not in words or syllables, but in things themselves and in the conformity of the human intellect and senses with the sequence of celestial bodies and of their dispositions. Nevertheless, a kind of fate also invisibly drives different individuals to take up different arts, and makes them certain that, just as they are a part of the work of creation, they likewise also partake to some extent in divine providence.   \n",
       "4                                                                                                         When, in my early years, I was able to taste the sweetness of philosophy, I embraced the whole of it with an overwhelming desire, and with practically no special concern about astronomy. I certainly had enough intelligence, nor did I have any difficulty understanding the geometrical and astronomical topics included in the normal curriculum, aided as I was by figures, numbers, and proportions. These were, however, required courses, nothing that would bespeak an exceptional inclination towards astronomy. And since I was supported at the expense of the Duke of Württemberg, and saw my comrades, whom the Prince, upon request, kept trying to send to foreign countries, stalling in various ways out of love for their country, I, being hardier, quite maturely agreed with myself that whithersoever I was destined I would promptly go.   \n",
       "...                                                                                                                                                                                                                                                                                                                                                                                                                                                                                                                                                                                                                                                                                                                                                                                                                                                                                                                                                                     ...   \n",
       "1482  Up to the present, the hypothesis accounting for the first inequality (in which Brahe and Copernicus are in agreement, both differing somewhat in form from Ptolemy) has been presented using the sun's mean motion, which all three authors had substituted for the sun's apparent motion. Thereafter, it was shown that whether we follow the sun's apparent motion and the hypothesis found in Ch. 16, or the sun's mean motion and the hypothesis proposed in Ch. 8 according to Brahe's revision, in both instances there result false distances of the planet from the center, whether of the sun (for Copernicus and Brahe) or of the world (for Ptolemy). Consequently, what we had previously constructed from the Brahean observations we have later in turn destroyed using other observations of his. This was the necessary consequence of our having followed (in imitation of previous theorists) several things that were plausible but really false.   \n",
       "1483  Up to the present, the hypothesis accounting for the first inequality (in which Brahe and Copernicus are in agreement, both differing somewhat in form from Ptolemy) has been presented using the sun's mean motion, which all three authors had substituted for the sun's apparent motion. Thereafter, it was shown that whether we follow the sun's apparent motion and the hypothesis found in Ch. 16, or the sun's mean motion and the hypothesis proposed in Ch. 8 according to Brahe's revision, in both instances there result false distances of the planet from the center, whether of the sun (for Copernicus and Brahe) or of the world (for Ptolemy). Consequently, what we had previously constructed from the Brahean observations we have later in turn destroyed using other observations of his. This was the necessary consequence of our having followed (in imitation of previous theorists) several things that were plausible but really false.   \n",
       "1484  Up to the present, the hypothesis accounting for the first inequality (in which Brahe and Copernicus are in agreement, both differing somewhat in form from Ptolemy) has been presented using the sun's mean motion, which all three authors had substituted for the sun's apparent motion. Thereafter, it was shown that whether we follow the sun's apparent motion and the hypothesis found in Ch. 16, or the sun's mean motion and the hypothesis proposed in Ch. 8 according to Brahe's revision, in both instances there result false distances of the planet from the center, whether of the sun (for Copernicus and Brahe) or of the world (for Ptolemy). Consequently, what we had previously constructed from the Brahean observations we have later in turn destroyed using other observations of his. This was the necessary consequence of our having followed (in imitation of previous theorists) several things that were plausible but really false.   \n",
       "1485  Up to the present, the hypothesis accounting for the first inequality (in which Brahe and Copernicus are in agreement, both differing somewhat in form from Ptolemy) has been presented using the sun's mean motion, which all three authors had substituted for the sun's apparent motion. Thereafter, it was shown that whether we follow the sun's apparent motion and the hypothesis found in Ch. 16, or the sun's mean motion and the hypothesis proposed in Ch. 8 according to Brahe's revision, in both instances there result false distances of the planet from the center, whether of the sun (for Copernicus and Brahe) or of the world (for Ptolemy). Consequently, what we had previously constructed from the Brahean observations we have later in turn destroyed using other observations of his. This was the necessary consequence of our having followed (in imitation of previous theorists) several things that were plausible but really false.   \n",
       "1486                                                                                                                                                                                                                                                                                                                                                                                                                                                                                                                                                                                                                                                                                                                                                                                                                       And this much of the work is dedicated to this imitation of previous theorists, with which I am concluding this second part of the Commentaries.   \n",
       "\n",
       "      ParaIndex  \\\n",
       "0           167   \n",
       "1           168   \n",
       "2           169   \n",
       "3           169   \n",
       "4           170   \n",
       "...         ...   \n",
       "1482        482   \n",
       "1483        482   \n",
       "1484        482   \n",
       "1485        482   \n",
       "1486        483   \n",
       "\n",
       "                                                                                                                                                         ASO  \\\n",
       "0                                                                                                                                         {'act': 'Chapter'}   \n",
       "1                                                                                                                                   {'act': 'circumstances'}   \n",
       "2                                                                                                                             {'act': 'is', 'subject': 'it'}   \n",
       "3                                                                                      {'act': 'drives', 'subject': 'kind', 'obj': 'different individuals '}   \n",
       "4                                                                                             {'act': 'embraced', 'subject': 'i', 'obj': 'the whole of it '}   \n",
       "...                                                                                                                                                      ...   \n",
       "1482                                                                                                                                           {'act': '16'}   \n",
       "1483  {'act': 'result', 'obj': 'false distances of the planet from the center, whether of the sun (for Copernicus and Brahe) or of the world (for Ptolemy)'}   \n",
       "1484                                                                                                                                    {'act': 'destroyed'}   \n",
       "1485                                                                                                                       {'act': 'was', 'subject': 'this'}   \n",
       "1486                                                                                                                                    {'act': 'dedicated'}   \n",
       "\n",
       "                  Entities       CNER  Label  \n",
       "0                       []  [0, 0, 0]      0  \n",
       "1           [[Mars, PLAN]]  [0, 0, 0]      0  \n",
       "2                       []  [0, 0, 0]      0  \n",
       "3                       []  [0, 0, 0]      0  \n",
       "4                       []  [0, 0, 0]      0  \n",
       "...                    ...        ...    ...  \n",
       "1482                    []  [0, 0, 0]      0  \n",
       "1483  [[Copernicus, NAME]]  [0, 0, 0]      0  \n",
       "1484     [[Brahean, NAME]]  [0, 0, 0]      0  \n",
       "1485                    []  [0, 0, 0]      0  \n",
       "1486                    []  [0, 0, 0]      0  \n",
       "\n",
       "[1487 rows x 9 columns]"
      ]
     },
     "execution_count": 39,
     "metadata": {},
     "output_type": "execute_result"
    }
   ],
   "source": [
    "X_NObs"
   ]
  },
  {
   "cell_type": "code",
   "execution_count": 40,
   "metadata": {},
   "outputs": [],
   "source": [
    "Y_NObs=df.loc[df.Label==0]\n",
    "Y_NObs=Y_NObs.Label\n",
    "Y_NObs=list(Y_NObs)"
   ]
  },
  {
   "cell_type": "code",
   "execution_count": 41,
   "metadata": {},
   "outputs": [
    {
     "data": {
      "text/html": [
       "<div>\n",
       "<style scoped>\n",
       "    .dataframe tbody tr th:only-of-type {\n",
       "        vertical-align: middle;\n",
       "    }\n",
       "\n",
       "    .dataframe tbody tr th {\n",
       "        vertical-align: top;\n",
       "    }\n",
       "\n",
       "    .dataframe thead th {\n",
       "        text-align: right;\n",
       "    }\n",
       "</style>\n",
       "<table border=\"1\" class=\"dataframe\">\n",
       "  <thead>\n",
       "    <tr style=\"text-align: right;\">\n",
       "      <th></th>\n",
       "      <th>Sentence</th>\n",
       "      <th>SentIndex</th>\n",
       "      <th>Chapter</th>\n",
       "      <th>Paragraph</th>\n",
       "      <th>ParaIndex</th>\n",
       "      <th>ASO</th>\n",
       "      <th>Entities</th>\n",
       "      <th>CNER</th>\n",
       "      <th>Label</th>\n",
       "    </tr>\n",
       "  </thead>\n",
       "  <tbody>\n",
       "    <tr>\n",
       "      <th>0</th>\n",
       "      <td>Chapter 7</td>\n",
       "      <td>809</td>\n",
       "      <td>7.0</td>\n",
       "      <td>Chapter 7</td>\n",
       "      <td>167</td>\n",
       "      <td>{'act': 'Chapter'}</td>\n",
       "      <td>[]</td>\n",
       "      <td>[0, 0, 0]</td>\n",
       "      <td>0</td>\n",
       "    </tr>\n",
       "    <tr>\n",
       "      <th>1</th>\n",
       "      <td>The circumstances under which I happened upon the theory of Mars.</td>\n",
       "      <td>810</td>\n",
       "      <td>7.0</td>\n",
       "      <td>The circumstances under which I happened upon the theory of Mars.</td>\n",
       "      <td>168</td>\n",
       "      <td>{'act': 'circumstances'}</td>\n",
       "      <td>[[Mars, PLAN]]</td>\n",
       "      <td>[0, 0, 0]</td>\n",
       "      <td>0</td>\n",
       "    </tr>\n",
       "    <tr>\n",
       "      <th>2</th>\n",
       "      <td>It is true that a divine voice, which enjoins humans to study astronomy, is expressed in the world itself, not in words or syllables, but in things themselves and in the conformity of the human intellect and senses with the sequence of celestial bodies and of their dispositions.</td>\n",
       "      <td>811</td>\n",
       "      <td>7.0</td>\n",
       "      <td>It is true that a divine voice, which enjoins humans to study astronomy, is expressed in the world itself, not in words or syllables, but in things themselves and in the conformity of the human intellect and senses with the sequence of celestial bodies and of their dispositions. Nevertheless, a kind of fate also invisibly drives different individuals to take up different arts, and makes them certain that, just as they are a part of the work of creation, they likewise also partake to some extent in divine providence.</td>\n",
       "      <td>169</td>\n",
       "      <td>{'act': 'is', 'subject': 'it'}</td>\n",
       "      <td>[]</td>\n",
       "      <td>[0, 0, 0]</td>\n",
       "      <td>0</td>\n",
       "    </tr>\n",
       "    <tr>\n",
       "      <th>3</th>\n",
       "      <td>Nevertheless, a kind of fate also invisibly drives different individuals to take up different arts, and makes them certain that, just as they are a part of the work of creation, they likewise also partake to some extent in divine providence.</td>\n",
       "      <td>812</td>\n",
       "      <td>7.0</td>\n",
       "      <td>It is true that a divine voice, which enjoins humans to study astronomy, is expressed in the world itself, not in words or syllables, but in things themselves and in the conformity of the human intellect and senses with the sequence of celestial bodies and of their dispositions. Nevertheless, a kind of fate also invisibly drives different individuals to take up different arts, and makes them certain that, just as they are a part of the work of creation, they likewise also partake to some extent in divine providence.</td>\n",
       "      <td>169</td>\n",
       "      <td>{'act': 'drives', 'subject': 'kind', 'obj': 'different individuals '}</td>\n",
       "      <td>[]</td>\n",
       "      <td>[0, 0, 0]</td>\n",
       "      <td>0</td>\n",
       "    </tr>\n",
       "    <tr>\n",
       "      <th>4</th>\n",
       "      <td>When, in my early years, I was able to taste the sweetness of philosophy, I embraced the whole of it with an overwhelming desire, and with practically no special concern about astronomy.</td>\n",
       "      <td>813</td>\n",
       "      <td>7.0</td>\n",
       "      <td>When, in my early years, I was able to taste the sweetness of philosophy, I embraced the whole of it with an overwhelming desire, and with practically no special concern about astronomy. I certainly had enough intelligence, nor did I have any difficulty understanding the geometrical and astronomical topics included in the normal curriculum, aided as I was by figures, numbers, and proportions. These were, however, required courses, nothing that would bespeak an exceptional inclination towards astronomy. And since I was supported at the expense of the Duke of Württemberg, and saw my comrades, whom the Prince, upon request, kept trying to send to foreign countries, stalling in various ways out of love for their country, I, being hardier, quite maturely agreed with myself that whithersoever I was destined I would promptly go.</td>\n",
       "      <td>170</td>\n",
       "      <td>{'act': 'embraced', 'subject': 'i', 'obj': 'the whole of it '}</td>\n",
       "      <td>[]</td>\n",
       "      <td>[0, 0, 0]</td>\n",
       "      <td>0</td>\n",
       "    </tr>\n",
       "    <tr>\n",
       "      <th>...</th>\n",
       "      <td>...</td>\n",
       "      <td>...</td>\n",
       "      <td>...</td>\n",
       "      <td>...</td>\n",
       "      <td>...</td>\n",
       "      <td>...</td>\n",
       "      <td>...</td>\n",
       "      <td>...</td>\n",
       "      <td>...</td>\n",
       "    </tr>\n",
       "    <tr>\n",
       "      <th>1482</th>\n",
       "      <td>16, or the sun's mean motion and the hypothesis proposed in Ch.</td>\n",
       "      <td>2328</td>\n",
       "      <td>21.0</td>\n",
       "      <td>Up to the present, the hypothesis accounting for the first inequality (in which Brahe and Copernicus are in agreement, both differing somewhat in form from Ptolemy) has been presented using the sun's mean motion, which all three authors had substituted for the sun's apparent motion. Thereafter, it was shown that whether we follow the sun's apparent motion and the hypothesis found in Ch. 16, or the sun's mean motion and the hypothesis proposed in Ch. 8 according to Brahe's revision, in both instances there result false distances of the planet from the center, whether of the sun (for Copernicus and Brahe) or of the world (for Ptolemy). Consequently, what we had previously constructed from the Brahean observations we have later in turn destroyed using other observations of his. This was the necessary consequence of our having followed (in imitation of previous theorists) several things that were plausible but really false.</td>\n",
       "      <td>482</td>\n",
       "      <td>{'act': '16'}</td>\n",
       "      <td>[]</td>\n",
       "      <td>[0, 0, 0]</td>\n",
       "      <td>0</td>\n",
       "    </tr>\n",
       "    <tr>\n",
       "      <th>1483</th>\n",
       "      <td>8 according to Brahe's revision, in both instances there result false distances of the planet from the center, whether of the sun (for Copernicus and Brahe) or of the world (for Ptolemy).</td>\n",
       "      <td>2329</td>\n",
       "      <td>21.0</td>\n",
       "      <td>Up to the present, the hypothesis accounting for the first inequality (in which Brahe and Copernicus are in agreement, both differing somewhat in form from Ptolemy) has been presented using the sun's mean motion, which all three authors had substituted for the sun's apparent motion. Thereafter, it was shown that whether we follow the sun's apparent motion and the hypothesis found in Ch. 16, or the sun's mean motion and the hypothesis proposed in Ch. 8 according to Brahe's revision, in both instances there result false distances of the planet from the center, whether of the sun (for Copernicus and Brahe) or of the world (for Ptolemy). Consequently, what we had previously constructed from the Brahean observations we have later in turn destroyed using other observations of his. This was the necessary consequence of our having followed (in imitation of previous theorists) several things that were plausible but really false.</td>\n",
       "      <td>482</td>\n",
       "      <td>{'act': 'result', 'obj': 'false distances of the planet from the center, whether of the sun (for Copernicus and Brahe) or of the world (for Ptolemy)'}</td>\n",
       "      <td>[[Copernicus, NAME]]</td>\n",
       "      <td>[0, 0, 0]</td>\n",
       "      <td>0</td>\n",
       "    </tr>\n",
       "    <tr>\n",
       "      <th>1484</th>\n",
       "      <td>Consequently, what we had previously constructed from the Brahean observations we have later in turn destroyed using other observations of his.</td>\n",
       "      <td>2330</td>\n",
       "      <td>21.0</td>\n",
       "      <td>Up to the present, the hypothesis accounting for the first inequality (in which Brahe and Copernicus are in agreement, both differing somewhat in form from Ptolemy) has been presented using the sun's mean motion, which all three authors had substituted for the sun's apparent motion. Thereafter, it was shown that whether we follow the sun's apparent motion and the hypothesis found in Ch. 16, or the sun's mean motion and the hypothesis proposed in Ch. 8 according to Brahe's revision, in both instances there result false distances of the planet from the center, whether of the sun (for Copernicus and Brahe) or of the world (for Ptolemy). Consequently, what we had previously constructed from the Brahean observations we have later in turn destroyed using other observations of his. This was the necessary consequence of our having followed (in imitation of previous theorists) several things that were plausible but really false.</td>\n",
       "      <td>482</td>\n",
       "      <td>{'act': 'destroyed'}</td>\n",
       "      <td>[[Brahean, NAME]]</td>\n",
       "      <td>[0, 0, 0]</td>\n",
       "      <td>0</td>\n",
       "    </tr>\n",
       "    <tr>\n",
       "      <th>1485</th>\n",
       "      <td>This was the necessary consequence of our having followed (in imitation of previous theorists) several things that were plausible but really false.</td>\n",
       "      <td>2331</td>\n",
       "      <td>21.0</td>\n",
       "      <td>Up to the present, the hypothesis accounting for the first inequality (in which Brahe and Copernicus are in agreement, both differing somewhat in form from Ptolemy) has been presented using the sun's mean motion, which all three authors had substituted for the sun's apparent motion. Thereafter, it was shown that whether we follow the sun's apparent motion and the hypothesis found in Ch. 16, or the sun's mean motion and the hypothesis proposed in Ch. 8 according to Brahe's revision, in both instances there result false distances of the planet from the center, whether of the sun (for Copernicus and Brahe) or of the world (for Ptolemy). Consequently, what we had previously constructed from the Brahean observations we have later in turn destroyed using other observations of his. This was the necessary consequence of our having followed (in imitation of previous theorists) several things that were plausible but really false.</td>\n",
       "      <td>482</td>\n",
       "      <td>{'act': 'was', 'subject': 'this'}</td>\n",
       "      <td>[]</td>\n",
       "      <td>[0, 0, 0]</td>\n",
       "      <td>0</td>\n",
       "    </tr>\n",
       "    <tr>\n",
       "      <th>1486</th>\n",
       "      <td>And this much of the work is dedicated to this imitation of previous theorists, with which I am concluding this second part of the Commentaries.</td>\n",
       "      <td>2332</td>\n",
       "      <td>21.0</td>\n",
       "      <td>And this much of the work is dedicated to this imitation of previous theorists, with which I am concluding this second part of the Commentaries.</td>\n",
       "      <td>483</td>\n",
       "      <td>{'act': 'dedicated'}</td>\n",
       "      <td>[]</td>\n",
       "      <td>[0, 0, 0]</td>\n",
       "      <td>0</td>\n",
       "    </tr>\n",
       "  </tbody>\n",
       "</table>\n",
       "<p>1487 rows × 9 columns</p>\n",
       "</div>"
      ],
      "text/plain": [
       "                                                                                                                                                                                                                                                                                     Sentence  \\\n",
       "0                                                                                                                                                                                                                                                                                   Chapter 7   \n",
       "1                                                                                                                                                                                                                           The circumstances under which I happened upon the theory of Mars.   \n",
       "2     It is true that a divine voice, which enjoins humans to study astronomy, is expressed in the world itself, not in words or syllables, but in things themselves and in the conformity of the human intellect and senses with the sequence of celestial bodies and of their dispositions.   \n",
       "3                                           Nevertheless, a kind of fate also invisibly drives different individuals to take up different arts, and makes them certain that, just as they are a part of the work of creation, they likewise also partake to some extent in divine providence.   \n",
       "4                                                                                                  When, in my early years, I was able to taste the sweetness of philosophy, I embraced the whole of it with an overwhelming desire, and with practically no special concern about astronomy.   \n",
       "...                                                                                                                                                                                                                                                                                       ...   \n",
       "1482                                                                                                                                                                                                                          16, or the sun's mean motion and the hypothesis proposed in Ch.   \n",
       "1483                                                                                              8 according to Brahe's revision, in both instances there result false distances of the planet from the center, whether of the sun (for Copernicus and Brahe) or of the world (for Ptolemy).   \n",
       "1484                                                                                                                                          Consequently, what we had previously constructed from the Brahean observations we have later in turn destroyed using other observations of his.   \n",
       "1485                                                                                                                                      This was the necessary consequence of our having followed (in imitation of previous theorists) several things that were plausible but really false.   \n",
       "1486                                                                                                                                         And this much of the work is dedicated to this imitation of previous theorists, with which I am concluding this second part of the Commentaries.   \n",
       "\n",
       "      SentIndex  Chapter  \\\n",
       "0           809      7.0   \n",
       "1           810      7.0   \n",
       "2           811      7.0   \n",
       "3           812      7.0   \n",
       "4           813      7.0   \n",
       "...         ...      ...   \n",
       "1482       2328     21.0   \n",
       "1483       2329     21.0   \n",
       "1484       2330     21.0   \n",
       "1485       2331     21.0   \n",
       "1486       2332     21.0   \n",
       "\n",
       "                                                                                                                                                                                                                                                                                                                                                                                                                                                                                                                                                                                                                                                                                                                                                                                                                                                                                                                                                                  Paragraph  \\\n",
       "0                                                                                                                                                                                                                                                                                                                                                                                                                                                                                                                                                                                                                                                                                                                                                                                                                                                                                                                                                                Chapter 7    \n",
       "1                                                                                                                                                                                                                                                                                                                                                                                                                                                                                                                                                                                                                                                                                                                                                                                                                                                                                                         The circumstances under which I happened upon the theory of Mars.   \n",
       "2                                                                                                                                                                                                                                                                                                                                                                                                                                 It is true that a divine voice, which enjoins humans to study astronomy, is expressed in the world itself, not in words or syllables, but in things themselves and in the conformity of the human intellect and senses with the sequence of celestial bodies and of their dispositions. Nevertheless, a kind of fate also invisibly drives different individuals to take up different arts, and makes them certain that, just as they are a part of the work of creation, they likewise also partake to some extent in divine providence.   \n",
       "3                                                                                                                                                                                                                                                                                                                                                                                                                                 It is true that a divine voice, which enjoins humans to study astronomy, is expressed in the world itself, not in words or syllables, but in things themselves and in the conformity of the human intellect and senses with the sequence of celestial bodies and of their dispositions. Nevertheless, a kind of fate also invisibly drives different individuals to take up different arts, and makes them certain that, just as they are a part of the work of creation, they likewise also partake to some extent in divine providence.   \n",
       "4                                                                                                         When, in my early years, I was able to taste the sweetness of philosophy, I embraced the whole of it with an overwhelming desire, and with practically no special concern about astronomy. I certainly had enough intelligence, nor did I have any difficulty understanding the geometrical and astronomical topics included in the normal curriculum, aided as I was by figures, numbers, and proportions. These were, however, required courses, nothing that would bespeak an exceptional inclination towards astronomy. And since I was supported at the expense of the Duke of Württemberg, and saw my comrades, whom the Prince, upon request, kept trying to send to foreign countries, stalling in various ways out of love for their country, I, being hardier, quite maturely agreed with myself that whithersoever I was destined I would promptly go.   \n",
       "...                                                                                                                                                                                                                                                                                                                                                                                                                                                                                                                                                                                                                                                                                                                                                                                                                                                                                                                                                                     ...   \n",
       "1482  Up to the present, the hypothesis accounting for the first inequality (in which Brahe and Copernicus are in agreement, both differing somewhat in form from Ptolemy) has been presented using the sun's mean motion, which all three authors had substituted for the sun's apparent motion. Thereafter, it was shown that whether we follow the sun's apparent motion and the hypothesis found in Ch. 16, or the sun's mean motion and the hypothesis proposed in Ch. 8 according to Brahe's revision, in both instances there result false distances of the planet from the center, whether of the sun (for Copernicus and Brahe) or of the world (for Ptolemy). Consequently, what we had previously constructed from the Brahean observations we have later in turn destroyed using other observations of his. This was the necessary consequence of our having followed (in imitation of previous theorists) several things that were plausible but really false.   \n",
       "1483  Up to the present, the hypothesis accounting for the first inequality (in which Brahe and Copernicus are in agreement, both differing somewhat in form from Ptolemy) has been presented using the sun's mean motion, which all three authors had substituted for the sun's apparent motion. Thereafter, it was shown that whether we follow the sun's apparent motion and the hypothesis found in Ch. 16, or the sun's mean motion and the hypothesis proposed in Ch. 8 according to Brahe's revision, in both instances there result false distances of the planet from the center, whether of the sun (for Copernicus and Brahe) or of the world (for Ptolemy). Consequently, what we had previously constructed from the Brahean observations we have later in turn destroyed using other observations of his. This was the necessary consequence of our having followed (in imitation of previous theorists) several things that were plausible but really false.   \n",
       "1484  Up to the present, the hypothesis accounting for the first inequality (in which Brahe and Copernicus are in agreement, both differing somewhat in form from Ptolemy) has been presented using the sun's mean motion, which all three authors had substituted for the sun's apparent motion. Thereafter, it was shown that whether we follow the sun's apparent motion and the hypothesis found in Ch. 16, or the sun's mean motion and the hypothesis proposed in Ch. 8 according to Brahe's revision, in both instances there result false distances of the planet from the center, whether of the sun (for Copernicus and Brahe) or of the world (for Ptolemy). Consequently, what we had previously constructed from the Brahean observations we have later in turn destroyed using other observations of his. This was the necessary consequence of our having followed (in imitation of previous theorists) several things that were plausible but really false.   \n",
       "1485  Up to the present, the hypothesis accounting for the first inequality (in which Brahe and Copernicus are in agreement, both differing somewhat in form from Ptolemy) has been presented using the sun's mean motion, which all three authors had substituted for the sun's apparent motion. Thereafter, it was shown that whether we follow the sun's apparent motion and the hypothesis found in Ch. 16, or the sun's mean motion and the hypothesis proposed in Ch. 8 according to Brahe's revision, in both instances there result false distances of the planet from the center, whether of the sun (for Copernicus and Brahe) or of the world (for Ptolemy). Consequently, what we had previously constructed from the Brahean observations we have later in turn destroyed using other observations of his. This was the necessary consequence of our having followed (in imitation of previous theorists) several things that were plausible but really false.   \n",
       "1486                                                                                                                                                                                                                                                                                                                                                                                                                                                                                                                                                                                                                                                                                                                                                                                                                       And this much of the work is dedicated to this imitation of previous theorists, with which I am concluding this second part of the Commentaries.   \n",
       "\n",
       "      ParaIndex  \\\n",
       "0           167   \n",
       "1           168   \n",
       "2           169   \n",
       "3           169   \n",
       "4           170   \n",
       "...         ...   \n",
       "1482        482   \n",
       "1483        482   \n",
       "1484        482   \n",
       "1485        482   \n",
       "1486        483   \n",
       "\n",
       "                                                                                                                                                         ASO  \\\n",
       "0                                                                                                                                         {'act': 'Chapter'}   \n",
       "1                                                                                                                                   {'act': 'circumstances'}   \n",
       "2                                                                                                                             {'act': 'is', 'subject': 'it'}   \n",
       "3                                                                                      {'act': 'drives', 'subject': 'kind', 'obj': 'different individuals '}   \n",
       "4                                                                                             {'act': 'embraced', 'subject': 'i', 'obj': 'the whole of it '}   \n",
       "...                                                                                                                                                      ...   \n",
       "1482                                                                                                                                           {'act': '16'}   \n",
       "1483  {'act': 'result', 'obj': 'false distances of the planet from the center, whether of the sun (for Copernicus and Brahe) or of the world (for Ptolemy)'}   \n",
       "1484                                                                                                                                    {'act': 'destroyed'}   \n",
       "1485                                                                                                                       {'act': 'was', 'subject': 'this'}   \n",
       "1486                                                                                                                                    {'act': 'dedicated'}   \n",
       "\n",
       "                  Entities       CNER  Label  \n",
       "0                       []  [0, 0, 0]      0  \n",
       "1           [[Mars, PLAN]]  [0, 0, 0]      0  \n",
       "2                       []  [0, 0, 0]      0  \n",
       "3                       []  [0, 0, 0]      0  \n",
       "4                       []  [0, 0, 0]      0  \n",
       "...                    ...        ...    ...  \n",
       "1482                    []  [0, 0, 0]      0  \n",
       "1483  [[Copernicus, NAME]]  [0, 0, 0]      0  \n",
       "1484     [[Brahean, NAME]]  [0, 0, 0]      0  \n",
       "1485                    []  [0, 0, 0]      0  \n",
       "1486                    []  [0, 0, 0]      0  \n",
       "\n",
       "[1487 rows x 9 columns]"
      ]
     },
     "execution_count": 41,
     "metadata": {},
     "output_type": "execute_result"
    }
   ],
   "source": [
    "X_NObs"
   ]
  },
  {
   "cell_type": "code",
   "execution_count": 42,
   "metadata": {},
   "outputs": [],
   "source": [
    "x_obs = X_Obs.loc[0:, 'Sentence'].values\n",
    "x_nobs = X_NObs.loc[0:36, 'Sentence'].values\n"
   ]
  },
  {
   "cell_type": "code",
   "execution_count": 43,
   "metadata": {},
   "outputs": [
    {
     "data": {
      "text/plain": [
       "37"
      ]
     },
     "execution_count": 43,
     "metadata": {},
     "output_type": "execute_result"
    }
   ],
   "source": [
    "number_of_samples = len(Y_Obs)\n",
    "Y_NObs=random.sample(Y_NObs,NumberObs);\n",
    "len(Y_NObs)"
   ]
  },
  {
   "cell_type": "code",
   "execution_count": 44,
   "metadata": {},
   "outputs": [],
   "source": [
    "y=Y_NObs+Y_Obs"
   ]
  },
  {
   "cell_type": "code",
   "execution_count": 45,
   "metadata": {},
   "outputs": [],
   "source": [
    "X1=x_nobs.tolist()"
   ]
  },
  {
   "cell_type": "code",
   "execution_count": 46,
   "metadata": {},
   "outputs": [],
   "source": [
    "X2=x_obs.tolist()"
   ]
  },
  {
   "cell_type": "code",
   "execution_count": 47,
   "metadata": {},
   "outputs": [],
   "source": [
    "X=X1+X2"
   ]
  },
  {
   "cell_type": "code",
   "execution_count": 48,
   "metadata": {},
   "outputs": [
    {
     "data": {
      "text/plain": [
       "74"
      ]
     },
     "execution_count": 48,
     "metadata": {},
     "output_type": "execute_result"
    }
   ],
   "source": [
    "len(X)"
   ]
  },
  {
   "cell_type": "markdown",
   "metadata": {},
   "source": [
    "# Distribution of Samples  after downsampling"
   ]
  },
  {
   "cell_type": "code",
   "execution_count": 49,
   "metadata": {},
   "outputs": [],
   "source": [
    "category=Counter(y)\n",
    "count=dict(category)"
   ]
  },
  {
   "cell_type": "code",
   "execution_count": 50,
   "metadata": {},
   "outputs": [
    {
     "data": {
      "text/plain": [
       "Text(0.5, 1.0, 'Distribution of samples over different classes')"
      ]
     },
     "execution_count": 50,
     "metadata": {},
     "output_type": "execute_result"
    },
    {
     "data": {
      "image/png": "[encoded data removed]",
      "text/plain": [
       "<Figure size 432x288 with 1 Axes>"
      ]
     },
     "metadata": {
      "needs_background": "light"
     },
     "output_type": "display_data"
    }
   ],
   "source": [
    "plt.bar(list(count.keys()),count.values(),color=\"r\",width=.4,tick_label=[\"1\",\"0\"])\n",
    "plt.title(\"Distribution of samples over different classes\")"
   ]
  },
  {
   "cell_type": "code",
   "execution_count": 51,
   "metadata": {},
   "outputs": [],
   "source": [
    "X,y = shuffle(X, y, random_state=42)\n",
    "X_train, X_test, y_train, y_test = train_test_split(\n",
    "X,y, test_size=0.10, random_state=42)  "
   ]
  },
  {
   "cell_type": "markdown",
   "metadata": {},
   "source": [
    "# 1- Random Forest"
   ]
  },
  {
   "cell_type": "code",
   "execution_count": 52,
   "metadata": {},
   "outputs": [
    {
     "data": {
      "text/plain": [
       "Pipeline(memory=None,\n",
       "         steps=[('vect',\n",
       "                 TfidfVectorizer(analyzer='word', binary=False,\n",
       "                                 decode_error='strict',\n",
       "                                 dtype=<class 'numpy.float64'>,\n",
       "                                 encoding='utf-8', input='content',\n",
       "                                 lowercase=True, max_df=1.0, max_features=None,\n",
       "                                 min_df=1, ngram_range=(1, 1), norm='l2',\n",
       "                                 preprocessor=None, smooth_idf=True,\n",
       "                                 stop_words=None, strip_accents=None,\n",
       "                                 sublinear_tf=False,\n",
       "                                 token_pattern='(...\n",
       "                 RandomForestClassifier(bootstrap=True, class_weight=None,\n",
       "                                        criterion='gini', max_depth=None,\n",
       "                                        max_features='auto',\n",
       "                                        max_leaf_nodes=None,\n",
       "                                        min_impurity_decrease=0.0,\n",
       "                                        min_impurity_split=None,\n",
       "                                        min_samples_leaf=1, min_samples_split=2,\n",
       "                                        min_weight_fraction_leaf=0.0,\n",
       "                                        n_estimators='warn', n_jobs=None,\n",
       "                                        oob_score=False, random_state=None,\n",
       "                                        verbose=0, warm_start=False))],\n",
       "         verbose=False)"
      ]
     },
     "execution_count": 52,
     "metadata": {},
     "output_type": "execute_result"
    }
   ],
   "source": [
    "trial_01"
   ]
  },
  {
   "cell_type": "code",
   "execution_count": 53,
   "metadata": {},
   "outputs": [
    {
     "data": {
      "text/plain": [
       "Pipeline(memory=None,\n",
       "         steps=[('vect',\n",
       "                 TfidfVectorizer(analyzer='word', binary=False,\n",
       "                                 decode_error='strict',\n",
       "                                 dtype=<class 'numpy.float64'>,\n",
       "                                 encoding='utf-8', input='content',\n",
       "                                 lowercase=True, max_df=1.0, max_features=None,\n",
       "                                 min_df=1, ngram_range=(1, 1), norm='l2',\n",
       "                                 preprocessor=None, smooth_idf=True,\n",
       "                                 stop_words=None, strip_accents=None,\n",
       "                                 sublinear_tf=False,\n",
       "                                 token_pattern='(...\n",
       "                 RandomForestClassifier(bootstrap=True, class_weight=None,\n",
       "                                        criterion='gini', max_depth=None,\n",
       "                                        max_features='auto',\n",
       "                                        max_leaf_nodes=None,\n",
       "                                        min_impurity_decrease=0.0,\n",
       "                                        min_impurity_split=None,\n",
       "                                        min_samples_leaf=1, min_samples_split=2,\n",
       "                                        min_weight_fraction_leaf=0.0,\n",
       "                                        n_estimators=10, n_jobs=None,\n",
       "                                        oob_score=False, random_state=None,\n",
       "                                        verbose=0, warm_start=False))],\n",
       "         verbose=False)"
      ]
     },
     "execution_count": 53,
     "metadata": {},
     "output_type": "execute_result"
    }
   ],
   "source": [
    "trial_01.fit(X_train,y_train)"
   ]
  },
  {
   "cell_type": "code",
   "execution_count": 54,
   "metadata": {},
   "outputs": [
    {
     "name": "stdout",
     "output_type": "stream",
     "text": [
      "[0.875      1.         1.         1.         1.         0.875\n",
      " 1.         0.66666667 1.         1.        ]\n",
      "Accuracy of : 0.942 ± 0.208\n"
     ]
    }
   ],
   "source": [
    "cross_validation_accuracy(trial_01,X,y,cv=10)"
   ]
  },
  {
   "cell_type": "code",
   "execution_count": 55,
   "metadata": {},
   "outputs": [
    {
     "name": "stdout",
     "output_type": "stream",
     "text": [
      "              precision    recall  f1-score   support\n",
      "\n",
      "           0       0.97      0.97      0.97        37\n",
      "           1       0.97      0.97      0.97        37\n",
      "\n",
      "    accuracy                           0.97        74\n",
      "   macro avg       0.97      0.97      0.97        74\n",
      "weighted avg       0.97      0.97      0.97        74\n",
      "\n"
     ]
    }
   ],
   "source": [
    "y_pred = cross_val_predict(trial_01, X, y, cv=10)\n",
    "\n",
    "cr=classification_report(y,y_pred)\n",
    "print(cr)\n",
    "cm = confusion_matrix(y_pred,y)"
   ]
  },
  {
   "cell_type": "code",
   "execution_count": 56,
   "metadata": {},
   "outputs": [
    {
     "name": "stdout",
     "output_type": "stream",
     "text": [
      "[[36  1]\n",
      " [ 1 36]]\n"
     ]
    }
   ],
   "source": [
    "print(cm)"
   ]
  },
  {
   "cell_type": "code",
   "execution_count": 57,
   "metadata": {},
   "outputs": [
    {
     "data": {
      "image/png": "[encoded data removed]",
      "text/plain": [
       "<Figure size 432x288 with 2 Axes>"
      ]
     },
     "metadata": {
      "needs_background": "light"
     },
     "output_type": "display_data"
    }
   ],
   "source": [
    "Colorful_Confusion_Matrix(y=y,y_test=y,y_pred=y_pred)"
   ]
  },
  {
   "cell_type": "code",
   "execution_count": 58,
   "metadata": {},
   "outputs": [],
   "source": [
    "precision, recall, thresholds = precision_recall_curve(y,y_pred)  \n",
    "auc_score = auc(recall, precision)\n"
   ]
  },
  {
   "cell_type": "code",
   "execution_count": 59,
   "metadata": {},
   "outputs": [
    {
     "data": {
      "image/png": "[encoded data removed]",
      "text/plain": [
       "<Figure size 432x288 with 1 Axes>"
      ]
     },
     "metadata": {
      "needs_background": "light"
     },
     "output_type": "display_data"
    },
    {
     "name": "stdout",
     "output_type": "stream",
     "text": [
      "AUC: 0.980\n"
     ]
    }
   ],
   "source": [
    "plot_pr(recall, precision)"
   ]
  },
  {
   "cell_type": "markdown",
   "metadata": {},
   "source": [
    "## 2-SGD"
   ]
  },
  {
   "cell_type": "code",
   "execution_count": 60,
   "metadata": {},
   "outputs": [
    {
     "data": {
      "text/plain": [
       "Pipeline(memory=None,\n",
       "         steps=[('vect',\n",
       "                 TfidfVectorizer(analyzer='word', binary=False,\n",
       "                                 decode_error='strict',\n",
       "                                 dtype=<class 'numpy.float64'>,\n",
       "                                 encoding='utf-8', input='content',\n",
       "                                 lowercase=True, max_df=1.0, max_features=None,\n",
       "                                 min_df=1, ngram_range=(1, 1), norm='l2',\n",
       "                                 preprocessor=None, smooth_idf=True,\n",
       "                                 stop_words=None, strip_accents=None,\n",
       "                                 sublinear_tf=False,\n",
       "                                 token_pattern='(...\n",
       "                 SGDClassifier(alpha=0.0001, average=False, class_weight=None,\n",
       "                               early_stopping=False, epsilon=0.1, eta0=0.0,\n",
       "                               fit_intercept=True, l1_ratio=0.15,\n",
       "                               learning_rate='optimal', loss='hinge',\n",
       "                               max_iter=1000, n_iter_no_change=5, n_jobs=None,\n",
       "                               penalty='l2', power_t=0.5, random_state=None,\n",
       "                               shuffle=True, tol=0.001, validation_fraction=0.1,\n",
       "                               verbose=0, warm_start=False))],\n",
       "         verbose=False)"
      ]
     },
     "execution_count": 60,
     "metadata": {},
     "output_type": "execute_result"
    }
   ],
   "source": [
    "trial_02"
   ]
  },
  {
   "cell_type": "code",
   "execution_count": 61,
   "metadata": {},
   "outputs": [
    {
     "data": {
      "text/plain": [
       "Pipeline(memory=None,\n",
       "         steps=[('vect',\n",
       "                 TfidfVectorizer(analyzer='word', binary=False,\n",
       "                                 decode_error='strict',\n",
       "                                 dtype=<class 'numpy.float64'>,\n",
       "                                 encoding='utf-8', input='content',\n",
       "                                 lowercase=True, max_df=1.0, max_features=None,\n",
       "                                 min_df=1, ngram_range=(1, 1), norm='l2',\n",
       "                                 preprocessor=None, smooth_idf=True,\n",
       "                                 stop_words=None, strip_accents=None,\n",
       "                                 sublinear_tf=False,\n",
       "                                 token_pattern='(...\n",
       "                 SGDClassifier(alpha=0.0001, average=False, class_weight=None,\n",
       "                               early_stopping=False, epsilon=0.1, eta0=0.0,\n",
       "                               fit_intercept=True, l1_ratio=0.15,\n",
       "                               learning_rate='optimal', loss='hinge',\n",
       "                               max_iter=1000, n_iter_no_change=5, n_jobs=None,\n",
       "                               penalty='l2', power_t=0.5, random_state=None,\n",
       "                               shuffle=True, tol=0.001, validation_fraction=0.1,\n",
       "                               verbose=0, warm_start=False))],\n",
       "         verbose=False)"
      ]
     },
     "execution_count": 61,
     "metadata": {},
     "output_type": "execute_result"
    }
   ],
   "source": [
    "trial_02.fit(X_train,y_train)"
   ]
  },
  {
   "cell_type": "code",
   "execution_count": 62,
   "metadata": {},
   "outputs": [],
   "source": [
    "y_pred=trial_02.predict(X_test)"
   ]
  },
  {
   "cell_type": "code",
   "execution_count": 63,
   "metadata": {},
   "outputs": [
    {
     "name": "stdout",
     "output_type": "stream",
     "text": [
      "[[4 0]\n",
      " [0 4]]\n",
      "              precision    recall  f1-score   support\n",
      "\n",
      "           0       1.00      1.00      1.00         4\n",
      "           1       1.00      1.00      1.00         4\n",
      "\n",
      "    accuracy                           1.00         8\n",
      "   macro avg       1.00      1.00      1.00         8\n",
      "weighted avg       1.00      1.00      1.00         8\n",
      "\n"
     ]
    }
   ],
   "source": [
    "cm=confusion_matrix(y_test,y_pred)\n",
    "print(cm)\n",
    "cr=classification_report(y_test,y_pred)\n",
    "print(cr)\n",
    "#Colorful_Confusion_Matrix(y, y_test, y_pred)\n"
   ]
  },
  {
   "cell_type": "code",
   "execution_count": 64,
   "metadata": {},
   "outputs": [
    {
     "name": "stdout",
     "output_type": "stream",
     "text": [
      "[1. 1. 1. 1. 1. 1. 1. 1. 1. 1.]\n",
      "Accuracy of : 1.000 ± 0.000\n"
     ]
    }
   ],
   "source": [
    "cross_validation_accuracy(trial_02,X,y,cv=10)"
   ]
  },
  {
   "cell_type": "code",
   "execution_count": 65,
   "metadata": {},
   "outputs": [
    {
     "name": "stdout",
     "output_type": "stream",
     "text": [
      "              precision    recall  f1-score   support\n",
      "\n",
      "           0       1.00      0.97      0.99        37\n",
      "           1       0.97      1.00      0.99        37\n",
      "\n",
      "    accuracy                           0.99        74\n",
      "   macro avg       0.99      0.99      0.99        74\n",
      "weighted avg       0.99      0.99      0.99        74\n",
      "\n",
      "[[36  0]\n",
      " [ 1 37]]\n"
     ]
    }
   ],
   "source": [
    "y_pred = cross_val_predict(trial_02, X, y, cv=10)\n",
    "\n",
    "cr=classification_report(y,y_pred)\n",
    "print(cr)\n",
    "cm = confusion_matrix(y_pred,y)\n",
    "print(cm)"
   ]
  },
  {
   "cell_type": "code",
   "execution_count": 66,
   "metadata": {},
   "outputs": [
    {
     "data": {
      "image/png": "[encoded data removed]",
      "text/plain": [
       "<Figure size 432x288 with 2 Axes>"
      ]
     },
     "metadata": {
      "needs_background": "light"
     },
     "output_type": "display_data"
    }
   ],
   "source": [
    "Colorful_Confusion_Matrix(y=y,y_test=y,y_pred=y_pred)"
   ]
  },
  {
   "cell_type": "code",
   "execution_count": 67,
   "metadata": {},
   "outputs": [],
   "source": [
    "precision, recall, thresholds = precision_recall_curve(y,y_pred)  \n",
    "auc_score = auc(recall, precision)\n"
   ]
  },
  {
   "cell_type": "code",
   "execution_count": 68,
   "metadata": {},
   "outputs": [
    {
     "data": {
      "image/png": "[encoded data removed]",
      "text/plain": [
       "<Figure size 432x288 with 1 Axes>"
      ]
     },
     "metadata": {
      "needs_background": "light"
     },
     "output_type": "display_data"
    },
    {
     "name": "stdout",
     "output_type": "stream",
     "text": [
      "AUC: 0.987\n"
     ]
    }
   ],
   "source": [
    "plot_pr(recall, precision)"
   ]
  },
  {
   "cell_type": "markdown",
   "metadata": {},
   "source": [
    "##  Save the down sampled model"
   ]
  },
  {
   "cell_type": "markdown",
   "metadata": {},
   "source": [
    "import pickle\n",
    "saved_model = pickle.dumps(trial_06)"
   ]
  },
  {
   "cell_type": "markdown",
   "metadata": {},
   "source": [
    "Pkl_Filename = \"Pickle_RF_RESAMPLED_Model_02.pkl\"  \n",
    "\n",
    "with open(Pkl_Filename, 'wb') as file:  \n",
    "    pickle.dump(trial_06, file)"
   ]
  }
 ],
 "metadata": {
  "kernelspec": {
   "display_name": "Python 3",
   "language": "python",
   "name": "python3"
  },
  "language_info": {
   "codemirror_mode": {
    "name": "ipython",
    "version": 3
   },
   "file_extension": ".py",
   "mimetype": "text/x-python",
   "name": "python",
   "nbconvert_exporter": "python",
   "pygments_lexer": "ipython3",
   "version": "3.7.5"
  }
 },
 "nbformat": 4,
 "nbformat_minor": 4
}
