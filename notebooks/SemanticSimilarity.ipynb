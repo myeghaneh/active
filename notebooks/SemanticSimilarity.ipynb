{
 "cells": [
  {
   "cell_type": "markdown",
   "metadata": {},
   "source": [
    "# Find the similar sentences to the observational sentences"
   ]
  },
  {
   "cell_type": "code",
   "execution_count": 25,
   "metadata": {},
   "outputs": [],
   "source": [
    "import pandas as pd\n",
    "import numpy as np\n",
    "import matplotlib.pyplot as plt \n",
    "import spacy \n"
   ]
  },
  {
   "cell_type": "code",
   "execution_count": 3,
   "metadata": {},
   "outputs": [],
   "source": [
    "options = {\"compact\": True, \"bg\": \"#09a3d5\",\n",
    "           \"color\": \"white\", \"font\": \"Source Sans Pro\",\"collapse_phrases\":False}"
   ]
  },
  {
   "cell_type": "code",
   "execution_count": 4,
   "metadata": {},
   "outputs": [],
   "source": [
    "pd.set_option('display.max_colwidth', -1)\n",
    "pd.set_option('max_colwidth', 1000)\n"
   ]
  },
  {
   "cell_type": "markdown",
   "metadata": {},
   "source": [
    "# Resource"
   ]
  },
  {
   "cell_type": "code",
   "execution_count": 5,
   "metadata": {},
   "outputs": [],
   "source": [
    "dfp=pd.read_pickle('../data/dfV09A02.pkl');\n",
    "#df=pd.read_json('../data/dfV08A02.json');\n",
    "df=dfp.sort_index();\n",
    "df=dfp.reset_index(drop=True)"
   ]
  },
  {
   "cell_type": "markdown",
   "metadata": {},
   "source": [
    "# Observation"
   ]
  },
  {
   "cell_type": "code",
   "execution_count": 6,
   "metadata": {},
   "outputs": [],
   "source": [
    "def observationFilterV02(x):\n",
    "    list_en=[]\n",
    "    for idx in range(0,len(x)):\n",
    "        list_en.append(x[idx][1])\n",
    "    result= all(lst in list_en for lst in [\"COOR\",\"DATE\",\"TIME\"])\n",
    "    if result:\n",
    "        y=\"Obs\"\n",
    "    else:\n",
    "        y=\"NObs\"\n",
    "    return y"
   ]
  },
  {
   "cell_type": "code",
   "execution_count": 8,
   "metadata": {},
   "outputs": [],
   "source": [
    "df['Label'] = df['Entities'].apply(lambda x: observationFilterV02(x))"
   ]
  },
  {
   "cell_type": "code",
   "execution_count": null,
   "metadata": {},
   "outputs": [],
   "source": [
    "for sents in df.sent"
   ]
  },
  {
   "cell_type": "code",
   "execution_count": 44,
   "metadata": {},
   "outputs": [],
   "source": [
    "dfObs=df[df.Label==\"Obs\"]\n",
    "dfObs=dfObs.reset_index(drop=True)\n",
    "\n"
   ]
  },
  {
   "cell_type": "code",
   "execution_count": 91,
   "metadata": {},
   "outputs": [],
   "source": [
    "a=dfObs.Sentence[70]\n",
    "b=dfObs.Sentence[6]\n",
    "path= '../data/Model_U34'\n",
    "nlp=spacy.load(path)"
   ]
  },
  {
   "cell_type": "code",
   "execution_count": 92,
   "metadata": {},
   "outputs": [
    {
     "data": {
      "text/plain": [
       "array([ 1.10161483e+00,  2.60294294e+00, -1.39965773e+00,  1.10101748e+00,\n",
       "       -5.43183470e+00,  5.14059961e-01,  4.53215742e+00, -2.18196416e+00,\n",
       "       -1.90493941e+00,  1.05167067e+00, -2.45445371e+00, -1.32833600e+00,\n",
       "       -3.11212397e+00,  4.65950847e-01, -3.14371991e+00, -1.82313395e+00,\n",
       "       -2.71475315e-03, -7.06284881e-01, -2.00014687e+00, -1.29958224e+00,\n",
       "        3.09128475e+00,  3.46656948e-01, -1.74289453e+00,  1.86268187e+00,\n",
       "       -2.52925968e+00, -2.59773999e-01, -2.92086124e+00, -9.59339917e-01,\n",
       "       -1.16850615e-01,  8.12387466e-01,  4.26869678e+00,  1.50983167e+00,\n",
       "        4.48828411e+00,  2.17793512e+00, -1.59301686e+00,  4.49105358e+00,\n",
       "        9.90553737e-01, -2.32252312e+00, -8.64087760e-01, -2.60750771e-01,\n",
       "        2.48001862e+00,  1.91671824e+00,  4.36906815e+00,  3.51522267e-01,\n",
       "       -9.87650335e-01,  2.78686225e-01,  1.08576024e+00,  5.48883963e+00,\n",
       "        6.13325930e+00, -2.68722987e+00, -2.47350931e-02, -4.37394285e+00,\n",
       "        2.24319601e+00,  7.26659894e-01,  1.05025721e+00, -3.35513544e+00,\n",
       "       -3.04075122e+00, -1.39237165e+00,  5.50668097e+00, -2.89565772e-01,\n",
       "       -3.22335052e+00, -5.14299726e+00,  2.41419464e-01, -1.19593740e+00,\n",
       "       -7.36832440e-01,  1.32871509e-01,  5.96945643e-01, -1.52978539e+00,\n",
       "       -1.31744230e+00,  3.87454081e+00,  2.64255524e+00, -7.41112471e-01,\n",
       "        1.86779439e+00,  5.89571357e-01,  2.57066035e+00, -5.13373256e-01,\n",
       "       -1.04176545e+00, -3.73927593e-01, -8.09150696e-01, -5.66757107e+00,\n",
       "       -2.84334826e+00, -1.91054618e+00,  9.76713061e-01, -9.86553013e-01,\n",
       "       -2.92565536e+00, -2.04387689e+00,  2.86340117e+00,  1.30449176e+00,\n",
       "       -4.95420620e-02,  4.54460287e+00,  1.44317722e+00,  3.35003495e-01,\n",
       "       -2.68217134e+00, -1.30397964e+00, -4.22092885e-01,  2.93916178e+00],\n",
       "      dtype=float32)"
      ]
     },
     "execution_count": 92,
     "metadata": {},
     "output_type": "execute_result"
    }
   ],
   "source": [
    "doc1=nlp(a)\n",
    "aa=doc1[4].vector\n",
    "aa\n"
   ]
  },
  {
   "cell_type": "code",
   "execution_count": 93,
   "metadata": {},
   "outputs": [
    {
     "data": {
      "text/plain": [
       "array([ 0.3117599 , -0.27155942,  1.1431124 ,  0.72694033,  1.8810433 ,\n",
       "        0.3397083 ,  0.7691659 , -0.22509025,  0.81774634,  0.6022047 ,\n",
       "        0.56911963,  1.1130518 , -2.1428196 , -1.4943199 , -1.9346662 ,\n",
       "       -1.1946032 , -0.2631819 ,  0.32388574, -0.41438282,  0.14361419,\n",
       "        0.31976172, -0.98053825, -0.21801694, -0.6583892 , -1.2514976 ,\n",
       "        1.0610887 , -1.7491181 , -0.1225132 ,  0.41296837, -0.9208792 ,\n",
       "        0.40700197, -0.19922271,  0.73508525, -0.10482543,  0.15319768,\n",
       "       -1.0236677 , -0.06586518, -0.48312086,  1.0014414 , -0.010438  ,\n",
       "        0.7518463 ,  0.63202304, -0.6439572 , -2.2900572 , -0.934172  ,\n",
       "       -1.0845414 ,  1.1210533 , -0.4922062 ,  0.0972373 ,  0.5082562 ,\n",
       "       -0.22204968, -1.2905068 , -0.4784814 , -0.14331499, -0.69091254,\n",
       "        1.1023749 , -0.26297393,  1.1784682 ,  1.7792532 ,  0.3259743 ,\n",
       "        1.0550491 , -0.45288414,  1.1229023 , -0.44714692,  1.1668059 ,\n",
       "       -0.28845152,  1.7321237 , -1.5400957 , -0.8680104 ,  1.7036363 ,\n",
       "        1.5209327 , -0.70676696,  0.63541394, -0.23108457,  0.2174909 ,\n",
       "       -0.824461  ,  0.05996948,  1.3587333 ,  0.30148783, -0.5588379 ,\n",
       "       -0.10633146, -1.1960007 ,  0.95958966,  0.15803525,  2.0238678 ,\n",
       "        0.89191055, -0.01516866, -0.0102955 , -0.9015833 , -0.5396597 ,\n",
       "       -0.67356384, -1.0961225 ,  0.44698104, -0.43097603,  1.0039952 ,\n",
       "        0.92707556], dtype=float32)"
      ]
     },
     "execution_count": 93,
     "metadata": {},
     "output_type": "execute_result"
    }
   ],
   "source": [
    "doc2=nlp(b)\n",
    "bb=doc2.vector\n",
    "bb"
   ]
  },
  {
   "cell_type": "code",
   "execution_count": 95,
   "metadata": {},
   "outputs": [
    {
     "data": {
      "text/plain": [
       "array([ 0.70668733,  1.1656917 , -0.12827265,  0.91397893, -1.7753956 ,\n",
       "        0.4268841 ,  2.6506617 , -1.2035272 , -0.5435965 ,  0.8269377 ,\n",
       "       -0.942667  , -0.10764211, -2.627472  , -0.51418453, -2.5391932 ,\n",
       "       -1.5088686 , -0.13294832, -0.19119957, -1.2072649 , -0.57798404,\n",
       "        1.7055233 , -0.31694067, -0.98045576,  0.6021463 , -1.8903787 ,\n",
       "        0.40065736, -2.3349895 , -0.5409266 ,  0.14805888, -0.05424586,\n",
       "        2.3378494 ,  0.6553045 ,  2.6116848 ,  1.0365548 , -0.7199096 ,\n",
       "        1.7336929 ,  0.4623443 , -1.402822  ,  0.0686768 , -0.13559438,\n",
       "        1.6159325 ,  1.2743707 ,  1.8625555 , -0.9692675 , -0.96091115,\n",
       "       -0.4029276 ,  1.1034068 ,  2.4983168 ,  3.1152482 , -1.0894868 ,\n",
       "       -0.12339239, -2.8322248 ,  0.8823573 ,  0.29167247,  0.17967233,\n",
       "       -1.1263802 , -1.6518626 , -0.10695171,  3.6429672 ,  0.01820426,\n",
       "       -1.0841508 , -2.7979407 ,  0.68216085, -0.82154214,  0.21498671,\n",
       "       -0.07779001,  1.1645347 , -1.5349405 , -1.0927263 ,  2.7890885 ,\n",
       "        2.081744  , -0.7239397 ,  1.2516042 ,  0.17924339,  1.3940756 ,\n",
       "       -0.6689171 , -0.49089798,  0.49240285, -0.25383145, -3.1132045 ,\n",
       "       -1.4748398 , -1.5532734 ,  0.96815133, -0.4142589 , -0.45089376,\n",
       "       -0.57598317,  1.4241163 ,  0.6470981 , -0.4755627 ,  2.0024717 ,\n",
       "        0.3848067 , -0.3805595 , -1.1175952 , -0.86747783,  0.29095113,\n",
       "        1.9331187 ], dtype=float32)"
      ]
     },
     "execution_count": 95,
     "metadata": {},
     "output_type": "execute_result"
    }
   ],
   "source": [
    "np.add(aa,bb)/2"
   ]
  },
  {
   "cell_type": "code",
   "execution_count": 53,
   "metadata": {},
   "outputs": [
    {
     "name": "stderr",
     "output_type": "stream",
     "text": [
      "C:\\Users\\moha\\Anaconda3\\envs\\env_full\\lib\\runpy.py:193: ModelsWarning: [W007] The model you're using has no word vectors loaded, so the result of the Doc.similarity method will be based on the tagger, parser and NER, which may not give useful similarity judgements. This may happen if you're using one of the small models, e.g. `en_core_web_sm`, which don't ship with word vectors and only use context-sensitive tensors. You can always add your own word vectors, or use one of the larger models instead if available.\n",
      "  \"__main__\", mod_spec)\n"
     ]
    },
    {
     "data": {
      "text/plain": [
       "0.8328171811537985"
      ]
     },
     "execution_count": 53,
     "metadata": {},
     "output_type": "execute_result"
    }
   ],
   "source": [
    "doc1.similarity(doc2)"
   ]
  },
  {
   "cell_type": "code",
   "execution_count": 101,
   "metadata": {},
   "outputs": [],
   "source": [
    "a=[]\n",
    "for sents in dfObs.Sentence:\n",
    "    doc=nlp(sents)\n",
    "    a.append(doc.vector)\n",
    "semantic_average=sum(a)/len(a)\n",
    "    \n"
   ]
  },
  {
   "cell_type": "code",
   "execution_count": 102,
   "metadata": {},
   "outputs": [
    {
     "data": {
      "text/plain": [
       "array([ 0.10821147, -0.1674972 ,  0.79020613,  0.56272656,  1.5129876 ,\n",
       "        0.7208032 ,  0.5208853 , -0.04645138,  0.3659143 ,  0.7447506 ,\n",
       "        0.21736965,  1.0267193 , -1.7677546 , -0.9865966 , -1.6195579 ,\n",
       "       -0.83372355, -0.4311995 ,  0.09823318, -0.36340246,  0.08800928,\n",
       "        0.7442586 , -0.5924376 , -0.24621664, -0.2817871 , -1.0920281 ,\n",
       "        0.9129751 , -1.5662352 , -0.07505219,  0.4822973 , -0.8672756 ,\n",
       "        0.5646673 , -0.11896257,  0.5570448 , -0.3764332 ,  0.12790537,\n",
       "       -0.8113115 ,  0.26359254, -0.39897767,  0.5447515 ,  0.03461339,\n",
       "        0.94605386,  0.43591258, -0.46881846, -2.1638057 , -0.95295686,\n",
       "       -0.8387078 ,  0.8992821 , -0.25660166,  0.2041924 ,  0.49973816,\n",
       "        0.2979111 , -1.5623603 , -0.3846482 ,  0.00752864, -0.80642164,\n",
       "        1.0820737 , -0.27460942,  0.98035663,  1.4411994 ,  0.19018468,\n",
       "        0.9212865 , -0.2188461 ,  1.4127153 , -0.2873841 ,  0.91047335,\n",
       "       -0.3317951 ,  1.6691685 , -1.5695467 , -0.7075689 ,  1.3860009 ,\n",
       "        1.3306272 , -0.8960423 ,  0.8721925 , -0.1830885 ,  0.09521001,\n",
       "       -0.31334898,  0.36803368,  0.7479344 , -0.11002001, -0.78045255,\n",
       "       -0.07519604, -0.79128563,  0.7187832 , -0.02189052,  1.5384661 ,\n",
       "        0.27884203,  0.0455791 ,  0.01630836, -0.8847184 , -0.05588548,\n",
       "       -0.74189407, -0.9488329 ,  0.06770756, -0.35571486,  0.8492952 ,\n",
       "        0.8564406 ], dtype=float32)"
      ]
     },
     "execution_count": 102,
     "metadata": {},
     "output_type": "execute_result"
    }
   ],
   "source": [
    "semantic_average"
   ]
  },
  {
   "cell_type": "code",
   "execution_count": null,
   "metadata": {},
   "outputs": [],
   "source": [
    "for df in dfObs.Sentence\n",
    "    "
   ]
  }
 ],
 "metadata": {
  "kernelspec": {
   "display_name": "Python 3",
   "language": "python",
   "name": "python3"
  },
  "language_info": {
   "codemirror_mode": {
    "name": "ipython",
    "version": 3
   },
   "file_extension": ".py",
   "mimetype": "text/x-python",
   "name": "python",
   "nbconvert_exporter": "python",
   "pygments_lexer": "ipython3",
   "version": "3.7.5"
  }
 },
 "nbformat": 4,
 "nbformat_minor": 2
}
