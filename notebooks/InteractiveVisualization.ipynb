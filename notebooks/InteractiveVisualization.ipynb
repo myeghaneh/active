{
 "cells": [
  {
   "cell_type": "markdown",
   "metadata": {},
   "source": [
    "##  Interactive Analysis and Visualization of Sentences of   \"Astronomia nova\" (Spacy 2.1.8)\n",
    " Gerd Graßhoff$^{(1,2)}$, Mohammad Yeghaneh$^{(2)}$\n",
    "\n",
    "1: Max-Planck-Institute for the History of Science, Berlin\n",
    "\n",
    "2: Humboldt University, Berlin\n",
    "\n",
    "Date: November 2019"
   ]
  },
  {
   "cell_type": "code",
   "execution_count": 1,
   "metadata": {},
   "outputs": [],
   "source": [
    "import pandas as pd\n",
    "import numpy as np\n",
    "%load_ext autoreload\n",
    "%autoreload 2\n",
    "from warnings import filterwarnings\n",
    "filterwarnings('ignore')\n",
    "import matplotlib.pyplot as plt \n",
    "import ipywidgets as widget\n",
    "from ipywidgets import interact, widgets\n",
    "import networkx as nx\n"
   ]
  },
  {
   "cell_type": "code",
   "execution_count": 2,
   "metadata": {},
   "outputs": [],
   "source": [
    "options = {\"compact\": True, \"bg\": \"#09a3d5\",\n",
    "           \"color\": \"white\", \"font\": \"Source Sans Pro\",\"collapse_phrases\":False}"
   ]
  },
  {
   "cell_type": "code",
   "execution_count": 3,
   "metadata": {},
   "outputs": [],
   "source": [
    "pd.set_option('display.max_colwidth', -1)\n",
    "pd.set_option('max_colwidth', 1000)\n"
   ]
  },
  {
   "cell_type": "markdown",
   "metadata": {},
   "source": [
    "## Resources"
   ]
  },
  {
   "cell_type": "markdown",
   "metadata": {},
   "source": [
    "### Import resources *"
   ]
  },
  {
   "cell_type": "code",
   "execution_count": 4,
   "metadata": {},
   "outputs": [],
   "source": [
    "# here I have tried citableclass using DOI and It works! after full agreement on the data (part of book) we can use it. Since we can not change it in Zenodo after upload."
   ]
  },
  {
   "cell_type": "code",
   "execution_count": 5,
   "metadata": {},
   "outputs": [],
   "source": [
    "df=pd.read_json('../data/dfV05A02.json');\n",
    "#df=pd.read_pickle('../data/dfV05A02.pkl');\n",
    "df=df.sort_index();\n",
    "df=df.reset_index(drop=True)"
   ]
  },
  {
   "cell_type": "code",
   "execution_count": 6,
   "metadata": {},
   "outputs": [
    {
     "data": {
      "text/plain": [
       "6699"
      ]
     },
     "execution_count": 6,
     "metadata": {},
     "output_type": "execute_result"
    }
   ],
   "source": [
    "len(df)"
   ]
  },
  {
   "cell_type": "markdown",
   "metadata": {},
   "source": [
    "# Explore over Sentences"
   ]
  },
  {
   "cell_type": "code",
   "execution_count": 7,
   "metadata": {},
   "outputs": [
    {
     "data": {
      "application/vnd.jupyter.widget-view+json": {
       "model_id": "6d3c4a3779aa47508982dc360de4615e",
       "version_major": 2,
       "version_minor": 0
      },
      "text/plain": [
       "interactive(children=(Text(value='SentIndex', description='column'), IntSlider(value=3350, description='x', ma…"
      ]
     },
     "metadata": {},
     "output_type": "display_data"
    }
   ],
   "source": [
    "@interact\n",
    "def ShowbyChapter( column='SentIndex', x=(1,len(df.SentIndex))):\n",
    "    return df.loc[df[column]==x ]"
   ]
  },
  {
   "cell_type": "markdown",
   "metadata": {},
   "source": [
    "### Load the customized SpaCy Model"
   ]
  },
  {
   "cell_type": "code",
   "execution_count": 8,
   "metadata": {},
   "outputs": [],
   "source": [
    "import spacy \n",
    "from spacy import displacy \n",
    "path= '../data/Model_U27'\n",
    "nlp=spacy.load(path)"
   ]
  },
  {
   "cell_type": "code",
   "execution_count": 9,
   "metadata": {},
   "outputs": [],
   "source": [
    "options={\"ents\": [\"TIME\", \"DATE\",\"PARA\",\"ASTR\",\"LONG\" ,\"STAR\",\"PLAN\",\"NAME\", \"GEOM\"],\"colors\":{\"TIME\":\"CORAL\",\"DATE\":\"TOMATO\",\"PARA\":\"LIGHGRAY\",\"ASTR\":\"AQUA\",\"LONG\":\"MAGENTA\",\"STAR\":\"GREEN\",\"PLAN\":\"LIME\",\"NAME\":\"ROSYBROWN\", \"GEOM\":\"BLUE\"}}"
   ]
  },
  {
   "cell_type": "markdown",
   "metadata": {},
   "source": [
    "## Interactive Visualization of Named Entity Recognition  "
   ]
  },
  {
   "cell_type": "code",
   "execution_count": 10,
   "metadata": {},
   "outputs": [
    {
     "data": {
      "application/vnd.jupyter.widget-view+json": {
       "model_id": "28ec8653c8ed4ceb8fffbf53d1b662ec",
       "version_major": 2,
       "version_minor": 0
      },
      "text/plain": [
       "interactive(children=(Text(value='SentIndex', description='column'), IntSlider(value=3349, description='x', ma…"
      ]
     },
     "metadata": {},
     "output_type": "display_data"
    }
   ],
   "source": [
    "@interact\n",
    "def ShowDetail(column='SentIndex', x=(0,len(df)-1)):\n",
    "    Sent=df.iloc[x,4];\n",
    "    doc=nlp(Sent)\n",
    "    displacy.render(doc,style=\"ent\",jupyter=\"True\",options=options )\n",
    "    return df.loc[df[column]==x ] \n"
   ]
  },
  {
   "cell_type": "markdown",
   "metadata": {},
   "source": [
    "## Interactive Visualization of Dependency Parsing "
   ]
  },
  {
   "cell_type": "code",
   "execution_count": 11,
   "metadata": {},
   "outputs": [
    {
     "data": {
      "application/vnd.jupyter.widget-view+json": {
       "model_id": "39453450cf404f6ca660fbecfdc5f752",
       "version_major": 2,
       "version_minor": 0
      },
      "text/plain": [
       "interactive(children=(Text(value='SentIndex', description='column'), IntSlider(value=3349, description='x', ma…"
      ]
     },
     "metadata": {},
     "output_type": "display_data"
    }
   ],
   "source": [
    "@interact\n",
    "def ShowInteractiveDEP(column='SentIndex', x=(0,len(df)-1)):\n",
    "    Sent=df.iloc[x,4];\n",
    "    doc=nlp(Sent)\n",
    "    displacy.render(doc, style=\"dep\",jupyter=True,)\n",
    "    return  df.loc[df[column]==x ]"
   ]
  },
  {
   "cell_type": "code",
   "execution_count": 12,
   "metadata": {},
   "outputs": [],
   "source": [
    "#define the similarity (in progress)\n",
    "\n",
    "def dice_coefficient(a, b):\n",
    "    a_bigrams = set(a)\n",
    "    b_bigrams = set(b)\n",
    "    overlap = len(a_bigrams & b_bigrams)\n",
    "    return overlap * 2.0/(len(a_bigrams) + len(b_bigrams))\n"
   ]
  },
  {
   "cell_type": "code",
   "execution_count": 13,
   "metadata": {},
   "outputs": [
    {
     "data": {
      "application/vnd.jupyter.widget-view+json": {
       "model_id": "b7e90e9378f74207917947089b21727c",
       "version_major": 2,
       "version_minor": 0
      },
      "text/plain": [
       "interactive(children=(Text(value='SentIndex', description='column'), IntSlider(value=3349, description='x', ma…"
      ]
     },
     "metadata": {},
     "output_type": "display_data"
    }
   ],
   "source": [
    "@interact\n",
    "def ShowInteractiveDEP(column='SentIndex', x=(0,len(df)-1)):\n",
    "    Para=df.iloc[x,3];\n",
    "    doc=nlp(Para)\n",
    "    sentences = [sent.string.strip() for sent in doc.sents]\n",
    "    print(sentences)\n",
    "    dfSents=pd.DataFrame(sentences)\n",
    "    dfSents.columns = [ \"Sentence\"]\n",
    "    edges = [(i,j,dice_coefficient(x,y)) for i,x in enumerate(sentences) for j,y in enumerate(sentences) if i < j];\n",
    "    plt.figure(figsize=(6,6))\n",
    "    G = nx.Graph()\n",
    "    G.add_edges_from((i,j) for i,j,sim in edges if sim >= .80)\n",
    "    pos = nx.spring_layout(G, k = 0.8)\n",
    "    nx.draw(G, with_labels=True, node_color='skyblue', node_size=1500, edge_cmap=plt.cm.Blues, pos = pos,font_size=10)\n",
    "    plt.show()\n",
    "    return df.loc[df[column]==x ]\n",
    "\n",
    "    "
   ]
  },
  {
   "cell_type": "code",
   "execution_count": null,
   "metadata": {},
   "outputs": [],
   "source": []
  }
 ],
 "metadata": {
  "kernelspec": {
   "display_name": "Python 3",
   "language": "python",
   "name": "python3"
  },
  "language_info": {
   "codemirror_mode": {
    "name": "ipython",
    "version": 3
   },
   "file_extension": ".py",
   "mimetype": "text/x-python",
   "name": "python",
   "nbconvert_exporter": "python",
   "pygments_lexer": "ipython3",
<<<<<<< HEAD
   "version": "3.7.5"
=======
   "version": "3.7.4"
>>>>>>> 57495603f1440a4d60b357fb659c6f298bbed098
  }
 },
 "nbformat": 4,
 "nbformat_minor": 4
}
